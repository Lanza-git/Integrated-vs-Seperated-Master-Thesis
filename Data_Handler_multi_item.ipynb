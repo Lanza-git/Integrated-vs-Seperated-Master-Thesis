{
 "cells": [
  {
   "cell_type": "markdown",
   "metadata": {},
   "source": [
    "# Create Data"
   ]
  },
  {
   "cell_type": "code",
   "execution_count": 1,
   "metadata": {},
   "outputs": [],
   "source": [
    "import requests\n",
    "import pandas as pd\n",
    "import numpy as np\n",
    "import random\n",
    "from faker import Faker\n",
    "import holidays\n",
    "from datetime import datetime\n",
    "\n",
    "# Set location to Germany\n",
    "faker = Faker('de_DE')\n",
    "german_holidays = holidays.Germany()\n",
    "\n",
    "# OpenWeatherMap API\n",
    "API_KEY = 'ffb423866f384a837117cf910ec31607'\n",
    "BASE_URL = 'http://api.openweathermap.org/data/2.5/weather'\n",
    "\n",
    "#Fetch the current temperature for a given city from OpenWeatherMap.\n",
    "def get_weather(city): \n",
    "    url = f\"{BASE_URL}?q={city},DE&appid={API_KEY}\"\n",
    "    response = requests.get(url)\n",
    "    if response.status_code == 200:\n",
    "        data = response.json()\n",
    "        # Convert Kelvin to Celsius\n",
    "        temperature = data['main']['temp'] - 273.15\n",
    "        return round(temperature, 2)\n",
    "    else:\n",
    "        return 0\n",
    "\n",
    "# Generate a list of cities \n",
    "def get_cities(number):\n",
    "    cities_set = set()\n",
    "    while len(cities_set) < number:\n",
    "        cities_set.add(faker.city())\n",
    "    return list(cities_set)\n",
    "\n",
    "# Generate dates\n",
    "def get_dates(number_dates, start_date):\n",
    "    start_date = pd.to_datetime(start_date)\n",
    "    return [start_date + pd.Timedelta(days=x) for x in range(number_dates)]\n",
    "\n",
    "# Generate a DataFrame with random data\n",
    "def generate_data(number_cities, number_dates, start_date):\n",
    "    cities = get_cities(number_cities)\n",
    "    dates = pd.to_datetime(get_dates(number_dates, start_date) )\n",
    "    \n",
    "    \n",
    "    # Generating the DataFrame\n",
    "    df = pd.DataFrame({\n",
    "        'day': dates.day,\n",
    "        'month': dates.month,\n",
    "        'year': dates.year,\n",
    "        'is_holiday': [date in german_holidays for date in dates],\n",
    "        'location': [random.choice(cities) for _ in dates],\n",
    "    })\n",
    "    \n",
    "    # Assigning temperatures to each row in the DataFrame\n",
    "    df['temperature'] = df['location'].apply(get_weather)\n",
    "\n",
    "    return df\n",
    "\n",
    "def generate_product_demands(data):\n",
    "    df = data.copy()\n",
    "    \n",
    "    # Assuming different random base demands for each product\n",
    "    base_demands = [random.randint(50, 100) for _ in range(6)]\n",
    "    \n",
    "    # Optimal temperature and sensitivity\n",
    "    optimal_temp = 25\n",
    "    temp_sensitivity = 1.5\n",
    "    \n",
    "    # Holiday demand increase percentage\n",
    "    holiday_multiplier = 1.2\n",
    "    \n",
    "    # Assign random location multipliers for all distinct locations\n",
    "    unique_locations = df['location'].unique()\n",
    "    location_multipliers = {loc: random.uniform(0.8, 1.2) for loc in unique_locations}\n",
    "    \n",
    "    # Initialize demand columns for each product\n",
    "    for i in range(6):\n",
    "        # Calculate base demand adjusted for holiday\n",
    "        df[f'product_{i+1}_demand'] = df['is_holiday'].apply(lambda x: base_demands[i] * holiday_multiplier if x else base_demands[i])\n",
    "        \n",
    "        # Adjust for temperature\n",
    "        df[f'product_{i+1}_demand'] += (np.abs(df['temperature'] - optimal_temp) * -temp_sensitivity)\n",
    "        \n",
    "        # Adjust for location multiplier\n",
    "        df[f'product_{i+1}_demand'] *= df['location'].apply(lambda loc: location_multipliers[loc])\n",
    "\n",
    "        # Round to nearest integer\n",
    "        df[f'product_{i+1}_demand'] = df[f'product_{i+1}_demand'].apply(round)\n",
    "    \n",
    "    return df[[ 'product_1_demand', 'product_2_demand', 'product_3_demand', 'product_4_demand', 'product_5_demand', 'product_6_demand']]\n",
    "\n",
    "\n"
   ]
  },
  {
   "cell_type": "code",
   "execution_count": null,
   "metadata": {},
   "outputs": [],
   "source": []
  },
  {
   "cell_type": "code",
   "execution_count": 2,
   "metadata": {},
   "outputs": [
    {
     "name": "stdout",
     "output_type": "stream",
     "text": [
      "   day  month  year  is_holiday                  location  temperature  \\\n",
      "0    1      1  2020        True                 Spremberg         3.80   \n",
      "1    2      1  2020       False            Recklinghausen         7.36   \n",
      "2    3      1  2020       False            Recklinghausen         7.36   \n",
      "3    4      1  2020       False                 Spremberg         3.80   \n",
      "4    5      1  2020       False                Schwandorf         5.15   \n",
      "5    6      1  2020       False                Schwandorf         5.15   \n",
      "6    7      1  2020       False  Rothenburg ob der Tauber         4.79   \n",
      "7    8      1  2020       False                   Wolfach         6.59   \n",
      "8    9      1  2020       False                     Wesel         7.84   \n",
      "9   10      1  2020       False                 Spremberg         3.80   \n",
      "\n",
      "   product_1_demand  product_2_demand  product_3_demand  product_4_demand  \\\n",
      "0                54                38                53                35   \n",
      "1                67                46                65                43   \n",
      "2                67                46                65                43   \n",
      "3                41                27                40                25   \n",
      "4                56                37                55                34   \n",
      "5                56                37                55                34   \n",
      "6                51                34                50                31   \n",
      "7                49                33                48                31   \n",
      "8                48                33                47                31   \n",
      "9                41                27                40                25   \n",
      "\n",
      "   product_5_demand  product_6_demand  \n",
      "0                39                27  \n",
      "1                49                33  \n",
      "2                49                33  \n",
      "3                29                18  \n",
      "4                40                26  \n",
      "5                40                26  \n",
      "6                36                23  \n",
      "7                35                24  \n",
      "8                35                24  \n",
      "9                29                18  \n"
     ]
    }
   ],
   "source": [
    "# Generate data\n",
    "feature_data = generate_data(10, 1000, '2020-01-01')\n",
    "target_data = generate_product_demands(feature_data)\n",
    "\n",
    "df = pd.concat([feature_data, target_data], axis=1)\n",
    "\n",
    "\n",
    "\n",
    "print(df.head(10))"
   ]
  },
  {
   "cell_type": "code",
   "execution_count": 5,
   "metadata": {},
   "outputs": [],
   "source": [
    "df.to_csv('Data_test_Multi_Raw/data.csv', index=False)"
   ]
  },
  {
   "cell_type": "markdown",
   "metadata": {},
   "source": [
    "# Visualize Data"
   ]
  },
  {
   "cell_type": "code",
   "execution_count": 4,
   "metadata": {},
   "outputs": [
    {
     "ename": "SyntaxError",
     "evalue": "unterminated string literal (detected at line 1) (2822351141.py, line 1)",
     "output_type": "error",
     "traceback": [
      "\u001b[1;36m  Cell \u001b[1;32mIn[4], line 1\u001b[1;36m\u001b[0m\n\u001b[1;33m    df.to_csv('Data_Test_v2/data.csv, index=False)\u001b[0m\n\u001b[1;37m              ^\u001b[0m\n\u001b[1;31mSyntaxError\u001b[0m\u001b[1;31m:\u001b[0m unterminated string literal (detected at line 1)\n"
     ]
    }
   ],
   "source": [
    "df.to_csv('Data_Test_v2/data.csv, index=False)\n"
   ]
  }
 ],
 "metadata": {
  "kernelspec": {
   "display_name": ".venv",
   "language": "python",
   "name": "python3"
  },
  "language_info": {
   "codemirror_mode": {
    "name": "ipython",
    "version": 3
   },
   "file_extension": ".py",
   "mimetype": "text/x-python",
   "name": "python",
   "nbconvert_exporter": "python",
   "pygments_lexer": "ipython3",
   "version": "3.11.7"
  }
 },
 "nbformat": 4,
 "nbformat_minor": 2
}
