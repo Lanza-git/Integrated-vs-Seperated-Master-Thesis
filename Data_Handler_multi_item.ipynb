{
 "cells": [
  {
   "cell_type": "code",
   "execution_count": 2,
   "metadata": {},
   "outputs": [
    {
     "name": "stdout",
     "output_type": "stream",
     "text": [
      "         date  store  item  sales  sales2  sales3\n",
      "0  2013-01-01      1     1     13      21       8\n",
      "1  2013-01-02      1     1     11      18       8\n",
      "2  2013-01-03      1     1     14      22      13\n",
      "3  2013-01-04      1     1     13      19      14\n",
      "4  2013-01-05      1     1     10      21       9\n",
      "        date   sales  sales2  sales3\n",
      "0 2012-12-31  102836   68325   33492\n",
      "1 2013-01-07  103879   68193   33322\n",
      "2 2013-01-14  102913   68246   33168\n",
      "3 2013-01-21  103437   68205   33348\n",
      "4 2013-01-28  110177   68135   33217\n"
     ]
    }
   ],
   "source": [
    "import numpy as np\n",
    "import pandas as pd\n",
    "\n",
    "df = pd.read_csv('train.csv')\n",
    "\n",
    "np.random.seed(42)\n",
    "\n",
    "df['sales2']= np.random.randint(15,25, size=len(df))\n",
    "df['sales3']= np.random.randint(5,15, size=len(df))\n",
    "\n",
    "print(df.head())\n",
    "\n",
    "df['date'] = pd.to_datetime(df['date']) - pd.to_timedelta(7, unit='d')\n",
    "df = df.groupby([pd.Grouper(key='date', freq='W-MON')]).sum().reset_index()\n",
    "df.drop(['item'], axis=1, inplace=True)\n",
    "df.drop(['store'], axis=1, inplace=True)\n",
    "\n",
    "print(df.head())"
   ]
  },
  {
   "cell_type": "code",
   "execution_count": 3,
   "metadata": {},
   "outputs": [],
   "source": [
    "# Feature engineering\n",
    "df['year'] = df['date'].dt.year\n",
    "df['month'] = df['date'].dt.month\n",
    "df['day'] = df['date'].dt.day"
   ]
  },
  {
   "cell_type": "code",
   "execution_count": 4,
   "metadata": {},
   "outputs": [],
   "source": [
    "from sklearn.model_selection import train_test_split\n",
    "\n",
    "# Split the data into training and testing sets\n",
    "data= df[['year','month','day']]\n",
    "target = df[['sales', 'sales2', 'sales3']]\n",
    "data_train, data_test, target_train, target_test = train_test_split(data, target, test_size=0.2)"
   ]
  },
  {
   "cell_type": "code",
   "execution_count": 5,
   "metadata": {},
   "outputs": [],
   "source": [
    "data_train.to_csv('Data_Test_v2/data_train.csv', index=False)\n",
    "data_test.to_csv('Data_Test_v2/data_test.csv', index=False)\n",
    "target_train.to_csv('Data_Test_v2/target_train.csv', index=False)\n",
    "target_test.to_csv('Data_Test_v2/target_test.csv', index=False)"
   ]
  }
 ],
 "metadata": {
  "kernelspec": {
   "display_name": ".venv",
   "language": "python",
   "name": "python3"
  },
  "language_info": {
   "codemirror_mode": {
    "name": "ipython",
    "version": 3
   },
   "file_extension": ".py",
   "mimetype": "text/x-python",
   "name": "python",
   "nbconvert_exporter": "python",
   "pygments_lexer": "ipython3",
   "version": "3.11.7"
  }
 },
 "nbformat": 4,
 "nbformat_minor": 2
}
