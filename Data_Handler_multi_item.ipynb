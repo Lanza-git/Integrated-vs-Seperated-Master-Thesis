{
 "cells": [
  {
   "cell_type": "markdown",
   "metadata": {},
   "source": [
    "# Create Data"
   ]
  },
  {
   "cell_type": "code",
   "execution_count": 5,
   "metadata": {},
   "outputs": [],
   "source": [
    "import requests\n",
    "import pandas as pd\n",
    "import numpy as np\n",
    "import random\n",
    "from faker import Faker\n",
    "import holidays\n",
    "from datetime import datetime\n",
    "\n",
    "# Set location to Germany\n",
    "faker = Faker('de_DE')\n",
    "german_holidays = holidays.Germany()\n",
    "\n",
    "# OpenWeatherMap API\n",
    "API_KEY = 'ffb423866f384a837117cf910ec31607'\n",
    "BASE_URL = 'http://api.openweathermap.org/data/2.5/weather'\n",
    "\n",
    "#Fetch the current temperature for a given city from OpenWeatherMap.\n",
    "def get_weather(city): \n",
    "    url = f\"{BASE_URL}?q={city},DE&appid={API_KEY}\"\n",
    "    response = requests.get(url)\n",
    "    if response.status_code == 200:\n",
    "        data = response.json()\n",
    "        # Convert Kelvin to Celsius\n",
    "        temperature = data['main']['temp'] - 273.15\n",
    "        return round(temperature, 2)\n",
    "    else:\n",
    "        return 0\n",
    "\n",
    "# Generate a list of cities \n",
    "def get_cities(number):\n",
    "    cities_set = set()\n",
    "    while len(cities_set) < number:\n",
    "        cities_set.add(faker.city())\n",
    "    return list(cities_set)\n",
    "\n",
    "# Generate dates\n",
    "def get_dates(number_dates, start_date):\n",
    "    start_date = pd.to_datetime(start_date)\n",
    "    return [start_date + pd.Timedelta(days=x) for x in range(number_dates)]\n",
    "\n",
    "# Generate a DataFrame with random data\n",
    "def generate_data(number_cities, number_dates, start_date):\n",
    "    cities = get_cities(number_cities)\n",
    "    dates = pd.to_datetime(get_dates(number_dates, start_date) )\n",
    "    \n",
    "    \n",
    "    # Generating the DataFrame\n",
    "    df = pd.DataFrame({\n",
    "        'day': dates.day,\n",
    "        'month': dates.month,\n",
    "        'year': dates.year,\n",
    "        'is_holiday': [date in german_holidays for date in dates],\n",
    "        'location': [random.choice(cities) for _ in dates],\n",
    "    })\n",
    "    \n",
    "    # Assigning temperatures to each row in the DataFrame\n",
    "    df['temperature'] = df['location'].apply(get_weather)\n",
    "\n",
    "    return df\n",
    "\n",
    "def generate_product_demands(data):\n",
    "    df = data.copy()\n",
    "    \n",
    "    # Assuming different random base demands for each product\n",
    "    base_demands = [random.randint(50, 100) for _ in range(6)]\n",
    "    \n",
    "    # Optimal temperature and sensitivity\n",
    "    optimal_temp = 25\n",
    "    temp_sensitivity = 1.5\n",
    "    \n",
    "    # Holiday demand increase percentage\n",
    "    holiday_multiplier = 1.2\n",
    "    \n",
    "    # Assign random location multipliers for all distinct locations\n",
    "    unique_locations = df['location'].unique()\n",
    "    location_multipliers = {loc: random.uniform(0.8, 1.2) for loc in unique_locations}\n",
    "    \n",
    "    # Initialize demand columns for each product\n",
    "    for i in range(6):\n",
    "        # Calculate base demand adjusted for holiday\n",
    "        df[f'product_{i+1}_demand'] = df['is_holiday'].apply(lambda x: base_demands[i] * holiday_multiplier if x else base_demands[i])\n",
    "        \n",
    "        # Adjust for temperature\n",
    "        df[f'product_{i+1}_demand'] += (np.abs(df['temperature'] - optimal_temp) * -temp_sensitivity)\n",
    "        \n",
    "        # Adjust for location multiplier\n",
    "        df[f'product_{i+1}_demand'] *= df['location'].apply(lambda loc: location_multipliers[loc])\n",
    "\n",
    "        # Round to nearest integer\n",
    "        df[f'product_{i+1}_demand'] = df[f'product_{i+1}_demand'].apply(round)\n",
    "    \n",
    "    return df[[ 'product_1_demand', 'product_2_demand', 'product_3_demand', 'product_4_demand', 'product_5_demand', 'product_6_demand']]\n",
    "\n",
    "\n"
   ]
  },
  {
   "cell_type": "code",
   "execution_count": null,
   "metadata": {},
   "outputs": [],
   "source": []
  },
  {
   "cell_type": "code",
   "execution_count": 6,
   "metadata": {},
   "outputs": [
    {
     "name": "stdout",
     "output_type": "stream",
     "text": [
      "   day  month  year  is_holiday          location  temperature\n",
      "0    1      1  2020        True  Osterode am Harz        10.24\n",
      "1    2      1  2020       False  Osterode am Harz        10.24\n",
      "2    3      1  2020       False          Mainburg         8.03\n",
      "3    4      1  2020       False        Holzminden         9.37\n",
      "4    5      1  2020       False          Grafenau         8.97\n"
     ]
    }
   ],
   "source": [
    "# Generate data\n",
    "feature_data = generate_data(10, 1000, '2020-01-01')\n",
    "target_data = generate_product_demands(feature_data)\n",
    "\n",
    "print(feature_data.head())"
   ]
  },
  {
   "cell_type": "markdown",
   "metadata": {},
   "source": [
    "# Visualize Data"
   ]
  },
  {
   "cell_type": "code",
   "execution_count": 7,
   "metadata": {},
   "outputs": [],
   "source": [
    "import matplotlib.pyplot as plt\n",
    "import seaborn as sns"
   ]
  },
  {
   "cell_type": "code",
   "execution_count": 8,
   "metadata": {},
   "outputs": [],
   "source": [
    "total_data = pd.concat([feature_data, target_data], axis=1)"
   ]
  },
  {
   "cell_type": "code",
   "execution_count": 9,
   "metadata": {},
   "outputs": [
    {
     "ename": "KeyError",
     "evalue": "'date'",
     "output_type": "error",
     "traceback": [
      "\u001b[1;31m---------------------------------------------------------------------------\u001b[0m",
      "\u001b[1;31mKeyError\u001b[0m                                  Traceback (most recent call last)",
      "File \u001b[1;32mc:\\Users\\lanza\\Integrated-vs-Seperated-Master-Thesis\\.venv\\Lib\\site-packages\\pandas\\core\\indexes\\base.py:3805\u001b[0m, in \u001b[0;36mIndex.get_loc\u001b[1;34m(self, key)\u001b[0m\n\u001b[0;32m   3804\u001b[0m \u001b[38;5;28;01mtry\u001b[39;00m:\n\u001b[1;32m-> 3805\u001b[0m     \u001b[38;5;28;01mreturn\u001b[39;00m \u001b[38;5;28;43mself\u001b[39;49m\u001b[38;5;241;43m.\u001b[39;49m\u001b[43m_engine\u001b[49m\u001b[38;5;241;43m.\u001b[39;49m\u001b[43mget_loc\u001b[49m\u001b[43m(\u001b[49m\u001b[43mcasted_key\u001b[49m\u001b[43m)\u001b[49m\n\u001b[0;32m   3806\u001b[0m \u001b[38;5;28;01mexcept\u001b[39;00m \u001b[38;5;167;01mKeyError\u001b[39;00m \u001b[38;5;28;01mas\u001b[39;00m err:\n",
      "File \u001b[1;32mindex.pyx:167\u001b[0m, in \u001b[0;36mpandas._libs.index.IndexEngine.get_loc\u001b[1;34m()\u001b[0m\n",
      "File \u001b[1;32mindex.pyx:196\u001b[0m, in \u001b[0;36mpandas._libs.index.IndexEngine.get_loc\u001b[1;34m()\u001b[0m\n",
      "File \u001b[1;32mpandas\\\\_libs\\\\hashtable_class_helper.pxi:7081\u001b[0m, in \u001b[0;36mpandas._libs.hashtable.PyObjectHashTable.get_item\u001b[1;34m()\u001b[0m\n",
      "File \u001b[1;32mpandas\\\\_libs\\\\hashtable_class_helper.pxi:7089\u001b[0m, in \u001b[0;36mpandas._libs.hashtable.PyObjectHashTable.get_item\u001b[1;34m()\u001b[0m\n",
      "\u001b[1;31mKeyError\u001b[0m: 'date'",
      "\nThe above exception was the direct cause of the following exception:\n",
      "\u001b[1;31mKeyError\u001b[0m                                  Traceback (most recent call last)",
      "Cell \u001b[1;32mIn[9], line 1\u001b[0m\n\u001b[1;32m----> 1\u001b[0m total_data[\u001b[38;5;124m'\u001b[39m\u001b[38;5;124mdate\u001b[39m\u001b[38;5;124m'\u001b[39m] \u001b[38;5;241m=\u001b[39m pd\u001b[38;5;241m.\u001b[39mto_datetime(\u001b[43mtotal_data\u001b[49m\u001b[43m[\u001b[49m\u001b[38;5;124;43m'\u001b[39;49m\u001b[38;5;124;43mdate\u001b[39;49m\u001b[38;5;124;43m'\u001b[39;49m\u001b[43m]\u001b[49m)\n\u001b[0;32m      3\u001b[0m \u001b[38;5;66;03m# Plotting demand for Product 1 over time\u001b[39;00m\n\u001b[0;32m      4\u001b[0m plt\u001b[38;5;241m.\u001b[39mfigure(figsize\u001b[38;5;241m=\u001b[39m(\u001b[38;5;241m10\u001b[39m, \u001b[38;5;241m6\u001b[39m))\n",
      "File \u001b[1;32mc:\\Users\\lanza\\Integrated-vs-Seperated-Master-Thesis\\.venv\\Lib\\site-packages\\pandas\\core\\frame.py:4090\u001b[0m, in \u001b[0;36mDataFrame.__getitem__\u001b[1;34m(self, key)\u001b[0m\n\u001b[0;32m   4088\u001b[0m \u001b[38;5;28;01mif\u001b[39;00m \u001b[38;5;28mself\u001b[39m\u001b[38;5;241m.\u001b[39mcolumns\u001b[38;5;241m.\u001b[39mnlevels \u001b[38;5;241m>\u001b[39m \u001b[38;5;241m1\u001b[39m:\n\u001b[0;32m   4089\u001b[0m     \u001b[38;5;28;01mreturn\u001b[39;00m \u001b[38;5;28mself\u001b[39m\u001b[38;5;241m.\u001b[39m_getitem_multilevel(key)\n\u001b[1;32m-> 4090\u001b[0m indexer \u001b[38;5;241m=\u001b[39m \u001b[38;5;28;43mself\u001b[39;49m\u001b[38;5;241;43m.\u001b[39;49m\u001b[43mcolumns\u001b[49m\u001b[38;5;241;43m.\u001b[39;49m\u001b[43mget_loc\u001b[49m\u001b[43m(\u001b[49m\u001b[43mkey\u001b[49m\u001b[43m)\u001b[49m\n\u001b[0;32m   4091\u001b[0m \u001b[38;5;28;01mif\u001b[39;00m is_integer(indexer):\n\u001b[0;32m   4092\u001b[0m     indexer \u001b[38;5;241m=\u001b[39m [indexer]\n",
      "File \u001b[1;32mc:\\Users\\lanza\\Integrated-vs-Seperated-Master-Thesis\\.venv\\Lib\\site-packages\\pandas\\core\\indexes\\base.py:3812\u001b[0m, in \u001b[0;36mIndex.get_loc\u001b[1;34m(self, key)\u001b[0m\n\u001b[0;32m   3807\u001b[0m     \u001b[38;5;28;01mif\u001b[39;00m \u001b[38;5;28misinstance\u001b[39m(casted_key, \u001b[38;5;28mslice\u001b[39m) \u001b[38;5;129;01mor\u001b[39;00m (\n\u001b[0;32m   3808\u001b[0m         \u001b[38;5;28misinstance\u001b[39m(casted_key, abc\u001b[38;5;241m.\u001b[39mIterable)\n\u001b[0;32m   3809\u001b[0m         \u001b[38;5;129;01mand\u001b[39;00m \u001b[38;5;28many\u001b[39m(\u001b[38;5;28misinstance\u001b[39m(x, \u001b[38;5;28mslice\u001b[39m) \u001b[38;5;28;01mfor\u001b[39;00m x \u001b[38;5;129;01min\u001b[39;00m casted_key)\n\u001b[0;32m   3810\u001b[0m     ):\n\u001b[0;32m   3811\u001b[0m         \u001b[38;5;28;01mraise\u001b[39;00m InvalidIndexError(key)\n\u001b[1;32m-> 3812\u001b[0m     \u001b[38;5;28;01mraise\u001b[39;00m \u001b[38;5;167;01mKeyError\u001b[39;00m(key) \u001b[38;5;28;01mfrom\u001b[39;00m \u001b[38;5;21;01merr\u001b[39;00m\n\u001b[0;32m   3813\u001b[0m \u001b[38;5;28;01mexcept\u001b[39;00m \u001b[38;5;167;01mTypeError\u001b[39;00m:\n\u001b[0;32m   3814\u001b[0m     \u001b[38;5;66;03m# If we have a listlike key, _check_indexing_error will raise\u001b[39;00m\n\u001b[0;32m   3815\u001b[0m     \u001b[38;5;66;03m#  InvalidIndexError. Otherwise we fall through and re-raise\u001b[39;00m\n\u001b[0;32m   3816\u001b[0m     \u001b[38;5;66;03m#  the TypeError.\u001b[39;00m\n\u001b[0;32m   3817\u001b[0m     \u001b[38;5;28mself\u001b[39m\u001b[38;5;241m.\u001b[39m_check_indexing_error(key)\n",
      "\u001b[1;31mKeyError\u001b[0m: 'date'"
     ]
    }
   ],
   "source": [
    "total_data['date'] = pd.to_datetime(total_data['date'])\n",
    "\n",
    "# Plotting demand for Product 1 over time\n",
    "plt.figure(figsize=(10, 6))\n",
    "plt.plot(total_data['date'], total_data['product_1_demand'], label='Product 1 Demand')\n",
    "plt.title('Product 1 Demand Over Time')\n",
    "plt.xlabel('Date')\n",
    "plt.ylabel('Demand')\n",
    "plt.legend()\n",
    "plt.show()"
   ]
  },
  {
   "cell_type": "code",
   "execution_count": null,
   "metadata": {},
   "outputs": [
    {
     "data": {
      "image/png": "[encoded data removed]",
      "text/plain": [
       "<Figure size 800x500 with 1 Axes>"
      ]
     },
     "metadata": {},
     "output_type": "display_data"
    }
   ],
   "source": [
    "# Calculate average demand for holidays and non-holidays\n",
    "avg_demand_holiday = total_data.groupby('is_holiday')['product_1_demand'].mean().reset_index()\n",
    "\n",
    "# Bar plot\n",
    "plt.figure(figsize=(8, 5))\n",
    "sns.barplot(x='is_holiday', y='product_1_demand', data=avg_demand_holiday)\n",
    "plt.title('Average Product 1 Demand: Holiday vs. Non-Holiday')\n",
    "plt.xlabel('Is Holiday')\n",
    "plt.ylabel('Average Demand')\n",
    "plt.xticks([0, 1], ['No', 'Yes'])  # Assuming True/False values for is_holiday\n",
    "plt.show()"
   ]
  },
  {
   "cell_type": "markdown",
   "metadata": {},
   "source": [
    "# Split and save data"
   ]
  },
  {
   "cell_type": "code",
   "execution_count": 10,
   "metadata": {},
   "outputs": [],
   "source": [
    "from sklearn.model_selection import train_test_split\n",
    "\n",
    "# Split the data into training and testing sets\n",
    "data_train, data_test, target_train, target_test = train_test_split(feature_data, target_data, test_size=0.2)"
   ]
  },
  {
   "cell_type": "code",
   "execution_count": 11,
   "metadata": {},
   "outputs": [],
   "source": [
    "data_train.to_csv('Data_Test_v2/data_train.csv', index=False)\n",
    "data_test.to_csv('Data_Test_v2/data_test.csv', index=False)\n",
    "target_train.to_csv('Data_Test_v2/target_train.csv', index=False)\n",
    "target_test.to_csv('Data_Test_v2/target_test.csv', index=False)"
   ]
  }
 ],
 "metadata": {
  "kernelspec": {
   "display_name": ".venv",
   "language": "python",
   "name": "python3"
  },
  "language_info": {
   "codemirror_mode": {
    "name": "ipython",
    "version": 3
   },
   "file_extension": ".py",
   "mimetype": "text/x-python",
   "name": "python",
   "nbconvert_exporter": "python",
   "pygments_lexer": "ipython3",
   "version": "3.11.7"
  }
 },
 "nbformat": 4,
 "nbformat_minor": 2
}
