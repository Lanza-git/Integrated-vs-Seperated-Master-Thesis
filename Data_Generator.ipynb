{
 "cells": [
  {
   "cell_type": "code",
   "execution_count": 1,
   "metadata": {},
   "outputs": [],
   "source": [
    "import numpy as np\n",
    "import pandas as pd\n",
    "from scipy.stats import multivariate_normal\n"
   ]
  },
  {
   "cell_type": "code",
   "execution_count": 2,
   "metadata": {},
   "outputs": [],
   "source": [
    "# Set up the matrices \n",
    "Phi1 = np.array([[0.5, -0.9, 0], \n",
    "                 [1.1, -0.7, 0], \n",
    "                 [0, 0, 0.5]])\n",
    "Phi2 = np.array([[0, -0.5, 0],\n",
    "                 [-0.5, 0, 0],\n",
    "                 [0, 0, 0]])\n",
    "\n",
    "Theta1 = np.array([[0.4, 0.8, 0],\n",
    "                   [-1.1, -0.3, 0],\n",
    "                   [0, 0, 0]])\n",
    "Theta2 = np.array([[0, -0.8, 0],\n",
    "                   [-1.1, 0, 0],\n",
    "                   [0, 0, 0]])\n",
    "\n",
    "# Define the covariance matrix for U\n",
    "sigma_U = np.zeros((3, 3))\n",
    "for i in range(3):\n",
    "    for j in range(3):\n",
    "        sigma_U[i, j] = ((-1)**(i+j) * 0.05)\n"
   ]
  },
  {
   "cell_type": "code",
   "execution_count": 3,
   "metadata": {},
   "outputs": [],
   "source": [
    "#Use NumPy to generate multivariate normal innovations.\n",
    "def generate_innovations(n_periods):\n",
    "    return multivariate_normal.rvs(mean=np.zeros(3), cov=sigma_U, size=n_periods)\n"
   ]
  },
  {
   "cell_type": "code",
   "execution_count": 4,
   "metadata": {},
   "outputs": [],
   "source": [
    "#Initialize the process and simulate over a given number of periods.\n",
    "def simulate_arma22(n_periods):\n",
    "    X = np.zeros((n_periods, 3))\n",
    "    U = generate_innovations(n_periods)\n",
    "\n",
    "    for t in range(2, n_periods):\n",
    "        X[t] = Phi1 @ X[t-1] + Phi2 @ X[t-2] + U[t] + Theta1 @ U[t-1] + Theta2 @ U[t-2]\n",
    "    return X\n"
   ]
  },
  {
   "cell_type": "code",
   "execution_count": 5,
   "metadata": {},
   "outputs": [],
   "source": [
    "A = 2.5 * np.eye(3)\n",
    "B = 7.5 * np.array([[0, -1, -1],\n",
    "                    [-1, 0, -1],\n",
    "                    [-1, -1, 0]])\n",
    "\n",
    "def generate_demand(X, epsilon):\n",
    "    delta = np.random.normal(0, 1, size=(len(X), 3)) / 4  # Independent noise\n",
    "    Y = np.maximum(0, X @ A.T + (X + delta) @ B.T + epsilon)\n",
    "    return Y\n"
   ]
  },
  {
   "cell_type": "code",
   "execution_count": 6,
   "metadata": {},
   "outputs": [],
   "source": [
    "n_periods = 100\n",
    "X = simulate_arma22(n_periods)\n",
    "epsilon = np.random.normal(0, 1, (n_periods, 3))\n",
    "Y = generate_demand(X, epsilon)\n"
   ]
  },
  {
   "cell_type": "code",
   "execution_count": 8,
   "metadata": {},
   "outputs": [
    {
     "name": "stdout",
     "output_type": "stream",
     "text": [
      "     Demand1   Demand2   Demand3\n",
      "0   0.000000  0.000000  0.000000\n",
      "1   1.432684  3.046718  0.679892\n",
      "2   0.000000  2.084631  0.000000\n",
      "3   1.484592  2.658390  4.355172\n",
      "4   0.286238  2.750635  2.447508\n",
      "..       ...       ...       ...\n",
      "95  0.000000  0.000000  0.000000\n",
      "96  0.000000  0.000000  4.911172\n",
      "97  0.000000  0.000000  0.000000\n",
      "98  1.726504  0.000000  5.133561\n",
      "99  0.000000  1.539247  0.000000\n",
      "\n",
      "[100 rows x 3 columns]\n"
     ]
    }
   ],
   "source": [
    "df = pd.DataFrame(Y, columns=['Demand1', 'Demand2', 'Demand3'])\n",
    "print(df)\n"
   ]
  }
 ],
 "metadata": {
  "kernelspec": {
   "display_name": ".venv",
   "language": "python",
   "name": "python3"
  },
  "language_info": {
   "codemirror_mode": {
    "name": "ipython",
    "version": 3
   },
   "file_extension": ".py",
   "mimetype": "text/x-python",
   "name": "python",
   "nbconvert_exporter": "python",
   "pygments_lexer": "ipython3",
   "version": "3.11.7"
  }
 },
 "nbformat": 4,
 "nbformat_minor": 2
}
