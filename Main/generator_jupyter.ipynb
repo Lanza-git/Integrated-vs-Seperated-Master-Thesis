{
 "cells": [
  {
   "cell_type": "code",
   "execution_count": 1,
   "metadata": {},
   "outputs": [],
   "source": [
    "from generator_utils import generate_demand, generate_innovations, generate_phi, generate_theta, generate_sigma_U, simulate_arma22\n",
    "import numpy as np"
   ]
  },
  {
   "cell_type": "code",
   "execution_count": 4,
   "metadata": {},
   "outputs": [
    {
     "ename": "TypeError",
     "evalue": "generate_demand() takes 1 positional argument but 2 were given",
     "output_type": "error",
     "traceback": [
      "\u001b[1;31m---------------------------------------------------------------------------\u001b[0m",
      "\u001b[1;31mTypeError\u001b[0m                                 Traceback (most recent call last)",
      "Cell \u001b[1;32mIn[4], line 34\u001b[0m\n\u001b[0;32m     31\u001b[0m X \u001b[38;5;241m=\u001b[39m simulate_arma22(n_periods\u001b[38;5;241m=\u001b[39mn_periods, Phi1\u001b[38;5;241m=\u001b[39mPhi1, Phi2\u001b[38;5;241m=\u001b[39mPhi2, Theta1\u001b[38;5;241m=\u001b[39mTheta1, Theta2\u001b[38;5;241m=\u001b[39mTheta2, sigma_U\u001b[38;5;241m=\u001b[39msigma_U, num_dimensions\u001b[38;5;241m=\u001b[39mdimensions)\n\u001b[0;32m     33\u001b[0m \u001b[38;5;66;03m# generate the demand\u001b[39;00m\n\u001b[1;32m---> 34\u001b[0m Y \u001b[38;5;241m=\u001b[39m \u001b[43mgenerate_demand\u001b[49m\u001b[43m(\u001b[49m\u001b[43mX\u001b[49m\u001b[43m[\u001b[49m\u001b[43m:\u001b[49m\u001b[43m,\u001b[49m\u001b[43m:\u001b[49m\u001b[38;5;241;43m3\u001b[39;49m\u001b[43m]\u001b[49m\u001b[43m,\u001b[49m\u001b[43m \u001b[49m\u001b[43mn_periods\u001b[49m\u001b[43m)\u001b[49m\n",
      "\u001b[1;31mTypeError\u001b[0m: generate_demand() takes 1 positional argument but 2 were given"
     ]
    }
   ],
   "source": [
    "dimensions = 9\n",
    "\n",
    "\"\"\"\n",
    "generate the covariance matrix for the innovations U\n",
    "- diagonal: increasing the scale_diagonal increases the variance of the innovations --> more volatile\n",
    "- off-diagonal: increasing the scale_off_diagonal increases the correlation between the innovations --> more synchronized\n",
    "\"\"\"\n",
    "sigma_U = generate_sigma_U(num_dimensions=dimensions, scale_diagonal=0.05, scale_off_diagonal=0.05)\n",
    "\n",
    "\"\"\"\n",
    "Set up the AutoRegressive coefficents (AR) \n",
    "\n",
    "Influence: How much past values of the time series affect the current value.\n",
    "- decrease: make data more random / unpredictable\n",
    "- increase: make data more predictable\n",
    "\"\"\"\n",
    "Phi1, Phi2 = generate_phi(num_dimensions=dimensions, factor=1)\n",
    "\n",
    "\"\"\"\n",
    "Set up the Moving Average coefficients (MA)\n",
    "\n",
    "Influence: How much past error terms (unexpected shocks) affect the current value.\n",
    "- increse: make data more dependent on past shocks/errors, make data more volatile\n",
    "- decrease: less sensitve to shocks\n",
    "\"\"\"\n",
    "Theta1, Theta2 = generate_theta(num_dimensions=dimensions, factor=1)\n",
    "\n",
    "# define the number of periods to simulate\n",
    "n_periods = 100\n",
    "# simulate the ARMA process\n",
    "X = simulate_arma22(n_periods=n_periods, Phi1=Phi1, Phi2=Phi2, Theta1=Theta1, Theta2=Theta2, sigma_U=sigma_U, num_dimensions=dimensions)\n",
    "\n",
    "# generate the demand\n",
    "Y = generate_demand(X[:,:3], n_periods)\n",
    "\n"
   ]
  },
  {
   "cell_type": "code",
   "execution_count": null,
   "metadata": {},
   "outputs": [],
   "source": [
    "print(X.shape, Y.shape)\n",
    "\n",
    "df_target = pd.DataFrame(Y, columns=['Demand1', 'Demand2', 'Demand3'])\n",
    "df_features = pd.DataFrame(X, columns=['Feature1', 'Feature2', 'Feature3', 'Feature4', 'Feature5', 'Feature6', 'Feature7', 'Feature8', 'Feature9'])\n",
    "\n",
    "variance_target = df_target.var()\n",
    "print(variance_target)\n",
    "\n",
    "print(df_target.head())\n",
    "print(df_features.head())"
   ]
  }
 ],
 "metadata": {
  "kernelspec": {
   "display_name": "Python 3",
   "language": "python",
   "name": "python3"
  },
  "language_info": {
   "codemirror_mode": {
    "name": "ipython",
    "version": 3
   },
   "file_extension": ".py",
   "mimetype": "text/x-python",
   "name": "python",
   "nbconvert_exporter": "python",
   "pygments_lexer": "ipython3",
   "version": "3.11.7"
  }
 },
 "nbformat": 4,
 "nbformat_minor": 2
}
