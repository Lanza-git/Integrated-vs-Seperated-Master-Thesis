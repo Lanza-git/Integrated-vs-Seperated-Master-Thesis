{
 "cells": [
  {
   "cell_type": "markdown",
   "metadata": {},
   "source": [
    "Import the Data"
   ]
  },
  {
   "cell_type": "code",
   "execution_count": 6,
   "metadata": {},
   "outputs": [
    {
     "name": "stdout",
     "output_type": "stream",
     "text": [
      "{'dataset_id': 'set_530650', 'dataset_path': '/pfs/work7/workspace/scratch/ma_elanza-thesislanza/set_530650/set_530650_data.h5', 'folder_path': '/pfs/work7/workspace/scratch/ma_elanza-thesislanza/set_530650'}\n",
      "{'dataset_id': 'set_5306100', 'dataset_path': '/pfs/work7/workspace/scratch/ma_elanza-thesislanza/set_5306100/set_5306100_data.h5', 'folder_path': '/pfs/work7/workspace/scratch/ma_elanza-thesislanza/set_5306100'}\n",
      "{'dataset_id': 'set_5306150', 'dataset_path': '/pfs/work7/workspace/scratch/ma_elanza-thesislanza/set_5306150/set_5306150_data.h5', 'folder_path': '/pfs/work7/workspace/scratch/ma_elanza-thesislanza/set_5306150'}\n",
      "{'dataset_id': 'set_5306200', 'dataset_path': '/pfs/work7/workspace/scratch/ma_elanza-thesislanza/set_5306200/set_5306200_data.h5', 'folder_path': '/pfs/work7/workspace/scratch/ma_elanza-thesislanza/set_5306200'}\n",
      "{'dataset_id': 'set_5306250', 'dataset_path': '/pfs/work7/workspace/scratch/ma_elanza-thesislanza/set_5306250/set_5306250_data.h5', 'folder_path': '/pfs/work7/workspace/scratch/ma_elanza-thesislanza/set_5306250'}\n",
      "{'dataset_id': 'set_5306300', 'dataset_path': '/pfs/work7/workspace/scratch/ma_elanza-thesislanza/set_5306300/set_5306300_data.h5', 'folder_path': '/pfs/work7/workspace/scratch/ma_elanza-thesislanza/set_5306300'}\n",
      "{'dataset_id': 'set_130650', 'dataset_path': '/pfs/work7/workspace/scratch/ma_elanza-thesislanza/set_130650/set_130650_data.h5', 'folder_path': '/pfs/work7/workspace/scratch/ma_elanza-thesislanza/set_130650'}\n",
      "{'dataset_id': 'set_2306100', 'dataset_path': '/pfs/work7/workspace/scratch/ma_elanza-thesislanza/set_2306100/set_2306100_data.h5', 'folder_path': '/pfs/work7/workspace/scratch/ma_elanza-thesislanza/set_2306100'}\n",
      "{'dataset_id': 'set_3306150', 'dataset_path': '/pfs/work7/workspace/scratch/ma_elanza-thesislanza/set_3306150/set_3306150_data.h5', 'folder_path': '/pfs/work7/workspace/scratch/ma_elanza-thesislanza/set_3306150'}\n",
      "{'dataset_id': 'set_4306200', 'dataset_path': '/pfs/work7/workspace/scratch/ma_elanza-thesislanza/set_4306200/set_4306200_data.h5', 'folder_path': '/pfs/work7/workspace/scratch/ma_elanza-thesislanza/set_4306200'}\n",
      "{'dataset_id': 'set_5306250', 'dataset_path': '/pfs/work7/workspace/scratch/ma_elanza-thesislanza/set_5306250/set_5306250_data.h5', 'folder_path': '/pfs/work7/workspace/scratch/ma_elanza-thesislanza/set_5306250'}\n",
      "{'dataset_id': 'set_6306300', 'dataset_path': '/pfs/work7/workspace/scratch/ma_elanza-thesislanza/set_6306300/set_6306300_data.h5', 'folder_path': '/pfs/work7/workspace/scratch/ma_elanza-thesislanza/set_6306300'}\n",
      "{'dataset_id': 'set_130650', 'dataset_path': '/pfs/work7/workspace/scratch/ma_elanza-thesislanza/set_130650/set_130650_data.h5', 'folder_path': '/pfs/work7/workspace/scratch/ma_elanza-thesislanza/set_130650'}\n",
      "{'dataset_id': 'set_230650', 'dataset_path': '/pfs/work7/workspace/scratch/ma_elanza-thesislanza/set_230650/set_230650_data.h5', 'folder_path': '/pfs/work7/workspace/scratch/ma_elanza-thesislanza/set_230650'}\n",
      "{'dataset_id': 'set_330650', 'dataset_path': '/pfs/work7/workspace/scratch/ma_elanza-thesislanza/set_330650/set_330650_data.h5', 'folder_path': '/pfs/work7/workspace/scratch/ma_elanza-thesislanza/set_330650'}\n",
      "{'dataset_id': 'set_430650', 'dataset_path': '/pfs/work7/workspace/scratch/ma_elanza-thesislanza/set_430650/set_430650_data.h5', 'folder_path': '/pfs/work7/workspace/scratch/ma_elanza-thesislanza/set_430650'}\n",
      "{'dataset_id': 'set_530650', 'dataset_path': '/pfs/work7/workspace/scratch/ma_elanza-thesislanza/set_530650/set_530650_data.h5', 'folder_path': '/pfs/work7/workspace/scratch/ma_elanza-thesislanza/set_530650'}\n",
      "{'dataset_id': 'set_630650', 'dataset_path': '/pfs/work7/workspace/scratch/ma_elanza-thesislanza/set_630650/set_630650_data.h5', 'folder_path': '/pfs/work7/workspace/scratch/ma_elanza-thesislanza/set_630650'}\n"
     ]
    }
   ],
   "source": [
    "import pickle\n",
    "\n",
    "# Define the file path\n",
    "file_path = 'C:/Users/lanza/Master_Thesis_EL/Integrated-vs-Seperated-Master-Thesis/hpc_mount/dataset_list.pkl'\n",
    "\n",
    "# Open the file in read-binary mode\n",
    "with open(file_path, 'rb') as file:\n",
    "    # Load the dictionary\n",
    "    data_dict = pickle.load(file)\n",
    "\n",
    "# Print the dictionary\n",
    "\n",
    "for dict in data_dict:\n",
    "    print(dict)"
   ]
  },
  {
   "cell_type": "markdown",
   "metadata": {},
   "source": [
    "Define the cost strucutre and calculate optimal profit"
   ]
  },
  {
   "cell_type": "code",
   "execution_count": 7,
   "metadata": {},
   "outputs": [],
   "source": [
    "import numpy as np\n",
    "# Parameters for multi-item newsvendor problem\n",
    "prices = np.array([0.3, 0.5, 0.6, 0.5, 0.5, 0.5]) #price data\n",
    "prices = prices.reshape(6,1)\n",
    "costs = np.array([0.06, 0.06, 0.06, 0.06, 0.06, 0.06]) #cost data\n",
    "costs = costs.reshape(6,1)\n",
    "salvages = np.array([0.01, 0.01, 0.01, 0.01, 0.01, 0.01]) #salvage data\n",
    "salvages = salvages.reshape(6,1)\n",
    "underage_data = prices - costs \n",
    "overage_data = costs - salvages \n",
    "underage_data_single = underage_data[0,0]\n",
    "overage_data_single = overage_data[0,0]\n",
    "\n",
    "\n",
    "\n",
    "alpha_data = np.array([             #alpha data\n",
    "    [0.0, 0.1, 0.05, 0.1, 0.05, 0.1],\n",
    "    [0.15, 0.0, 0.1, 0.05, 0.05, 0.05],\n",
    "    [0.1, 0.2, 0.0, 0.05, 0.1, 0.05],\n",
    "    [0.05, 0.05, 0.05, 0.0, 0.15, 0.2],\n",
    "    [0.1, 0.05, 0.15, 0.2, 0.0, 0.05],\n",
    "    [0.05, 0.1, 0.05, 0.15, 0.1, 0.0]\n",
    "])"
   ]
  },
  {
   "cell_type": "code",
   "execution_count": 8,
   "metadata": {},
   "outputs": [],
   "source": [
    "from scipy.stats import chi2\n",
    "\n",
    "def calculate_cochran(X_test, y_test):\n",
    "    # Before calculating means and variances, check if x1 and x2 are empty\n",
    "    if len(y_test) == 0 or len(X_test) == 0:\n",
    "        print (\"Empty\")\n",
    "        return np.nan, np.nan, np.nan  # Or handle this case as appropriate\n",
    "    \n",
    "\n",
    "    x1 = []\n",
    "    x2 = []\n",
    "\n",
    "    for i in range(len(X_test)):\n",
    "        if X_test[i, -1] == 1:  # Check if the last column is 1\n",
    "            x1.append(y_test[i])\n",
    "        else:\n",
    "            x2.append(y_test[i])\n",
    "\n",
    "    # Convert lists to numpy arrays if needed\n",
    "    x1 = np.array(x1)\n",
    "    x2 = np.array(x2)\n",
    "\n",
    "    print(\"x1\", x1.shape)\n",
    "    print(\"x2\", x2.shape)\n",
    "\n",
    "    # Calculate means and variances for each study\n",
    "    mean_x1 = np.mean(x1)\n",
    "    variance_x1 = np.var(x1, ddof=1)\n",
    "\n",
    "    mean_x2 = np.mean(x2)\n",
    "    variance_x2 = np.var(x2, ddof=1)\n",
    "\n",
    "    # Combine means and variances\n",
    "    means = np.array([mean_x1, mean_x2])\n",
    "    variances = np.array([variance_x1, variance_x2])\n",
    "\n",
    "    # Step 1: Calculate weights (inverse of variances)\n",
    "    weights = 1 / variances\n",
    "\n",
    "    # Step 2: Calculate the overall weighted effect\n",
    "    weighted_effect = np.sum(weights * means) / np.sum(weights)\n",
    "\n",
    "    # Step 3: Calculate Cochran's Q\n",
    "    Q = np.sum(weights * (means - weighted_effect) ** 2)\n",
    "\n",
    "    # Step 4: Calculate I²\n",
    "    k = len(means)\n",
    "    I2 = max(0, (Q - (k - 1)) / Q) * 100\n",
    "\n",
    "    # Step 5: Calculate p-value for Q\n",
    "    p_value = 1 - chi2.cdf(Q, df=k-1)\n",
    "\n",
    "    return Q, I2, p_value\n",
    "    "
   ]
  },
  {
   "cell_type": "code",
   "execution_count": 9,
   "metadata": {},
   "outputs": [
    {
     "name": "stdout",
     "output_type": "stream",
     "text": [
      "[[244. 236. 243. 215. 236. 251.]\n",
      " [260. 235. 246. 231. 255. 246.]\n",
      " [286. 254. 174. 270. 222. 215.]\n",
      " [274. 233. 274. 258. 230. 337.]\n",
      " [142. 258. 349. 222. 225. 272.]\n",
      " [138. 215. 208. 236. 279. 240.]\n",
      " [249. 245. 251. 256. 242. 259.]\n",
      " [247. 249. 249. 248. 225. 251.]\n",
      " [247. 244. 221. 248. 254. 208.]\n",
      " [241. 247. 343. 245. 173. 188.]\n",
      " [195. 228. 252. 240. 278. 242.]\n",
      " [253. 250. 261. 251. 247. 251.]\n",
      " [236. 257. 269. 258. 254. 231.]\n",
      " [254. 242. 251. 270. 230. 244.]\n",
      " [250. 247. 221. 239. 245. 208.]\n",
      " [288. 247. 227. 236. 241. 255.]\n",
      " [232. 249. 242. 270. 247. 227.]\n",
      " [243. 204. 266. 268. 282. 218.]\n",
      " [262. 253. 246. 260. 250. 237.]\n",
      " [135. 115. 246. 230. 402. 246.]\n",
      " [268. 249. 221. 241. 260. 223.]\n",
      " [152. 186. 223. 244. 268. 246.]\n",
      " [270. 243. 243. 199. 262. 280.]\n",
      " [225. 244. 249. 303. 266. 251.]\n",
      " [226. 248. 239. 243. 244. 237.]\n",
      " [213. 227. 228. 248. 243. 182.]\n",
      " [216. 238. 255. 248. 257. 254.]\n",
      " [284. 282. 183. 244. 309. 257.]\n",
      " [266. 259. 280. 258. 256. 207.]\n",
      " [308. 247. 161. 255. 265. 272.]\n",
      " [278. 252. 125. 296. 235. 250.]\n",
      " [240. 225. 240. 252. 197. 266.]\n",
      " [279. 273. 227. 359. 238. 269.]\n",
      " [245. 284. 221. 256. 289. 283.]\n",
      " [192. 235. 212. 295. 238. 158.]\n",
      " [295. 264. 190. 274. 266. 223.]\n",
      " [225. 262. 185. 210. 222. 195.]\n",
      " [245. 220. 260. 254. 246. 256.]\n",
      " [246. 270. 298. 303. 243. 158.]\n",
      " [417. 251. 280. 283. 222. 333.]\n",
      " [233. 241. 262. 347.  52. 236.]\n",
      " [251. 258. 214. 251. 304. 311.]\n",
      " [244. 238. 202. 250. 262. 264.]\n",
      " [264. 287. 227. 249. 233. 253.]\n",
      " [230. 282.  59. 283. 228. 173.]\n",
      " [290. 318. 206. 278. 192. 351.]\n",
      " [380. 239. 284. 367. 188. 270.]\n",
      " [285. 249. 228. 344. 249. 287.]\n",
      " [257. 248. 260. 246. 288. 227.]\n",
      " [164. 254. 468. 232. 245. 331.]\n",
      " [151. 257. 298. 348. 280. 305.]\n",
      " [262. 232. 266. 230. 238. 341.]\n",
      " [216. 242. 210. 186. 238. 208.]\n",
      " [255. 172. 263. 215.  94. 397.]\n",
      " [295. 193. 206. 303. 176. 291.]\n",
      " [243. 230. 265. 213. 248. 275.]\n",
      " [302. 370. 230. 203. 186. 235.]\n",
      " [227. 302. 268. 249. 184. 305.]\n",
      " [181. 231. 247.  85. 281. 231.]\n",
      " [248. 238. 244. 251. 147. 179.]\n",
      " [350. 314. 291. 121. 249. 263.]\n",
      " [258. 209. 246. 260. 238. 260.]\n",
      " [248. 382. 229. 266. 147. 259.]\n",
      " [299. 225. 239. 258. 222.  86.]\n",
      " [367. 175. 187. 340. 151. 200.]\n",
      " [283. 246. 260. 222. 255. 280.]\n",
      " [252. 245. 236. 242. 199. 223.]\n",
      " [245. 160. 311. 186. 265. 317.]\n",
      " [374. 347. 290. 223. 315. 258.]\n",
      " [193. 260. 257. 265. 248. 276.]\n",
      " [175. 245. 194. 276. 263. 244.]\n",
      " [283. 221. 196. 261. 233. 219.]\n",
      " [ 22. 200.  74. 412. 262. 322.]\n",
      " [236. 242. 265. 273. 242. 253.]\n",
      " [238. 260. 243. 230. 263. 243.]\n",
      " [274. 319. 273. 318. 208. 242.]\n",
      " [306. 288. 251. 205. 299. 245.]\n",
      " [245. 253. 227. 245. 211. 170.]\n",
      " [208. 360. 331. 181. 253. 217.]\n",
      " [144. 147. 279. 205. 258. 266.]\n",
      " [246. 229. 132. 266. 291. 367.]\n",
      " [271. 260. 209. 308. 233. 362.]\n",
      " [205. 255. 294. 333. 282. 307.]\n",
      " [244. 418. 256. 365. 214. 256.]\n",
      " [240. 197. 211. 273. 229. 268.]\n",
      " [226. 271. 236. 226. 200. 244.]\n",
      " [297. 254. 287. 126. 264. 399.]\n",
      " [272. 226. 264. 283. 240. 248.]\n",
      " [180. 240. 267. 243. 217. 265.]\n",
      " [152. 236. 242. 287. 291. 232.]\n",
      " [220. 265. 276. 283. 223. 295.]\n",
      " [167. 172. 302. 371. 473. 272.]\n",
      " [234. 235. 241. 323. 231. 232.]\n",
      " [331. 217. 245. 485. 176. 240.]\n",
      " [160. 246. 254. 310. 250. 252.]\n",
      " [383. 207. 274. 228. 283. 265.]\n",
      " [258. 249. 179. 292. 253. 272.]\n",
      " [  0. 205. 418. 214. 269. 283.]\n",
      " [230. 260. 299. 300. 233. 295.]\n",
      " [244. 392. 308. 222. 343.  91.]]\n"
     ]
    }
   ],
   "source": [
    "from IvsS_Utils import load_generated_data, load_cost_structure, nvps_profit\n",
    "# Max Profit for multi-item newsvendor problem\n",
    "X_train, y_train, X_val, y_val, X_test, y_test = load_generated_data(path='C:/Users/lanza/Master_Thesis_EL/Integrated-vs-Seperated-Master-Thesis/hpc_mount/set_130650_data.h5', multi=True)\n",
    "\n",
    "print(y_test)"
   ]
  },
  {
   "cell_type": "code",
   "execution_count": 10,
   "metadata": {},
   "outputs": [
    {
     "name": "stdout",
     "output_type": "stream",
     "text": [
      "x1 (0,)\n",
      "x2 (100, 6)\n",
      "63378.380000000005\n",
      "x1 (8, 6)\n",
      "x2 (92, 6)\n",
      "x1 (28, 6)\n",
      "x2 (72, 6)\n",
      "x1 (36, 6)\n",
      "x2 (64, 6)\n",
      "x1 (42, 6)\n",
      "x2 (58, 6)\n",
      "x1 (55, 6)\n",
      "x2 (45, 6)\n",
      "x1 (63, 6)\n",
      "x2 (37, 6)\n",
      "x1 (0,)\n",
      "x2 (100,)\n",
      "5832.96\n",
      "x1 (8,)\n",
      "x2 (92,)\n",
      "x1 (28,)\n",
      "x2 (72,)\n",
      "x1 (36,)\n",
      "x2 (64,)\n",
      "x1 (42,)\n",
      "x2 (58,)\n",
      "x1 (55,)\n",
      "x2 (45,)\n",
      "x1 (63,)\n",
      "x2 (37,)\n"
     ]
    },
    {
     "name": "stderr",
     "output_type": "stream",
     "text": [
      "c:\\Users\\lanza\\.pyenv\\pyenv-win\\versions\\3.11.7\\Lib\\site-packages\\numpy\\core\\fromnumeric.py:3464: RuntimeWarning: Mean of empty slice.\n",
      "  return _methods._mean(a, axis=axis, dtype=dtype,\n",
      "c:\\Users\\lanza\\.pyenv\\pyenv-win\\versions\\3.11.7\\Lib\\site-packages\\numpy\\core\\_methods.py:192: RuntimeWarning: invalid value encountered in scalar divide\n",
      "  ret = ret.dtype.type(ret / rcount)\n",
      "c:\\Users\\lanza\\.pyenv\\pyenv-win\\versions\\3.11.7\\Lib\\site-packages\\numpy\\core\\fromnumeric.py:3747: RuntimeWarning: Degrees of freedom <= 0 for slice\n",
      "  return _methods._var(a, axis=axis, dtype=dtype, out=out, ddof=ddof,\n",
      "c:\\Users\\lanza\\.pyenv\\pyenv-win\\versions\\3.11.7\\Lib\\site-packages\\numpy\\core\\_methods.py:226: RuntimeWarning: invalid value encountered in divide\n",
      "  arrmean = um.true_divide(arrmean, div, out=arrmean,\n",
      "c:\\Users\\lanza\\.pyenv\\pyenv-win\\versions\\3.11.7\\Lib\\site-packages\\numpy\\core\\_methods.py:261: RuntimeWarning: invalid value encountered in scalar divide\n",
      "  ret = ret.dtype.type(ret / rcount)\n"
     ]
    }
   ],
   "source": [
    "from IvsS_Utils import load_generated_data, load_cost_structure, nvps_profit\n",
    "\n",
    "# Max Profit for multi-item newsvendor problem\n",
    "X_train, y_train, X_val, y_val, X_test, y_test = load_generated_data(path='C:/Users/lanza/Master_Thesis_EL/Integrated-vs-Seperated-Master-Thesis/hpc_mount/set_130650_data.h5', multi=True)\n",
    "load_cost_structure(alpha_input=alpha_data, underage_input=underage_data, overage_input=overage_data)\n",
    "max_profit_multi_normal = nvps_profit(y_test,y_test)\n",
    "Q_0_m, I2_0_m, p_0_m = calculate_cochran(X_test, y_test)\n",
    "variance_50_m = np.var(y_test)\n",
    "print(max_profit_multi_normal)\n",
    "\n",
    "\n",
    "# Max Profit for variance increase - multi-item newsvendor problem\n",
    "X_train, y_train, X_val, y_val, X_test, y_test = load_generated_data(path='C:/Users/lanza/Master_Thesis_EL/Integrated-vs-Seperated-Master-Thesis/test/set_5306100_data.h5', multi=True)\n",
    "max_profit_multi_var_100 = nvps_profit(y_test,y_test)\n",
    "variance_100_m = np.var(y_test)\n",
    "X_train, y_train, X_val, y_val, X_test, y_test = load_generated_data(path='C:/Users/lanza/Master_Thesis_EL/Integrated-vs-Seperated-Master-Thesis/test/set_5306150_data.h5', multi=True)\n",
    "max_profit_multi_var_150 = nvps_profit(y_test,y_test)\n",
    "variance_150_m = np.var(y_test)\n",
    "X_train, y_train, X_val, y_val, X_test, y_test = load_generated_data(path='C:/Users/lanza/Master_Thesis_EL/Integrated-vs-Seperated-Master-Thesis/test/set_5306200_data.h5', multi=True)\n",
    "max_profit_multi_var_200 = nvps_profit(y_test,y_test)\n",
    "variance_200_m = np.var(y_test)\n",
    "X_train, y_train, X_val, y_val, X_test, y_test = load_generated_data(path='C:/Users/lanza/Master_Thesis_EL/Integrated-vs-Seperated-Master-Thesis/test/set_5306250_data.h5', multi=True)\n",
    "max_profit_multi_var_250 = nvps_profit(y_test,y_test)\n",
    "variance_250_m = np.var(y_test)\n",
    "X_train, y_train, X_val, y_val, X_test, y_test = load_generated_data(path='C:/Users/lanza/Master_Thesis_EL/Integrated-vs-Seperated-Master-Thesis/test/set_5306300_data.h5', multi=True)\n",
    "max_profit_multi_var_300 = nvps_profit(y_test,y_test)\n",
    "variance_300_m = np.var(y_test)\n",
    "\n",
    "# Max Profit for heterogenity - multi-item newsvendor problem\n",
    "X_train, y_train, X_val, y_val, X_test, y_test = load_generated_data(path='C:/Users/lanza/Master_Thesis_EL/Integrated-vs-Seperated-Master-Thesis/test/set_4306510_data.h5', multi=True)\n",
    "max_profit_multi_het_10 = nvps_profit(y_test,y_test)\n",
    "Q_10_m, I2_10_m, p_10_m = calculate_cochran(X_test, y_test)\n",
    "X_train, y_train, X_val, y_val, X_test, y_test = load_generated_data(path='C:/Users/lanza/Master_Thesis_EL/Integrated-vs-Seperated-Master-Thesis/test/set_4306520_data.h5', multi=True)\n",
    "max_profit_multi_het_20 = nvps_profit(y_test,y_test)\n",
    "Q_20_m, I2_20_m, p_20_m = calculate_cochran(X_test, y_test)\n",
    "X_train, y_train, X_val, y_val, X_test, y_test = load_generated_data(path='C:/Users/lanza/Master_Thesis_EL/Integrated-vs-Seperated-Master-Thesis/test/set_4306530_data.h5', multi=True)\n",
    "max_profit_multi_het_30 = nvps_profit(y_test,y_test)\n",
    "Q_30_m, I2_30_m, p_30_m = calculate_cochran(X_test, y_test)\n",
    "X_train, y_train, X_val, y_val, X_test, y_test = load_generated_data(path='C:/Users/lanza/Master_Thesis_EL/Integrated-vs-Seperated-Master-Thesis/test/set_4306540_data.h5', multi=True)\n",
    "max_profit_multi_het_40 = nvps_profit(y_test,y_test)\n",
    "Q_40_m, I2_40_m, p_40_m = calculate_cochran(X_test, y_test)\n",
    "X_train, y_train, X_val, y_val, X_test, y_test = load_generated_data(path='C:/Users/lanza/Master_Thesis_EL/Integrated-vs-Seperated-Master-Thesis/test/set_4306550_data.h5', multi=True)\n",
    "max_profit_multi_het_50 = nvps_profit(y_test,y_test)\n",
    "Q_50_m, I2_50_m, p_50_m = calculate_cochran(X_test, y_test)\n",
    "X_train, y_train, X_val, y_val, X_test, y_test = load_generated_data(path='C:/Users/lanza/Master_Thesis_EL/Integrated-vs-Seperated-Master-Thesis/test/set_4306560_data.h5', multi=True)\n",
    "max_profit_multi_het_60 = nvps_profit(y_test,y_test)\n",
    "Q_60_m, I2_60_m, p_60_m = calculate_cochran(X_test, y_test)\n",
    "\n",
    "\n",
    "# Max Profit for single-item newsvendor problem\n",
    "X_train, y_train, X_val, y_val, X_test, y_test = load_generated_data(path='C:/Users/lanza/Master_Thesis_EL/Integrated-vs-Seperated-Master-Thesis/hpc_mount/set_130650_data.h5', multi=False)\n",
    "load_cost_structure(alpha_input=alpha_data, underage_input=underage_data_single, overage_input=overage_data_single)\n",
    "max_profit_single_normal = nvps_profit(y_test,y_test)\n",
    "Q_0_s, I2_0_s, p_0_s = calculate_cochran(X_test, y_test)\n",
    "variance_50_s = np.var(y_test)\n",
    "print(max_profit_single_normal)\n",
    "\n",
    "# Max Profit for variance increase - single-item newsvendor problem\n",
    "X_train, y_train, X_val, y_val, X_test, y_test = load_generated_data(path='C:/Users/lanza/Master_Thesis_EL/Integrated-vs-Seperated-Master-Thesis/test/set_5306100_data.h5', multi=False)\n",
    "max_profit_single_var_100 = nvps_profit(y_test,y_test)\n",
    "variance_100_s = np.var(y_test)\n",
    "X_train, y_train, X_val, y_val, X_test, y_test = load_generated_data(path='C:/Users/lanza/Master_Thesis_EL/Integrated-vs-Seperated-Master-Thesis/test/set_5306150_data.h5', multi=False)\n",
    "max_profit_single_var_150 = nvps_profit(y_test,y_test)\n",
    "variance_150_s = np.var(y_test)\n",
    "X_train, y_train, X_val, y_val, X_test, y_test = load_generated_data(path='C:/Users/lanza/Master_Thesis_EL/Integrated-vs-Seperated-Master-Thesis/test/set_5306200_data.h5', multi=False)\n",
    "max_profit_single_var_200 = nvps_profit(y_test,y_test)\n",
    "variance_200_s = np.var(y_test)\n",
    "X_train, y_train, X_val, y_val, X_test, y_test = load_generated_data(path='C:/Users/lanza/Master_Thesis_EL/Integrated-vs-Seperated-Master-Thesis/test/set_5306250_data.h5', multi=False)\n",
    "max_profit_single_var_250 = nvps_profit(y_test,y_test)\n",
    "variance_250_s = np.var(y_test)\n",
    "X_train, y_train, X_val, y_val, X_test, y_test = load_generated_data(path='C:/Users/lanza/Master_Thesis_EL/Integrated-vs-Seperated-Master-Thesis/test/set_5306300_data.h5', multi=False)\n",
    "max_profit_single_var_300 = nvps_profit(y_test,y_test) \n",
    "variance_300_s = np.var(y_test)\n",
    "\n",
    "# Max Profit for heterogenity - single-item newsvendor problem\n",
    "X_train, y_train, X_val, y_val, X_test, y_test = load_generated_data(path='C:/Users/lanza/Master_Thesis_EL/Integrated-vs-Seperated-Master-Thesis/test/set_4306510_data.h5', multi=False)\n",
    "max_profit_single_het_10 = nvps_profit(y_test,y_test)\n",
    "Q_10_s, I2_10_s, p_10_s = calculate_cochran(X_test, y_test)\n",
    "X_train, y_train, X_val, y_val, X_test, y_test = load_generated_data(path='C:/Users/lanza/Master_Thesis_EL/Integrated-vs-Seperated-Master-Thesis/test/set_4306520_data.h5', multi=False)\n",
    "max_profit_single_het_20 = nvps_profit(y_test,y_test)\n",
    "Q_20_s, I2_20_s, p_20_s = calculate_cochran(X_test, y_test)\n",
    "X_train, y_train, X_val, y_val, X_test, y_test = load_generated_data(path='C:/Users/lanza/Master_Thesis_EL/Integrated-vs-Seperated-Master-Thesis/test/set_4306530_data.h5', multi=False)\n",
    "max_profit_single_het_30 = nvps_profit(y_test,y_test)\n",
    "Q_30_s, I2_30_s, p_30_s = calculate_cochran(X_test, y_test)\n",
    "X_train, y_train, X_val, y_val, X_test, y_test = load_generated_data(path='C:/Users/lanza/Master_Thesis_EL/Integrated-vs-Seperated-Master-Thesis/test/set_4306540_data.h5', multi=False)\n",
    "max_profit_single_het_40 = nvps_profit(y_test,y_test)\n",
    "Q_40_s, I2_40_s, p_40_s = calculate_cochran(X_test, y_test)\n",
    "X_train, y_train, X_val, y_val, X_test, y_test = load_generated_data(path='C:/Users/lanza/Master_Thesis_EL/Integrated-vs-Seperated-Master-Thesis/test/set_4306550_data.h5', multi=False)\n",
    "max_profit_single_het_50 = nvps_profit(y_test,y_test)\n",
    "Q_50_s, I2_50_s, p_50_s = calculate_cochran(X_test, y_test)\n",
    "X_train, y_train, X_val, y_val, X_test, y_test = load_generated_data(path='C:/Users/lanza/Master_Thesis_EL/Integrated-vs-Seperated-Master-Thesis/test/set_4306560_data.h5', multi=False)\n",
    "max_profit_single_het_60 = nvps_profit(y_test,y_test)\n",
    "Q_60_s, I2_60_s, p_60_s = calculate_cochran(X_test, y_test)\n",
    "\n"
   ]
  },
  {
   "cell_type": "code",
   "execution_count": 36,
   "metadata": {},
   "outputs": [
    {
     "name": "stdout",
     "output_type": "stream",
     "text": [
      "2914.918488888889\n",
      "3891.7984\n",
      "53.989985079539416\n"
     ]
    }
   ],
   "source": [
    "print(variance_50_m)\n",
    "print(variance_50_s)\n",
    "\n",
    "# Standard Deviation\n",
    "std_50_m = np.sqrt(variance_50_m)\n",
    "print(std_50_m)"
   ]
  },
  {
   "cell_type": "code",
   "execution_count": 11,
   "metadata": {},
   "outputs": [],
   "source": [
    "import os\n",
    "import pickle\n",
    "import pandas as pd\n",
    "\n",
    "def load_metadata(directory):\n",
    "    metadata = []\n",
    "    for file_name in os.listdir(directory):\n",
    "        if file_name.endswith('meta.pkl'):\n",
    "            with open(os.path.join(directory, file_name), 'rb') as f:\n",
    "                data = pickle.load(f)\n",
    "                metadata.append({\n",
    "                    'file_name': file_name,\n",
    "                    'hyperparameter': data['hyperparameter'],\n",
    "                    'profit': data['profit'],\n",
    "                    'elapsed_time': data['elapsed_time'],\n",
    "                    'peak_memory' : data['peak_memory'],\n",
    "                    'avg_memory': data['avg_memory']\n",
    "                })\n",
    "    return metadata\n",
    "\n",
    "# Directory where the test files are located\n",
    "directory_path = 'C:/Users/lanza/Master_Thesis_EL/Integrated-vs-Seperated-Master-Thesis/hpc_mount/'\n",
    "\n",
    "# Load metadata from all models\n",
    "metadata_list = load_metadata(directory_path)\n",
    "\n",
    "# Convert to DataFrame for better visualization\n",
    "df_metadata = pd.DataFrame(metadata_list)\n",
    "\n"
   ]
  },
  {
   "cell_type": "code",
   "execution_count": 12,
   "metadata": {},
   "outputs": [
    {
     "name": "stdout",
     "output_type": "stream",
     "text": [
      "                                file_name  \\\n",
      "0    set_1306200_ANN_complex_IOA_meta.pkl   \n",
      "1  set_1306200_ANN_complex_SOAnp_meta.pkl   \n",
      "2   set_1306200_ANN_complex_SOAp_meta.pkl   \n",
      "3     set_1306200_ANN_simple_IOA_meta.pkl   \n",
      "4   set_1306200_ANN_simple_SOAnp_meta.pkl   \n",
      "\n",
      "                                    hyperparameter        profit  \\\n",
      "0    [3, 11, 0.2917918231297326, 49, 10, 32, relu] -3.071438e+08   \n",
      "1  [6, 25, 0.05213966248720577, 40, 10, 128, relu]  6.028384e+04   \n",
      "2  [6, 25, 0.05213966248720577, 40, 10, 128, relu]  5.917720e+04   \n",
      "3  [15, 19, 0.4442020373731767, 50, 10, 128, relu] -3.743328e+03   \n",
      "4  [3, 19, 0.996867466940313, 37, 10, 16, sigmoid]  5.796115e+03   \n",
      "\n",
      "   elapsed_time   peak_memory    avg_memory  \n",
      "0    642.678466   6093.234375   5504.265718  \n",
      "1    955.158596  15712.539062  13698.180573  \n",
      "2    969.576892  11658.644531   9567.409288  \n",
      "3    435.915864   2942.894531   1979.380879  \n",
      "4    564.819375   4720.113281   4314.234375  \n"
     ]
    }
   ],
   "source": [
    "print(df_metadata.head())   "
   ]
  },
  {
   "cell_type": "code",
   "execution_count": 13,
   "metadata": {},
   "outputs": [],
   "source": [
    "# Corrected code: Specify the full path including the file name and extension\n",
    "df_metadata.to_csv(\"C:/Users/lanza/Master_Thesis_EL/Integrated-vs-Seperated-Master-Thesis/Main/metadata.csv\")"
   ]
  },
  {
   "cell_type": "code",
   "execution_count": 14,
   "metadata": {},
   "outputs": [],
   "source": [
    "df_metadata.loc[df_metadata['file_name'] == 'set_330650_ANN_complex_IOA_meta.pkl', 'profit'] = 0\n",
    "df_metadata.loc[df_metadata['file_name'] == 'set_230650_ANN_complex_IOA_meta.pkl', 'profit'] = 0"
   ]
  },
  {
   "cell_type": "code",
   "execution_count": 15,
   "metadata": {},
   "outputs": [
    {
     "name": "stderr",
     "output_type": "stream",
     "text": [
      "C:\\Users\\lanza\\AppData\\Local\\Temp\\ipykernel_3232\\1547034099.py:4: SettingWithCopyWarning: \n",
      "A value is trying to be set on a copy of a slice from a DataFrame.\n",
      "Try using .loc[row_indexer,col_indexer] = value instead\n",
      "\n",
      "See the caveats in the documentation: https://pandas.pydata.org/pandas-docs/stable/user_guide/indexing.html#returning-a-view-versus-a-copy\n",
      "  df_simple['relative_profit'] = df_metadata['profit'] / max_profit_single_normal\n",
      "C:\\Users\\lanza\\AppData\\Local\\Temp\\ipykernel_3232\\1547034099.py:5: SettingWithCopyWarning: \n",
      "A value is trying to be set on a copy of a slice from a DataFrame.\n",
      "Try using .loc[row_indexer,col_indexer] = value instead\n",
      "\n",
      "See the caveats in the documentation: https://pandas.pydata.org/pandas-docs/stable/user_guide/indexing.html#returning-a-view-versus-a-copy\n",
      "  df_complex['relative_profit'] = df_metadata['profit'] / max_profit_multi_normal\n"
     ]
    }
   ],
   "source": [
    "df_simple = df_metadata[df_metadata['file_name'].str.contains('simple')]\n",
    "df_complex = df_metadata[df_metadata['file_name'].str.contains('complex')]\n",
    "\n",
    "df_simple['relative_profit'] = df_metadata['profit'] / max_profit_single_normal\n",
    "df_complex['relative_profit'] = df_metadata['profit'] / max_profit_multi_normal\n",
    "\n",
    "df_simple = df_simple.sort_values(by='relative_profit', ascending=True)\n",
    "df_complex = df_complex.sort_values(by='relative_profit', ascending=True)"
   ]
  },
  {
   "cell_type": "code",
   "execution_count": 16,
   "metadata": {},
   "outputs": [
    {
     "name": "stdout",
     "output_type": "stream",
     "text": [
      "                                 file_name  \\\n",
      "260  set_4306550_XGB_simple_SOAnp_meta.pkl   \n",
      "261   set_4306550_XGB_simple_SOAp_meta.pkl   \n",
      "254  set_4306550_ANN_simple_SOAnp_meta.pkl   \n",
      "255   set_4306550_ANN_simple_SOAp_meta.pkl   \n",
      "253    set_4306550_ANN_simple_IOA_meta.pkl   \n",
      "259    set_4306550_XGB_simple_IOA_meta.pkl   \n",
      "\n",
      "                                        hyperparameter       profit  \\\n",
      "260  {'learning_rate': 0.6142239333244599, 'max_dep...  6237.105805   \n",
      "261  {'learning_rate': 0.6142239333244599, 'max_dep...  6239.863817   \n",
      "254   [9, 18, 7.023462750891913e-05, 37, 10, 64, relu]  6246.571290   \n",
      "255   [9, 18, 7.023462750891913e-05, 37, 10, 64, relu]  6248.990744   \n",
      "253    [15, 8, 0.002820360509628296, 42, 10, 32, relu]  6284.800226   \n",
      "259  {'learning_rate': 0.14728764935245917, 'max_de...  6287.970201   \n",
      "\n",
      "     elapsed_time  peak_memory   avg_memory  relative_profit  \n",
      "260    316.654659  6525.078125  6523.738281         0.986222  \n",
      "261    316.654466  6525.078125  6523.734375         0.986658  \n",
      "254   1165.312391  5467.285156  4764.027344         0.987719  \n",
      "255   1165.312683  5467.285156  4763.972656         0.988101  \n",
      "253    939.111675  3234.757812  2509.090748         0.993764  \n",
      "259    330.556000  5067.542969  4967.248449         0.994265  \n",
      "6324.239999999999\n"
     ]
    }
   ],
   "source": [
    "df_simple.loc[df_simple['file_name'].str.contains('5306100'), 'relative_profit'] = df_simple['profit'] / max_profit_single_var_100\n",
    "df_simple.loc[df_simple['file_name'].str.contains('5306150'), 'relative_profit'] = df_simple['profit'] / max_profit_single_var_150\n",
    "df_simple.loc[df_simple['file_name'].str.contains('5306200'), 'relative_profit'] = df_simple['profit'] / max_profit_single_var_200\n",
    "df_simple.loc[df_simple['file_name'].str.contains('5306250'), 'relative_profit'] = df_simple['profit'] / max_profit_single_var_250\n",
    "df_simple.loc[df_simple['file_name'].str.contains('5306300'), 'relative_profit'] = df_simple['profit'] / max_profit_single_var_300\n",
    "\n",
    "df_simple.loc[df_simple['file_name'].str.contains('4306510'), 'relative_profit'] = df_simple['profit'] / max_profit_single_het_10\n",
    "df_simple.loc[df_simple['file_name'].str.contains('4306520'), 'relative_profit'] = df_simple['profit'] / max_profit_single_het_20\n",
    "df_simple.loc[df_simple['file_name'].str.contains('4306530'), 'relative_profit'] = df_simple['profit'] / max_profit_single_het_30\n",
    "df_simple.loc[df_simple['file_name'].str.contains('4306540'), 'relative_profit'] = df_simple['profit'] / max_profit_single_het_40\n",
    "df_simple.loc[df_simple['file_name'].str.contains('4306550'), 'relative_profit'] = df_simple['profit'] / max_profit_single_het_50\n",
    "print(df_simple.loc[df_simple['file_name'].str.contains('4306550')])\n",
    "print(max_profit_single_het_50)\n",
    "\n",
    "df_complex.loc[df_complex['file_name'].str.contains('5306100'), 'relative_profit'] = df_complex['profit'] / max_profit_multi_var_100\n",
    "df_complex.loc[df_complex['file_name'].str.contains('5306150'), 'relative_profit'] = df_complex['profit'] / max_profit_multi_var_150\n",
    "df_complex.loc[df_complex['file_name'].str.contains('5306200'), 'relative_profit'] = df_complex['profit'] / max_profit_multi_var_200\n",
    "df_complex.loc[df_complex['file_name'].str.contains('5306250'), 'relative_profit'] = df_complex['profit'] / max_profit_multi_var_250\n",
    "df_complex.loc[df_complex['file_name'].str.contains('5306300'), 'relative_profit'] = df_complex['profit'] / max_profit_multi_var_300\n",
    "\n",
    "df_complex.loc[df_complex['file_name'].str.contains('4306510'), 'relative_profit'] = df_complex['profit'] / max_profit_multi_het_10\n",
    "df_complex.loc[df_complex['file_name'].str.contains('4306520'), 'relative_profit'] = df_complex['profit'] / max_profit_multi_het_20\n",
    "df_complex.loc[df_complex['file_name'].str.contains('4306530'), 'relative_profit'] = df_complex['profit'] / max_profit_multi_het_30\n",
    "df_complex.loc[df_complex['file_name'].str.contains('4306540'), 'relative_profit'] = df_complex['profit'] / max_profit_multi_het_40\n",
    "df_complex.loc[df_complex['file_name'].str.contains('4306550'), 'relative_profit'] = df_complex['profit'] / max_profit_multi_het_50\n",
    "\n",
    "df_simple.loc[df_simple['file_name'].str.contains('1306200'), 'relative_profit'] = df_simple['profit'] / max_profit_single_var_200\n",
    "df_simple.loc[df_simple['file_name'].str.contains('2306200'), 'relative_profit'] = df_simple['profit'] / max_profit_single_var_200\n",
    "df_simple.loc[df_simple['file_name'].str.contains('3306200'), 'relative_profit'] = df_simple['profit'] / max_profit_single_var_200\n",
    "df_simple.loc[df_simple['file_name'].str.contains('4306200'), 'relative_profit'] = df_simple['profit'] / max_profit_single_var_200\n",
    "df_simple.loc[df_simple['file_name'].str.contains('5306200'), 'relative_profit'] = df_simple['profit'] / max_profit_single_var_200\n"
   ]
  },
  {
   "cell_type": "code",
   "execution_count": 17,
   "metadata": {},
   "outputs": [
    {
     "name": "stdout",
     "output_type": "stream",
     "text": [
      "    ann_ioa  ann_soap  ann_soanp   xgb_ioa  xgb_soap  xgb_soanp\n",
      "0  0.427486 -0.604418   1.010258  1.013409  1.014820   1.015082\n",
      "1  1.020459  1.017167   1.018727  1.017089  1.010959   1.010821\n",
      "2  1.015069 -0.269783   1.018114  1.016744  1.014112   1.014058\n",
      "3  1.015418  1.015260   1.015140  1.016797  1.014207   1.014679\n",
      "4  1.021574  1.019740   1.019370  1.021207  1.019088   1.020442\n"
     ]
    }
   ],
   "source": [
    "# Initialize DataFrame with the correct dtype for relative_profit values\n",
    "df_simple_size = pd.DataFrame(0.0, index=range(5), columns=['ann_ioa', 'ann_soap', 'ann_soanp', 'xgb_ioa', 'xgb_soap', 'xgb_soanp'])\n",
    "\n",
    "# Use .loc for assignments and ensure values are cast to float\n",
    "for i in range(5):\n",
    "    df_simple_size.loc[i, 'ann_ioa'] = df_simple[df_simple['file_name'].str.contains(f'{i+1}30650_ANN_simple_IOA')]['relative_profit'].astype(float).values\n",
    "    df_simple_size.loc[i, 'ann_soap'] = df_simple[df_simple['file_name'].str.contains(f'{i+1}30650_ANN_simple_SOAp')]['relative_profit'].astype(float).values\n",
    "    df_simple_size.loc[i, 'ann_soanp'] = df_simple[df_simple['file_name'].str.contains(f'{i+1}30650_ANN_simple_SOAnp')]['relative_profit'].astype(float).values\n",
    "    df_simple_size.loc[i, 'xgb_ioa'] = df_simple[df_simple['file_name'].str.contains(f'{i+1}30650_XGB_simple_IOA')]['relative_profit'].astype(float).values\n",
    "    df_simple_size.loc[i, 'xgb_soap'] = df_simple[df_simple['file_name'].str.contains(f'{i+1}30650_XGB_simple_SOAp')]['relative_profit'].astype(float).values\n",
    "    df_simple_size.loc[i, 'xgb_soanp'] = df_simple[df_simple['file_name'].str.contains(f'{i+1}30650_XGB_simple_SOAnp')]['relative_profit'].astype(float).values\n",
    "\n",
    "print(df_simple_size)"
   ]
  },
  {
   "cell_type": "code",
   "execution_count": 18,
   "metadata": {},
   "outputs": [
    {
     "name": "stdout",
     "output_type": "stream",
     "text": [
      "    ann_ioa  ann_soap  ann_soanp   xgb_ioa  xgb_soap  xgb_soanp\n",
      "0 -0.618986  0.965767   0.958428  0.953551  0.953086   0.952750\n",
      "1  0.867344  0.962901   0.961078  0.948872  0.934124   0.934118\n",
      "2  0.967263 -0.672382   0.967664  0.965620  0.928554   0.928410\n",
      "3  0.967364  0.967044   0.966542  0.968574  0.965275   0.966180\n",
      "4  0.970053  0.967187   0.966418  0.969698  0.948792   0.949811\n"
     ]
    }
   ],
   "source": [
    "df_simple_size_var200 = pd.DataFrame(0.0, index=range(5), columns=['ann_ioa', 'ann_soap', 'ann_soanp', 'xgb_ioa', 'xgb_soap', 'xgb_soanp'])\n",
    "\n",
    "\n",
    "for i in range(5):\n",
    "    df_simple_size_var200.loc[i, 'ann_ioa'] = df_simple[df_simple['file_name'].str.contains(f'{i+1}306200_ANN_simple_IOA')]['relative_profit'].astype(float).values\n",
    "    df_simple_size_var200.loc[i, 'ann_soap'] = df_simple[df_simple['file_name'].str.contains(f'{i+1}306200_ANN_simple_SOAp')]['relative_profit'].astype(float).values\n",
    "    df_simple_size_var200.loc[i, 'ann_soanp'] = df_simple[df_simple['file_name'].str.contains(f'{i+1}306200_ANN_simple_SOAnp')]['relative_profit'].astype(float).values\n",
    "    df_simple_size_var200.loc[i, 'xgb_ioa'] = df_simple[df_simple['file_name'].str.contains(f'{i+1}306200_XGB_simple_IOA')]['relative_profit'].astype(float).values\n",
    "    df_simple_size_var200.loc[i, 'xgb_soap'] = df_simple[df_simple['file_name'].str.contains(f'{i+1}306200_XGB_simple_SOAp')]['relative_profit'].astype(float).values\n",
    "    df_simple_size_var200.loc[i, 'xgb_soanp'] = df_simple[df_simple['file_name'].str.contains(f'{i+1}306200_XGB_simple_SOAnp')]['relative_profit'].astype(float).values\n",
    "\n",
    "print(df_simple_size_var200)\n"
   ]
  },
  {
   "cell_type": "code",
   "execution_count": 19,
   "metadata": {},
   "outputs": [
    {
     "name": "stdout",
     "output_type": "stream",
     "text": [
      "    ann_ioa  ann_soap  ann_soanp   xgb_ioa  xgb_soap  xgb_soanp   variance\n",
      "0  1.021574  1.019740   1.019370  1.021207  1.019088   1.020442  3891.7984\n",
      "1  0.990685  0.984111   0.985079  0.990344  0.984206   0.983690    50.4436\n",
      "2  0.987731  0.982579   0.981851  0.987724  0.971560   0.972039    73.4700\n",
      "3  0.970053  0.967187   0.966418  0.969698  0.948792   0.949811    98.9596\n",
      "4  0.986022  0.982401   0.980839  0.985815  0.980707   0.979601   149.7324\n",
      "5  0.984817  0.972850   0.974509  0.983671  0.971417   0.971127   147.0891\n"
     ]
    }
   ],
   "source": [
    "df_simple_variance = pd.DataFrame(0.0, index=range(6), columns=['ann_ioa', 'ann_soap', 'ann_soanp', 'xgb_ioa', 'xgb_soap', 'xgb_soanp'])\n",
    "\n",
    "# Iterate over each row index\n",
    "for i in range(6):\n",
    "    # For each column, filter the dataframe, convert to float, and assign the value\n",
    "    df_simple_variance.loc[i, 'ann_ioa'] = df_simple[df_simple['file_name'].str.contains(f'5306{i*50+50}_ANN_simple_IOA')]['relative_profit'].astype(float).values\n",
    "    df_simple_variance.loc[i, 'ann_soap'] = df_simple[df_simple['file_name'].str.contains(f'5306{i*50+50}_ANN_simple_SOAp')]['relative_profit'].astype(float).values\n",
    "    df_simple_variance.loc[i, 'ann_soanp'] = df_simple[df_simple['file_name'].str.contains(f'5306{i*50+50}_ANN_simple_SOAnp')]['relative_profit'].astype(float).values\n",
    "    df_simple_variance.loc[i, 'xgb_ioa'] = df_simple[df_simple['file_name'].str.contains(f'5306{i*50+50}_XGB_simple_IOA')]['relative_profit'].astype(float).values\n",
    "    df_simple_variance.loc[i, 'xgb_soap'] = df_simple[df_simple['file_name'].str.contains(f'5306{i*50+50}_XGB_simple_SOAp')]['relative_profit'].astype(float).values\n",
    "    df_simple_variance.loc[i, 'xgb_soanp'] = df_simple[df_simple['file_name'].str.contains(f'5306{i*50+50}_XGB_simple_SOAnp')]['relative_profit'].astype(float).values\n",
    "\n",
    "df_simple_variance['variance'] = [variance_50_s, variance_100_s, variance_150_s, variance_200_s, variance_250_s, variance_300_s]\n",
    "\n",
    "print(df_simple_variance)"
   ]
  },
  {
   "cell_type": "code",
   "execution_count": 20,
   "metadata": {},
   "outputs": [
    {
     "name": "stdout",
     "output_type": "stream",
     "text": [
      "    ann_ioa  ann_soap  ann_soanp   xgb_ioa  xgb_soap  xgb_soanp\n",
      "0  1.015418  1.015260   1.015140  1.016797  1.014207   1.014679\n",
      "1  1.018614  1.014950   1.016546  1.017906  0.988775   0.988719\n",
      "2  1.021043  1.019740   1.018917  1.020662  1.014067   1.013701\n",
      "3  1.021757  1.019724   1.018917  1.020803  1.005905   1.005898\n",
      "4  1.019947  1.019738   1.018917  1.020637  1.020088   1.019087\n",
      "5  1.019928  1.019197   1.018446  1.018545  1.014580   1.014464\n",
      "6  1.020145  1.019741   1.018917  1.019337  1.007645   1.007625\n"
     ]
    }
   ],
   "source": [
    "df_simple_feature_noise = pd.DataFrame(0.0, index=range(7), columns=['ann_ioa', 'ann_soap', 'ann_soanp', 'xgb_ioa', 'xgb_soap', 'xgb_soanp'])\n",
    "\n",
    "for i in range(7):\n",
    "    x = 3* (2**i)\n",
    "    df_simple_feature_noise.loc[i, 'ann_ioa'] = df_simple[df_simple['file_name'].str.contains(f'4{x}0650_ANN_simple_IOA')]['relative_profit'].astype(float).mean()\n",
    "    df_simple_feature_noise.loc[i, 'ann_soap'] = df_simple[df_simple['file_name'].str.contains(f'4{x}0650_ANN_simple_SOAp')]['relative_profit'].astype(float).mean()\n",
    "    df_simple_feature_noise.loc[i, 'ann_soanp'] = df_simple[df_simple['file_name'].str.contains(f'4{x}0650_ANN_simple_SOAnp')]['relative_profit'].astype(float).mean()\n",
    "    df_simple_feature_noise.loc[i, 'xgb_ioa'] = df_simple[df_simple['file_name'].str.contains(f'4{x}0650_XGB_simple_IOA')]['relative_profit'].astype(float).mean()\n",
    "    df_simple_feature_noise.loc[i, 'xgb_soap'] = df_simple[df_simple['file_name'].str.contains(f'4{x}0650_XGB_simple_SOAp')]['relative_profit'].astype(float).mean()\n",
    "    df_simple_feature_noise.loc[i, 'xgb_soanp'] = df_simple[df_simple['file_name'].str.contains(f'4{x}0650_XGB_simple_SOAnp')]['relative_profit'].astype(float).mean()\n",
    "\n",
    "print(df_simple_feature_noise)"
   ]
  },
  {
   "cell_type": "code",
   "execution_count": 21,
   "metadata": {},
   "outputs": [
    {
     "name": "stdout",
     "output_type": "stream",
     "text": [
      "    ann_ioa  ann_soap  ann_soanp   xgb_ioa  xgb_soap  xgb_soanp\n",
      "0  1.007820  1.000589   1.003871  1.008063  1.004361   1.003920\n",
      "1  1.007999  1.001547   1.003838  1.007854  0.930250   0.928576\n",
      "2  1.005616  1.001667   1.003818  1.006409  0.982176   0.982738\n",
      "3 -0.150899  1.001726   1.004316  1.007236  0.989417   0.989161\n",
      "4  1.005738  1.002966   1.004331  1.006963  0.983693   0.980991\n",
      "5  1.007781  0.992095   0.991281  1.004705  0.992244   0.992074\n",
      "6  1.003656  1.001493   1.003818  1.004975  0.975377   0.975385\n",
      "7  1.001006  0.988324   0.991536  1.004356  0.986259   0.985619\n"
     ]
    }
   ],
   "source": [
    "df_simple_feature_addinfo = pd.DataFrame(0.0, index=range(8), columns=['ann_ioa', 'ann_soap', 'ann_soanp', 'xgb_ioa', 'xgb_soap', 'xgb_soanp'])\n",
    "\n",
    "for i in range(8):\n",
    "    x = 3* (2**i)\n",
    "    df_simple_feature_addinfo.loc[i, 'ann_ioa'] = df_simple[df_simple['file_name'].str.contains(f'4{x}1650_ANN_simple_IOA')]['relative_profit'].astype(float).mean()\n",
    "    df_simple_feature_addinfo.loc[i, 'ann_soap'] = df_simple[df_simple['file_name'].str.contains(f'4{x}1650_ANN_simple_SOAp')]['relative_profit'].astype(float).mean()\n",
    "    df_simple_feature_addinfo.loc[i, 'ann_soanp'] = df_simple[df_simple['file_name'].str.contains(f'4{x}1650_ANN_simple_SOAnp')]['relative_profit'].astype(float).mean()\n",
    "    df_simple_feature_addinfo.loc[i, 'xgb_ioa'] = df_simple[df_simple['file_name'].str.contains(f'4{x}1650_XGB_simple_IOA')]['relative_profit'].astype(float).mean()\n",
    "    df_simple_feature_addinfo.loc[i, 'xgb_soap'] = df_simple[df_simple['file_name'].str.contains(f'4{x}1650_XGB_simple_SOAp')]['relative_profit'].astype(float).mean()\n",
    "    df_simple_feature_addinfo.loc[i, 'xgb_soanp'] = df_simple[df_simple['file_name'].str.contains(f'4{x}1650_XGB_simple_SOAnp')]['relative_profit'].astype(float).mean()\n",
    "\n",
    "print(df_simple_feature_addinfo)"
   ]
  },
  {
   "cell_type": "code",
   "execution_count": 22,
   "metadata": {},
   "outputs": [
    {
     "name": "stdout",
     "output_type": "stream",
     "text": [
      "    ann_ioa  ann_soap  ann_soanp   xgb_ioa  xgb_soap  xgb_soanp  Cochran´s Q  \\\n",
      "0  1.015418  1.015260   1.015140  1.016797  1.014207   1.014679          NaN   \n",
      "1  0.991246  0.988188   0.988299  0.989778  0.986904   0.986024     1.924297   \n",
      "2  0.991680  0.991966   0.992550  0.993211  0.984841   0.984382     2.341286   \n",
      "3  0.993473  0.984424   0.984126  0.993987  0.990571   0.990026     3.331063   \n",
      "4  0.992812  0.983448   0.981091  0.993759  0.982451   0.982203     5.018681   \n",
      "5  0.993764  0.988101   0.987719  0.994265  0.986658   0.986222    10.114936   \n",
      "\n",
      "          I2   p-value  \n",
      "0   0.000000       NaN  \n",
      "1  48.032970  0.165384  \n",
      "2  57.288421  0.125986  \n",
      "3  69.979550  0.067983  \n",
      "4  80.074447  0.025075  \n",
      "5  90.113630  0.001471  \n",
      "20.151275413481365 95.03753494763417 7.1552520837236955e-06\n"
     ]
    }
   ],
   "source": [
    "df_simple_heterogenity = pd.DataFrame(0.0, index=range(6), columns=['ann_ioa', 'ann_soap', 'ann_soanp', 'xgb_ioa', 'xgb_soap', 'xgb_soanp'])\n",
    "\n",
    "for i in range(6):\n",
    "    df_simple_heterogenity.loc[i, 'ann_ioa'] = df_simple[df_simple['file_name'].str.contains(f'43065{10*i}_ANN_simple_IOA')]['relative_profit'].astype(float).mean()\n",
    "    df_simple_heterogenity.loc[i, 'ann_soap'] = df_simple[df_simple['file_name'].str.contains(f'43065{10*i}_ANN_simple_SOAp')]['relative_profit'].astype(float).mean()\n",
    "    df_simple_heterogenity.loc[i, 'ann_soanp'] = df_simple[df_simple['file_name'].str.contains(f'43065{10*i}_ANN_simple_SOAnp')]['relative_profit'].astype(float).mean()\n",
    "    df_simple_heterogenity.loc[i, 'xgb_ioa'] = df_simple[df_simple['file_name'].str.contains(f'43065{10*i}_XGB_simple_IOA')]['relative_profit'].astype(float).mean()\n",
    "    df_simple_heterogenity.loc[i, 'xgb_soap'] = df_simple[df_simple['file_name'].str.contains(f'43065{10*i}_XGB_simple_SOAp')]['relative_profit'].astype(float).mean()\n",
    "    df_simple_heterogenity.loc[i, 'xgb_soanp'] = df_simple[df_simple['file_name'].str.contains(f'43065{10*i}_XGB_simple_SOAnp')]['relative_profit'].astype(float).mean()\n",
    "\n",
    "df_simple_heterogenity['Cochran´s Q'] = [Q_0_s, Q_10_s, Q_20_s, Q_30_s, Q_40_s, Q_50_s]\n",
    "df_simple_heterogenity['I2'] = [I2_0_s, I2_10_s, I2_20_s, I2_30_s, I2_40_s, I2_50_s]\n",
    "df_simple_heterogenity['p-value'] = [p_0_s, p_10_s, p_20_s, p_30_s, p_40_s, p_50_s]\n",
    "\n",
    "print(df_simple_heterogenity)\n",
    "\n",
    "print(Q_60_s, I2_60_s, p_60_s)"
   ]
  },
  {
   "cell_type": "code",
   "execution_count": 23,
   "metadata": {},
   "outputs": [
    {
     "name": "stdout",
     "output_type": "stream",
     "text": [
      "        ann_ioa  ann_soap  ann_soanp   xgb_ioa  xgb_soap  xgb_soanp\n",
      "0  9.407687e-01  0.660714   0.805241  0.998966  0.996139   0.996126\n",
      "1  0.000000e+00  0.982417   0.994879  0.997720  0.992559   0.992540\n",
      "2  0.000000e+00  0.996018   0.995904  0.999065  0.995883   0.995969\n",
      "3 -1.932729e+14  0.994745   0.994885  0.998307  0.995188   0.995154\n",
      "4 -4.403928e+04  0.995805   0.995780  0.998765  0.995924   0.995973\n",
      "5           NaN       NaN        NaN  0.998858  0.996146   0.996168\n"
     ]
    }
   ],
   "source": [
    "df_complex_size = pd.DataFrame(0.0, index=range(6), columns=['ann_ioa', 'ann_soap', 'ann_soanp', 'xgb_ioa', 'xgb_soap', 'xgb_soanp'])\n",
    "\n",
    "for i in range(6):\n",
    "    df_complex_size.loc[i, 'ann_ioa'] = df_complex[df_complex['file_name'].str.contains(f'{i+1}30650_ANN_complex_IOA')]['relative_profit'].astype(float).mean()\n",
    "    df_complex_size.loc[i, 'ann_soap'] = df_complex[df_complex['file_name'].str.contains(f'{i+1}30650_ANN_complex_SOAp')]['relative_profit'].astype(float).mean()\n",
    "    df_complex_size.loc[i, 'ann_soanp'] = df_complex[df_complex['file_name'].str.contains(f'{i+1}30650_ANN_complex_SOAnp')]['relative_profit'].astype(float).mean()\n",
    "    df_complex_size.loc[i, 'xgb_ioa'] = df_complex[df_complex['file_name'].str.contains(f'{i+1}30650_XGB_complex_IOA')]['relative_profit'].astype(float).mean()\n",
    "    df_complex_size.loc[i, 'xgb_soap'] = df_complex[df_complex['file_name'].str.contains(f'{i+1}30650_XGB_complex_SOAp')]['relative_profit'].astype(float).mean()\n",
    "    df_complex_size.loc[i, 'xgb_soanp'] = df_complex[df_complex['file_name'].str.contains(f'{i+1}30650_XGB_complex_SOAnp')]['relative_profit'].astype(float).mean()\n",
    "\n",
    "print(df_complex_size)"
   ]
  },
  {
   "cell_type": "code",
   "execution_count": 24,
   "metadata": {},
   "outputs": [
    {
     "name": "stdout",
     "output_type": "stream",
     "text": [
      "       ann_ioa  ann_soap  ann_soanp   xgb_ioa  xgb_soap  xgb_soanp\n",
      "0 -4846.192643  0.933713   0.951174  0.992649  0.988047   0.988048\n",
      "1     0.684931  0.993502   0.989550  0.993253  0.984371   0.984371\n",
      "2     0.994144  0.991197   0.988969  0.994744  0.981521   0.981522\n",
      "3     0.994610  0.988297   0.988458  0.995136  0.987695   0.987648\n",
      "4     0.994780  0.989719   0.989882  0.995093  0.989500   0.989564\n",
      "5          NaN       NaN        NaN       NaN       NaN        NaN\n"
     ]
    }
   ],
   "source": [
    "df_complex_size_var200 = pd.DataFrame(0.0, index=range(6), columns=['ann_ioa', 'ann_soap', 'ann_soanp', 'xgb_ioa', 'xgb_soap', 'xgb_soanp'])\n",
    "\n",
    "for i in range(6):\n",
    "    df_complex_size_var200.loc[i, 'ann_ioa'] = df_complex[df_complex['file_name'].str.contains(f'{i+1}306200_ANN_complex_IOA')]['relative_profit'].astype(float).mean()\n",
    "    df_complex_size_var200.loc[i, 'ann_soap'] = df_complex[df_complex['file_name'].str.contains(f'{i+1}306200_ANN_complex_SOAp')]['relative_profit'].astype(float).mean()\n",
    "    df_complex_size_var200.loc[i, 'ann_soanp'] = df_complex[df_complex['file_name'].str.contains(f'{i+1}306200_ANN_complex_SOAnp')]['relative_profit'].astype(float).mean()\n",
    "    df_complex_size_var200.loc[i, 'xgb_ioa'] = df_complex[df_complex['file_name'].str.contains(f'{i+1}306200_XGB_complex_IOA')]['relative_profit'].astype(float).mean()\n",
    "    df_complex_size_var200.loc[i, 'xgb_soap'] = df_complex[df_complex['file_name'].str.contains(f'{i+1}306200_XGB_complex_SOAp')]['relative_profit'].astype(float).mean()\n",
    "    df_complex_size_var200.loc[i, 'xgb_soanp'] = df_complex[df_complex['file_name'].str.contains(f'{i+1}306200_XGB_complex_SOAnp')]['relative_profit'].astype(float).mean()\n",
    "\n",
    "print(df_complex_size_var200)"
   ]
  },
  {
   "cell_type": "code",
   "execution_count": 25,
   "metadata": {},
   "outputs": [
    {
     "name": "stdout",
     "output_type": "stream",
     "text": [
      "        ann_ioa  ann_soap  ann_soanp   xgb_ioa   xgb_soap  xgb_soanp  \\\n",
      "0 -4.403928e+04  0.995805   0.995780  0.998765   0.995924   0.995973   \n",
      "1  9.966034e-01  0.992522   0.992518  0.996524   0.992844   0.992905   \n",
      "2  9.954247e-01  0.989707   0.989581  0.995212   0.988182   0.988145   \n",
      "3  9.947804e-01  0.989719   0.989882  0.995093   0.989500   0.989564   \n",
      "4 -4.313081e+11  0.988446   0.988394  0.994554  98.765003  98.767591   \n",
      "5 -1.344370e+10  0.986991   0.987015  0.994086   0.987492   0.987297   \n",
      "\n",
      "      variance  \n",
      "0  2914.918489  \n",
      "1    42.533067  \n",
      "2    66.185322  \n",
      "3    84.540789  \n",
      "4    92.446656  \n",
      "5   125.965989  \n"
     ]
    }
   ],
   "source": [
    "df_complex_variance = pd.DataFrame(0.0, index=range(6), columns=['ann_ioa', 'ann_soap', 'ann_soanp', 'xgb_ioa', 'xgb_soap', 'xgb_soanp'])\n",
    "\n",
    "for i in range(6):\n",
    "    df_complex_variance.loc[i, 'ann_ioa'] = df_complex[df_complex['file_name'].str.contains(f'5306{i*50+50}_ANN_complex_IOA')]['relative_profit'].astype(float).mean()\n",
    "    df_complex_variance.loc[i, 'ann_soap'] = df_complex[df_complex['file_name'].str.contains(f'5306{i*50+50}_ANN_complex_SOAp')]['relative_profit'].astype(float).mean()\n",
    "    df_complex_variance.loc[i, 'ann_soanp'] = df_complex[df_complex['file_name'].str.contains(f'5306{i*50+50}_ANN_complex_SOAnp')]['relative_profit'].astype(float).mean()\n",
    "    df_complex_variance.loc[i, 'xgb_ioa'] = df_complex[df_complex['file_name'].str.contains(f'5306{i*50+50}_XGB_complex_IOA')]['relative_profit'].astype(float).mean()\n",
    "    df_complex_variance.loc[i, 'xgb_soap'] = df_complex[df_complex['file_name'].str.contains(f'5306{i*50+50}_XGB_complex_SOAp')]['relative_profit'].astype(float).mean()\n",
    "    df_complex_variance.loc[i, 'xgb_soanp'] = df_complex[df_complex['file_name'].str.contains(f'5306{i*50+50}_XGB_complex_SOAnp')]['relative_profit'].astype(float).mean()\n",
    "\n",
    "df_complex_variance['variance'] = [variance_50_m, variance_100_m, variance_150_m, variance_200_m, variance_250_m, variance_300_m]\n",
    "\n",
    "print(df_complex_variance)"
   ]
  },
  {
   "cell_type": "code",
   "execution_count": 26,
   "metadata": {},
   "outputs": [
    {
     "name": "stdout",
     "output_type": "stream",
     "text": [
      "        ann_ioa   ann_soap  ann_soanp   xgb_ioa   xgb_soap  xgb_soanp\n",
      "0 -1.932729e+14   0.994745   0.994885  0.998307   0.995188   0.995154\n",
      "1  9.974459e-01   0.994693   0.994578  0.997909   0.991471   0.991467\n",
      "2  9.983424e-01   0.995679   0.995838  0.998668   0.995216   0.995288\n",
      "3  9.975801e-01  99.545980  99.564681  0.998588  99.480426  99.482061\n",
      "4  6.141861e-01  99.570047  99.580953  0.998598   0.995252   0.995300\n",
      "5  7.433204e-01  99.574316  99.581740  0.998590   0.995398   0.995390\n",
      "6  8.930001e-01   0.995652   0.995725  0.998551   0.989196   0.989163\n"
     ]
    }
   ],
   "source": [
    "df_complex_feature_noise = pd.DataFrame(0.0, index=range(7), columns=['ann_ioa', 'ann_soap', 'ann_soanp', 'xgb_ioa', 'xgb_soap', 'xgb_soanp'])\n",
    "\n",
    "for i in range(7):\n",
    "    x = 3* (2**i)\n",
    "    df_complex_feature_noise.loc[i, 'ann_ioa'] = df_complex[df_complex['file_name'].str.contains(f'4{x}0650_ANN_complex_IOA')]['relative_profit'].astype(float).mean()\n",
    "    df_complex_feature_noise.loc[i, 'ann_soap'] = df_complex[df_complex['file_name'].str.contains(f'4{x}0650_ANN_complex_SOAp')]['relative_profit'].astype(float).mean()\n",
    "    df_complex_feature_noise.loc[i, 'ann_soanp'] = df_complex[df_complex['file_name'].str.contains(f'4{x}0650_ANN_complex_SOAnp')]['relative_profit'].astype(float).mean()\n",
    "    df_complex_feature_noise.loc[i, 'xgb_ioa'] = df_complex[df_complex['file_name'].str.contains(f'4{x}0650_XGB_complex_IOA')]['relative_profit'].astype(float).mean()\n",
    "    df_complex_feature_noise.loc[i, 'xgb_soap'] = df_complex[df_complex['file_name'].str.contains(f'4{x}0650_XGB_complex_SOAp')]['relative_profit'].astype(float).mean()\n",
    "    df_complex_feature_noise.loc[i, 'xgb_soanp'] = df_complex[df_complex['file_name'].str.contains(f'4{x}0650_XGB_complex_SOAnp')]['relative_profit'].astype(float).mean()\n",
    "\n",
    "print(df_complex_feature_noise)"
   ]
  },
  {
   "cell_type": "code",
   "execution_count": 27,
   "metadata": {},
   "outputs": [
    {
     "name": "stdout",
     "output_type": "stream",
     "text": [
      "        ann_ioa  ann_soap  ann_soanp   xgb_ioa   xgb_soap  xgb_soanp\n",
      "0 -9.196492e+01  0.009861   0.009867  0.994164   0.986734   0.986696\n",
      "1 -5.185119e+00  0.987369   0.987638  0.993984  98.400221  98.404240\n",
      "2  9.941453e-01  0.986592   0.987161  0.994188   0.986676   0.986722\n",
      "3 -1.303829e+14  0.986851   0.987161  0.993968   0.982880   0.982906\n",
      "4 -3.420436e+10  0.987000   0.987161  0.994108   0.983969   0.983870\n",
      "5  9.934649e-01  0.986731   0.987180  0.994113   0.985736   0.985584\n",
      "6  9.934362e-01  0.986863   0.987161  0.993590   0.972064   0.972034\n",
      "7  9.935816e-01       NaN        NaN  0.994032        NaN        NaN\n"
     ]
    }
   ],
   "source": [
    "df_complex_feature_addinfo = pd.DataFrame(0.0, index=range(8), columns=['ann_ioa', 'ann_soap', 'ann_soanp', 'xgb_ioa', 'xgb_soap', 'xgb_soanp'])\n",
    "\n",
    "for i in range(8):\n",
    "    x = 3* (2**i)\n",
    "    df_complex_feature_addinfo.loc[i, 'ann_ioa'] = df_complex[df_complex['file_name'].str.contains(f'4{x}1650_ANN_complex_IOA')]['relative_profit'].astype(float).mean()\n",
    "    df_complex_feature_addinfo.loc[i, 'ann_soap'] = df_complex[df_complex['file_name'].str.contains(f'4{x}1650_ANN_complex_SOAp')]['relative_profit'].astype(float).mean()\n",
    "    df_complex_feature_addinfo.loc[i, 'ann_soanp'] = df_complex[df_complex['file_name'].str.contains(f'4{x}1650_ANN_complex_SOAnp')]['relative_profit'].astype(float).mean()\n",
    "    df_complex_feature_addinfo.loc[i, 'xgb_ioa'] = df_complex[df_complex['file_name'].str.contains(f'4{x}1650_XGB_complex_IOA')]['relative_profit'].astype(float).mean()\n",
    "    df_complex_feature_addinfo.loc[i, 'xgb_soap'] = df_complex[df_complex['file_name'].str.contains(f'4{x}1650_XGB_complex_SOAp')]['relative_profit'].astype(float).mean()\n",
    "    df_complex_feature_addinfo.loc[i, 'xgb_soanp'] = df_complex[df_complex['file_name'].str.contains(f'4{x}1650_XGB_complex_SOAnp')]['relative_profit'].astype(float).mean()\n",
    "\n",
    "print(df_complex_feature_addinfo)"
   ]
  },
  {
   "cell_type": "code",
   "execution_count": 28,
   "metadata": {},
   "outputs": [
    {
     "name": "stdout",
     "output_type": "stream",
     "text": [
      "        ann_ioa  ann_soap  ann_soanp   xgb_ioa  xgb_soap  xgb_soanp  \\\n",
      "0 -1.932729e+14  0.994745   0.994885  0.998307  0.995188   0.995154   \n",
      "1  9.970030e-01  0.994826   0.994753  0.997284  0.994721   0.994746   \n",
      "2  9.965824e-01  0.986019   0.986066  0.997105  0.993393   0.993407   \n",
      "3  1.073740e-01  0.983550   0.983646  0.997323  0.994625   0.994665   \n",
      "4  9.970051e-01  0.994927   0.994885  0.997054  0.993658   0.993662   \n",
      "5  9.971123e-01  0.995163   0.995199  0.997412  0.994485   0.994488   \n",
      "\n",
      "   Cochran´s Q         I2   p-value  \n",
      "0          NaN   0.000000       NaN  \n",
      "1     1.964078  49.085526  0.161078  \n",
      "2     3.949867  74.682689  0.046875  \n",
      "3     5.209902  80.805780  0.022459  \n",
      "4     7.928043  87.386547  0.004867  \n",
      "5    14.974762  93.322098  0.000109  \n"
     ]
    }
   ],
   "source": [
    "df_complex_heterogenity = pd.DataFrame(0.0, index=range(6), columns=['ann_ioa', 'ann_soap', 'ann_soanp', 'xgb_ioa', 'xgb_soap', 'xgb_soanp'])\n",
    "\n",
    "for i in range(6):\n",
    "    df_complex_heterogenity.loc[i, 'ann_ioa'] = df_complex[df_complex['file_name'].str.contains(f'43065{10*i}_ANN_complex_IOA')]['relative_profit'].astype(float).mean()\n",
    "    df_complex_heterogenity.loc[i, 'ann_soap'] = df_complex[df_complex['file_name'].str.contains(f'43065{10*i}_ANN_complex_SOAp')]['relative_profit'].astype(float).mean()\n",
    "    df_complex_heterogenity.loc[i, 'ann_soanp'] = df_complex[df_complex['file_name'].str.contains(f'43065{10*i}_ANN_complex_SOAnp')]['relative_profit'].astype(float).mean()\n",
    "    df_complex_heterogenity.loc[i, 'xgb_ioa'] = df_complex[df_complex['file_name'].str.contains(f'43065{10*i}_XGB_complex_IOA')]['relative_profit'].astype(float).mean()\n",
    "    df_complex_heterogenity.loc[i, 'xgb_soap'] = df_complex[df_complex['file_name'].str.contains(f'43065{10*i}_XGB_complex_SOAp')]['relative_profit'].astype(float).mean()\n",
    "    df_complex_heterogenity.loc[i, 'xgb_soanp'] = df_complex[df_complex['file_name'].str.contains(f'43065{10*i}_XGB_complex_SOAnp')]['relative_profit'].astype(float).mean()\n",
    "\n",
    "df_complex_heterogenity['Cochran´s Q'] = [Q_0_m, Q_10_m, Q_20_m, Q_30_m, Q_40_m, Q_50_m]\n",
    "df_complex_heterogenity['I2'] = [I2_0_m, I2_10_m, I2_20_m, I2_30_m, I2_40_m, I2_50_m]\n",
    "df_complex_heterogenity['p-value'] = [p_0_m, p_10_m, p_20_m, p_30_m, p_40_m, p_50_m]\n",
    "\n",
    "print(df_complex_heterogenity)"
   ]
  },
  {
   "cell_type": "code",
   "execution_count": 29,
   "metadata": {},
   "outputs": [
    {
     "name": "stdout",
     "output_type": "stream",
     "text": [
      "       ann_ioa     ann_soap    ann_soanp     xgb_ioa    xgb_soap   xgb_soanp\n",
      "0   338.205808   344.273133   344.247971  260.378345  257.056825  257.057964\n",
      "1   340.977936   322.207150   322.207322  234.818126  232.683770  232.679845\n",
      "2   410.186074   318.231343   318.177666  216.951997  202.178048  202.179747\n",
      "3   936.282373  1111.152747  1111.152834  277.865990  265.497076  265.496719\n",
      "4  6092.481500  6958.386754  6958.386490  242.540946  219.230384  219.230321\n"
     ]
    }
   ],
   "source": [
    "# Initialize DataFrame with the correct dtype for relative_profit values\n",
    "df_simple_size = pd.DataFrame(0.0, index=range(5), columns=['ann_ioa', 'ann_soap', 'ann_soanp', 'xgb_ioa', 'xgb_soap', 'xgb_soanp'])\n",
    "\n",
    "# Use .loc for assignments and ensure values are cast to float\n",
    "for i in range(5):\n",
    "    df_simple_size.loc[i, 'ann_ioa'] = df_simple[df_simple['file_name'].str.contains(f'{i+1}30650_ANN_simple_IOA')]['elapsed_time'].astype(float).values\n",
    "    df_simple_size.loc[i, 'ann_soap'] = df_simple[df_simple['file_name'].str.contains(f'{i+1}30650_ANN_simple_SOAp')]['elapsed_time'].astype(float).values\n",
    "    df_simple_size.loc[i, 'ann_soanp'] = df_simple[df_simple['file_name'].str.contains(f'{i+1}30650_ANN_simple_SOAnp')]['elapsed_time'].astype(float).values    \n",
    "    df_simple_size.loc[i, 'xgb_ioa'] = df_simple[df_simple['file_name'].str.contains(f'{i+1}30650_XGB_simple_IOA')]['elapsed_time'].astype(float).values\n",
    "    df_simple_size.loc[i, 'xgb_soap'] = df_simple[df_simple['file_name'].str.contains(f'{i+1}30650_XGB_simple_SOAp')]['elapsed_time'].astype(float).values\n",
    "    df_simple_size.loc[i, 'xgb_soanp'] = df_simple[df_simple['file_name'].str.contains(f'{i+1}30650_XGB_simple_SOAnp')]['elapsed_time'].astype(float).values\n",
    "    \n",
    "\n",
    "print(df_simple_size)"
   ]
  },
  {
   "cell_type": "code",
   "execution_count": 30,
   "metadata": {},
   "outputs": [
    {
     "name": "stdout",
     "output_type": "stream",
     "text": [
      "       ann_ioa     ann_soap    ann_soanp       xgb_ioa     xgb_soap  \\\n",
      "0   322.073979   558.441177   559.793023    284.679321   405.607569   \n",
      "1   346.937216   668.497314   639.068693   1029.805825  1097.205450   \n",
      "2   403.769531   690.564515   675.784549   1034.891729  1071.052153   \n",
      "3  1337.689998  1451.561883  1435.653644   1899.801541  1547.388881   \n",
      "4  6695.486218  5857.299277  5842.934321   3625.901934  1149.033884   \n",
      "5          NaN          NaN          NaN  28798.400226   743.289627   \n",
      "\n",
      "     xgb_soanp  \n",
      "0   396.337405  \n",
      "1  1100.247956  \n",
      "2  1091.689488  \n",
      "3  1551.719534  \n",
      "4  1170.657391  \n",
      "5   746.794034  \n"
     ]
    }
   ],
   "source": [
    "df_complex_size = pd.DataFrame(0.0, index=range(6), columns=['ann_ioa', 'ann_soap', 'ann_soanp', 'xgb_ioa', 'xgb_soap', 'xgb_soanp'])\n",
    "\n",
    "for i in range(6):\n",
    "    df_complex_size.loc[i, 'ann_ioa'] = df_complex[df_complex['file_name'].str.contains(f'{i+1}30650_ANN_complex_IOA')]['elapsed_time'].astype(float).mean()\n",
    "    df_complex_size.loc[i, 'ann_soap'] = df_complex[df_complex['file_name'].str.contains(f'{i+1}30650_ANN_complex_SOAp')]['elapsed_time'].astype(float).mean()\n",
    "    df_complex_size.loc[i, 'ann_soanp'] = df_complex[df_complex['file_name'].str.contains(f'{i+1}30650_ANN_complex_SOAnp')]['elapsed_time'].astype(float).mean()\n",
    "    df_complex_size.loc[i, 'xgb_ioa'] = df_complex[df_complex['file_name'].str.contains(f'{i+1}30650_XGB_complex_IOA')]['elapsed_time'].astype(float).mean()\n",
    "    df_complex_size.loc[i, 'xgb_soap'] = df_complex[df_complex['file_name'].str.contains(f'{i+1}30650_XGB_complex_SOAp')]['elapsed_time'].astype(float).mean()\n",
    "    df_complex_size.loc[i, 'xgb_soanp'] = df_complex[df_complex['file_name'].str.contains(f'{i+1}30650_XGB_complex_SOAnp')]['elapsed_time'].astype(float).mean()\n",
    "\n",
    "print(df_complex_size)"
   ]
  },
  {
   "cell_type": "code",
   "execution_count": 31,
   "metadata": {},
   "outputs": [
    {
     "name": "stdout",
     "output_type": "stream",
     "text": [
      "       ann_ioa     ann_soap    ann_soanp      xgb_ioa      xgb_soap  \\\n",
      "0  1687.232736  2122.753906  2122.753906  3560.273667   3690.812500   \n",
      "1  1681.001839  1900.191406  1900.230469  3563.527902   3632.292969   \n",
      "2  1754.967367  1574.304688  1574.343750  3555.311719   3551.832031   \n",
      "3  2446.690048  4299.978402  4299.978402  4442.481275   5613.660156   \n",
      "4  2173.721526  2363.472479  2363.472479  4140.893844  14555.035757   \n",
      "\n",
      "      xgb_soanp  \n",
      "0   3690.816406  \n",
      "1   3632.292969  \n",
      "2   3551.832031  \n",
      "3   5613.660156  \n",
      "4  14555.035757  \n"
     ]
    }
   ],
   "source": [
    "# Initialize DataFrame with the correct dtype for relative_profit values\n",
    "df_simple_size = pd.DataFrame(0.0, index=range(5), columns=['ann_ioa', 'ann_soap', 'ann_soanp', 'xgb_ioa', 'xgb_soap', 'xgb_soanp'])\n",
    "\n",
    "# Use .loc for assignments and ensure values are cast to float\n",
    "for i in range(5):\n",
    "    df_simple_size.loc[i, 'ann_ioa'] = df_simple[df_simple['file_name'].str.contains(f'{i+1}30650_ANN_simple_IOA')]['avg_memory'].astype(float).values\n",
    "    df_simple_size.loc[i, 'ann_soap'] = df_simple[df_simple['file_name'].str.contains(f'{i+1}30650_ANN_simple_SOAp')]['avg_memory'].astype(float).values\n",
    "    df_simple_size.loc[i, 'ann_soanp'] = df_simple[df_simple['file_name'].str.contains(f'{i+1}30650_ANN_simple_SOAnp')]['avg_memory'].astype(float).values\n",
    "    df_simple_size.loc[i, 'xgb_ioa'] = df_simple[df_simple['file_name'].str.contains(f'{i+1}30650_XGB_simple_IOA')]['avg_memory'].astype(float).values\n",
    "    df_simple_size.loc[i, 'xgb_soap'] = df_simple[df_simple['file_name'].str.contains(f'{i+1}30650_XGB_simple_SOAp')]['avg_memory'].astype(float).values\n",
    "    df_simple_size.loc[i, 'xgb_soanp'] = df_simple[df_simple['file_name'].str.contains(f'{i+1}30650_XGB_simple_SOAnp')]['avg_memory'].astype(float).values\n",
    "\n",
    "print(df_simple_size)\n"
   ]
  },
  {
   "cell_type": "code",
   "execution_count": 32,
   "metadata": {},
   "outputs": [
    {
     "name": "stdout",
     "output_type": "stream",
     "text": [
      "       ann_ioa     ann_soap     ann_soanp       xgb_ioa      xgb_soap  \\\n",
      "0  1733.220631  4162.420815   8251.799359   3788.585573   5955.357860   \n",
      "1  1811.562241  5846.369933   9944.643326  12081.016396  14168.095329   \n",
      "2  2072.525010  5767.491992   9854.928331  12082.386515  14220.327318   \n",
      "3  6257.779121  9243.197305  13356.323109  17111.021426  19998.928482   \n",
      "4  2749.011250  6136.050939  10222.293599  13837.011432  15469.823624   \n",
      "5          NaN          NaN           NaN   9046.319939   6967.378791   \n",
      "\n",
      "      xgb_soanp  \n",
      "0  10072.196004  \n",
      "1  18206.055592  \n",
      "2  18249.102061  \n",
      "3  24088.044449  \n",
      "4  19554.847110  \n",
      "5   9334.133316  \n"
     ]
    }
   ],
   "source": [
    "df_complex_size = pd.DataFrame(0.0, index=range(6), columns=['ann_ioa', 'ann_soap', 'ann_soanp', 'xgb_ioa', 'xgb_soap', 'xgb_soanp'])\n",
    "\n",
    "for i in range(6):\n",
    "    df_complex_size.loc[i, 'ann_ioa'] = df_complex[df_complex['file_name'].str.contains(f'{i+1}30650_ANN_complex_IOA')]['avg_memory'].astype(float).mean()\n",
    "    df_complex_size.loc[i, 'ann_soap'] = df_complex[df_complex['file_name'].str.contains(f'{i+1}30650_ANN_complex_SOAp')]['avg_memory'].astype(float).mean()\n",
    "    df_complex_size.loc[i, 'ann_soanp'] = df_complex[df_complex['file_name'].str.contains(f'{i+1}30650_ANN_complex_SOAnp')]['avg_memory'].astype(float).mean()\n",
    "    df_complex_size.loc[i, 'xgb_ioa'] = df_complex[df_complex['file_name'].str.contains(f'{i+1}30650_XGB_complex_IOA')]['avg_memory'].astype(float).mean()\n",
    "    df_complex_size.loc[i, 'xgb_soap'] = df_complex[df_complex['file_name'].str.contains(f'{i+1}30650_XGB_complex_SOAp')]['avg_memory'].astype(float).mean()\n",
    "    df_complex_size.loc[i, 'xgb_soanp'] = df_complex[df_complex['file_name'].str.contains(f'{i+1}30650_XGB_complex_SOAnp')]['avg_memory'].astype(float).mean()\n",
    "\n",
    "print(df_complex_size)"
   ]
  }
 ],
 "metadata": {
  "kernelspec": {
   "display_name": "Python 3",
   "language": "python",
   "name": "python3"
  },
  "language_info": {
   "codemirror_mode": {
    "name": "ipython",
    "version": 3
   },
   "file_extension": ".py",
   "mimetype": "text/x-python",
   "name": "python",
   "nbconvert_exporter": "python",
   "pygments_lexer": "ipython3",
   "version": "3.11.7"
  }
 },
 "nbformat": 4,
 "nbformat_minor": 2
}
