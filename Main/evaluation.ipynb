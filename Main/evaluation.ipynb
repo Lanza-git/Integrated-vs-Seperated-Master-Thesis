{
 "cells": [
  {
   "cell_type": "code",
   "execution_count": 1,
   "metadata": {},
   "outputs": [
    {
     "name": "stderr",
     "output_type": "stream",
     "text": [
      "C:\\Users\\lanza\\AppData\\Local\\Temp\\ipykernel_11364\\846755032.py:3: DeprecationWarning: \n",
      "Pyarrow will become a required dependency of pandas in the next major release of pandas (pandas 3.0),\n",
      "(to allow more performant data types, such as the Arrow string type, and better interoperability with other libraries)\n",
      "but was not found to be installed on your system.\n",
      "If this would cause problems for you,\n",
      "please provide us feedback at https://github.com/pandas-dev/pandas/issues/54466\n",
      "        \n",
      "  import pandas as pd\n"
     ]
    },
    {
     "ename": "KeyError",
     "evalue": "'memory'",
     "output_type": "error",
     "traceback": [
      "\u001b[1;31m---------------------------------------------------------------------------\u001b[0m",
      "\u001b[1;31mKeyError\u001b[0m                                  Traceback (most recent call last)",
      "Cell \u001b[1;32mIn[1], line 24\u001b[0m\n\u001b[0;32m     21\u001b[0m directory_path \u001b[38;5;241m=\u001b[39m \u001b[38;5;124m'\u001b[39m\u001b[38;5;124mC:/Users/lanza/Master_Thesis_EL/Integrated-vs-Seperated-Master-Thesis/test/\u001b[39m\u001b[38;5;124m'\u001b[39m\n\u001b[0;32m     23\u001b[0m \u001b[38;5;66;03m# Load metadata from all models\u001b[39;00m\n\u001b[1;32m---> 24\u001b[0m metadata_list \u001b[38;5;241m=\u001b[39m \u001b[43mload_metadata\u001b[49m\u001b[43m(\u001b[49m\u001b[43mdirectory_path\u001b[49m\u001b[43m)\u001b[49m\n\u001b[0;32m     26\u001b[0m \u001b[38;5;66;03m# Convert to DataFrame for better visualization\u001b[39;00m\n\u001b[0;32m     27\u001b[0m df_metadata \u001b[38;5;241m=\u001b[39m pd\u001b[38;5;241m.\u001b[39mDataFrame(metadata_list)\n",
      "Cell \u001b[1;32mIn[1], line 16\u001b[0m, in \u001b[0;36mload_metadata\u001b[1;34m(directory)\u001b[0m\n\u001b[0;32m      9\u001b[0m         \u001b[38;5;28;01mwith\u001b[39;00m \u001b[38;5;28mopen\u001b[39m(os\u001b[38;5;241m.\u001b[39mpath\u001b[38;5;241m.\u001b[39mjoin(directory, file_name), \u001b[38;5;124m'\u001b[39m\u001b[38;5;124mrb\u001b[39m\u001b[38;5;124m'\u001b[39m) \u001b[38;5;28;01mas\u001b[39;00m f:\n\u001b[0;32m     10\u001b[0m             data \u001b[38;5;241m=\u001b[39m pickle\u001b[38;5;241m.\u001b[39mload(f)\n\u001b[0;32m     11\u001b[0m             metadata\u001b[38;5;241m.\u001b[39mappend({\n\u001b[0;32m     12\u001b[0m                 \u001b[38;5;124m'\u001b[39m\u001b[38;5;124mfile_name\u001b[39m\u001b[38;5;124m'\u001b[39m: file_name,\n\u001b[0;32m     13\u001b[0m                 \u001b[38;5;124m'\u001b[39m\u001b[38;5;124mhyperparameter\u001b[39m\u001b[38;5;124m'\u001b[39m: data[\u001b[38;5;124m'\u001b[39m\u001b[38;5;124mhyperparameter\u001b[39m\u001b[38;5;124m'\u001b[39m],\n\u001b[0;32m     14\u001b[0m                 \u001b[38;5;124m'\u001b[39m\u001b[38;5;124mprofit\u001b[39m\u001b[38;5;124m'\u001b[39m: data[\u001b[38;5;124m'\u001b[39m\u001b[38;5;124mprofit\u001b[39m\u001b[38;5;124m'\u001b[39m],\n\u001b[0;32m     15\u001b[0m                 \u001b[38;5;124m'\u001b[39m\u001b[38;5;124melapsed_time\u001b[39m\u001b[38;5;124m'\u001b[39m: data[\u001b[38;5;124m'\u001b[39m\u001b[38;5;124melapsed_time\u001b[39m\u001b[38;5;124m'\u001b[39m],\n\u001b[1;32m---> 16\u001b[0m                 \u001b[38;5;124m'\u001b[39m\u001b[38;5;124mmemory\u001b[39m\u001b[38;5;124m'\u001b[39m: \u001b[43mdata\u001b[49m\u001b[43m[\u001b[49m\u001b[38;5;124;43m'\u001b[39;49m\u001b[38;5;124;43mmemory\u001b[39;49m\u001b[38;5;124;43m'\u001b[39;49m\u001b[43m]\u001b[49m\n\u001b[0;32m     17\u001b[0m             })\n\u001b[0;32m     18\u001b[0m \u001b[38;5;28;01mreturn\u001b[39;00m metadata\n",
      "\u001b[1;31mKeyError\u001b[0m: 'memory'"
     ]
    }
   ],
   "source": [
    "import os\n",
    "import pickle\n",
    "import pandas as pd\n",
    "\n",
    "def load_metadata(directory):\n",
    "    metadata = []\n",
    "    for file_name in os.listdir(directory):\n",
    "        if file_name.endswith('meta.pkl'):\n",
    "            with open(os.path.join(directory, file_name), 'rb') as f:\n",
    "                data = pickle.load(f)\n",
    "                metadata.append({\n",
    "                    'file_name': file_name,\n",
    "                    'hyperparameter': data['hyperparameter'],\n",
    "                    'profit': data['profit'],\n",
    "                    'elapsed_time': data['elapsed_time'],\n",
    "                    'peak_memory' : data['peak_memory'],\n",
    "                    'avg_memory': data['avg_memory']\n",
    "                })\n",
    "    return metadata\n",
    "\n",
    "# Directory where the test files are located\n",
    "directory_path = 'C:/Users/lanza/Master_Thesis_EL/Integrated-vs-Seperated-Master-Thesis/test/'\n",
    "\n",
    "# Load metadata from all models\n",
    "metadata_list = load_metadata(directory_path)\n",
    "\n",
    "# Convert to DataFrame for better visualization\n",
    "df_metadata = pd.DataFrame(metadata_list)\n",
    "\n"
   ]
  },
  {
   "cell_type": "code",
   "execution_count": 43,
   "metadata": {},
   "outputs": [
    {
     "name": "stdout",
     "output_type": "stream",
     "text": [
      "                          file_name  \\\n",
      "0   test_1_ANN_complex_IOA_meta.pkl   \n",
      "1    test_1_ANN_simple_IOA_meta.pkl   \n",
      "2  test_1_ANN_simple_SOAnp_meta.pkl   \n",
      "3   test_1_ANN_simple_SOAp_meta.pkl   \n",
      "4    test_1_XGB_simple_IOA_meta.pkl   \n",
      "5  test_1_XGB_simple_SOAnp_meta.pkl   \n",
      "6   test_1_XGB_simple_SOAp_meta.pkl   \n",
      "\n",
      "                                      hyperparameter      profit  \\\n",
      "0     [3, 6, 0.009797740749733486, 27, 10, 16, relu] -573.613715   \n",
      "1    [0, 10, 0.011605143953806098, 20, 10, 16, relu] -370.584107   \n",
      "2  [10, 26, 0.0005990605303979801, 42, 10, 32, tanh]  416.569354   \n",
      "3  [10, 26, 0.0005990605303979801, 42, 10, 32, tanh] -170.673987   \n",
      "4  {'learning_rate': 0.30075780362431, 'max_depth...  446.434137   \n",
      "5  {'learning_rate': 0.46834087167664973, 'max_de...  449.039471   \n",
      "6  {'learning_rate': 0.46834087167664973, 'max_de...  449.039460   \n",
      "\n",
      "   elapsed_time              memory  \n",
      "0      7.865507  (6242318, 6273729)  \n",
      "1      5.879755             7075143  \n",
      "2     13.336114            10046910  \n",
      "3     13.347669            10045859  \n",
      "4      0.275276              311534  \n",
      "5      0.247845              390537  \n",
      "6      0.248147              390537  \n"
     ]
    }
   ],
   "source": [
    "print(df_metadata)\n",
    "\n"
   ]
  },
  {
   "cell_type": "code",
   "execution_count": 42,
   "metadata": {},
   "outputs": [
    {
     "name": "stdout",
     "output_type": "stream",
     "text": [
      "                          file_name      profit\n",
      "0   test_1_ANN_complex_IOA_meta.pkl -573.613715\n",
      "1    test_1_ANN_simple_IOA_meta.pkl -370.584107\n",
      "2  test_1_ANN_simple_SOAnp_meta.pkl  416.569354\n",
      "3   test_1_ANN_simple_SOAp_meta.pkl -170.673987\n",
      "4    test_1_XGB_simple_IOA_meta.pkl  446.434137\n",
      "5  test_1_XGB_simple_SOAnp_meta.pkl  449.039471\n",
      "6   test_1_XGB_simple_SOAp_meta.pkl  449.039460\n"
     ]
    }
   ],
   "source": [
    "abc = df_metadata[['file_name', 'profit']]\n",
    "print(abc)"
   ]
  }
 ],
 "metadata": {
  "kernelspec": {
   "display_name": "Python 3",
   "language": "python",
   "name": "python3"
  },
  "language_info": {
   "codemirror_mode": {
    "name": "ipython",
    "version": 3
   },
   "file_extension": ".py",
   "mimetype": "text/x-python",
   "name": "python",
   "nbconvert_exporter": "python",
   "pygments_lexer": "ipython3",
   "version": "3.11.7"
  }
 },
 "nbformat": 4,
 "nbformat_minor": 2
}
