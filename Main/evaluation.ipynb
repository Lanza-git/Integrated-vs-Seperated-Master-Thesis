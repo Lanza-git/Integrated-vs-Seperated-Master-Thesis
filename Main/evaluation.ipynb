{
 "cells": [
  {
   "cell_type": "code",
   "execution_count": 1,
   "metadata": {},
   "outputs": [
    {
     "name": "stderr",
     "output_type": "stream",
     "text": [
      "C:\\Users\\lanza\\AppData\\Local\\Temp\\ipykernel_17364\\1409499895.py:3: DeprecationWarning: \n",
      "Pyarrow will become a required dependency of pandas in the next major release of pandas (pandas 3.0),\n",
      "(to allow more performant data types, such as the Arrow string type, and better interoperability with other libraries)\n",
      "but was not found to be installed on your system.\n",
      "If this would cause problems for you,\n",
      "please provide us feedback at https://github.com/pandas-dev/pandas/issues/54466\n",
      "        \n",
      "  import pandas as pd\n"
     ]
    }
   ],
   "source": [
    "import os\n",
    "import pickle\n",
    "import pandas as pd\n",
    "\n",
    "def load_metadata(directory):\n",
    "    metadata = []\n",
    "    for file_name in os.listdir(directory):\n",
    "        if file_name.endswith('meta.pkl'):\n",
    "            with open(os.path.join(directory, file_name), 'rb') as f:\n",
    "                data = pickle.load(f)\n",
    "                metadata.append({\n",
    "                    'file_name': file_name,\n",
    "                    'hyperparameter': data['hyperparameter'],\n",
    "                    'profit': data['profit'],\n",
    "                    'elapsed_time': data['elapsed_time'],\n",
    "                    'peak_memory' : data['peak_memory'],\n",
    "                    'avg_memory': data['avg_memory']\n",
    "                })\n",
    "    return metadata\n",
    "\n",
    "# Directory where the test files are located\n",
    "directory_path = 'C:/Users/lanza/Master_Thesis_EL/Integrated-vs-Seperated-Master-Thesis/test/'\n",
    "\n",
    "# Load metadata from all models\n",
    "metadata_list = load_metadata(directory_path)\n",
    "\n",
    "# Convert to DataFrame for better visualization\n",
    "df_metadata = pd.DataFrame(metadata_list)\n",
    "\n"
   ]
  },
  {
   "cell_type": "code",
   "execution_count": 2,
   "metadata": {},
   "outputs": [
    {
     "name": "stdout",
     "output_type": "stream",
     "text": [
      "                           file_name  \\\n",
      "0    test_1_ANN_complex_IOA_meta.pkl   \n",
      "1  test_1_ANN_complex_SOAnp_meta.pkl   \n",
      "2   test_1_ANN_complex_SOAp_meta.pkl   \n",
      "3     test_1_ANN_simple_IOA_meta.pkl   \n",
      "4   test_1_ANN_simple_SOAnp_meta.pkl   \n",
      "5    test_1_ANN_simple_SOAp_meta.pkl   \n",
      "6    test_1_XGB_complex_IOA_meta.pkl   \n",
      "7     test_1_XGB_simple_IOA_meta.pkl   \n",
      "8   test_1_XGB_simple_SOAnp_meta.pkl   \n",
      "9    test_1_XGB_simple_SOAp_meta.pkl   \n",
      "\n",
      "                                      hyperparameter      profit  \\\n",
      "0     [3, 7, 0.001810100686617168, 27, 10, 16, relu]   72.178994   \n",
      "1    [2, 27, 0.06354867267256502, 41, 10, 128, tanh]   93.780029   \n",
      "2    [2, 27, 0.06354867267256502, 41, 10, 128, tanh]   94.918162   \n",
      "3    [2, 23, 0.024855741125087885, 49, 10, 16, tanh]  425.250305   \n",
      "4    [3, 26, 0.013796761669967864, 12, 10, 64, tanh]  416.567567   \n",
      "5    [3, 26, 0.013796761669967864, 12, 10, 64, tanh]  -81.365178   \n",
      "6  {'learning_rate': 0.287089794846087, 'max_dept...   99.453794   \n",
      "7  {'learning_rate': 0.27296201706479195, 'max_de...  446.324965   \n",
      "8  {'learning_rate': 0.33949982335523343, 'max_de...  449.038160   \n",
      "9  {'learning_rate': 0.33949982335523343, 'max_de...  449.038664   \n",
      "\n",
      "   elapsed_time  peak_memory  avg_memory  \n",
      "0      4.015448   467.226562  453.651367  \n",
      "1      6.007697   522.421875  522.419922  \n",
      "2      7.007724   522.542969  519.240885  \n",
      "3      5.010515   408.835938  392.267969  \n",
      "4      4.013188   419.250000  417.179688  \n",
      "5      4.013105   419.250000  417.148438  \n",
      "6      1.010594   529.687500  529.687500  \n",
      "7      1.010377   429.070312  429.070312  \n",
      "8      2.005761   431.867188  431.867188  \n",
      "9      2.005939   431.867188  431.867188  \n"
     ]
    }
   ],
   "source": [
    "print(df_metadata)\n",
    "\n"
   ]
  },
  {
   "cell_type": "code",
   "execution_count": 4,
   "metadata": {},
   "outputs": [
    {
     "name": "stdout",
     "output_type": "stream",
     "text": [
      "                           file_name      profit  avg_memory  peak_memory  \\\n",
      "0    test_1_ANN_complex_IOA_meta.pkl   72.178994  453.651367   467.226562   \n",
      "1  test_1_ANN_complex_SOAnp_meta.pkl   93.780029  522.419922   522.421875   \n",
      "2   test_1_ANN_complex_SOAp_meta.pkl   94.918162  519.240885   522.542969   \n",
      "3     test_1_ANN_simple_IOA_meta.pkl  425.250305  392.267969   408.835938   \n",
      "4   test_1_ANN_simple_SOAnp_meta.pkl  416.567567  417.179688   419.250000   \n",
      "5    test_1_ANN_simple_SOAp_meta.pkl  -81.365178  417.148438   419.250000   \n",
      "6    test_1_XGB_complex_IOA_meta.pkl   99.453794  529.687500   529.687500   \n",
      "7     test_1_XGB_simple_IOA_meta.pkl  446.324965  429.070312   429.070312   \n",
      "8   test_1_XGB_simple_SOAnp_meta.pkl  449.038160  431.867188   431.867188   \n",
      "9    test_1_XGB_simple_SOAp_meta.pkl  449.038664  431.867188   431.867188   \n",
      "\n",
      "   elapsed_time  \n",
      "0      4.015448  \n",
      "1      6.007697  \n",
      "2      7.007724  \n",
      "3      5.010515  \n",
      "4      4.013188  \n",
      "5      4.013105  \n",
      "6      1.010594  \n",
      "7      1.010377  \n",
      "8      2.005761  \n",
      "9      2.005939  \n"
     ]
    }
   ],
   "source": [
    "abc = df_metadata[['file_name', 'profit', 'avg_memory', 'peak_memory', 'elapsed_time']]\n",
    "print(abc)"
   ]
  }
 ],
 "metadata": {
  "kernelspec": {
   "display_name": "Python 3",
   "language": "python",
   "name": "python3"
  },
  "language_info": {
   "codemirror_mode": {
    "name": "ipython",
    "version": 3
   },
   "file_extension": ".py",
   "mimetype": "text/x-python",
   "name": "python",
   "nbconvert_exporter": "python",
   "pygments_lexer": "ipython3",
   "version": "3.11.7"
  }
 },
 "nbformat": 4,
 "nbformat_minor": 2
}
