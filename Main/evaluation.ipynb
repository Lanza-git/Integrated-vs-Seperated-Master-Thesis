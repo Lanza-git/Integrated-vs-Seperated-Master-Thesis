{
 "cells": [
  {
   "cell_type": "markdown",
   "metadata": {},
   "source": [
    "Import the Data"
   ]
  },
  {
   "cell_type": "code",
   "execution_count": 1623,
   "metadata": {},
   "outputs": [
    {
     "name": "stdout",
     "output_type": "stream",
     "text": [
      "{'dataset_id': 'set_530650', 'dataset_path': '/pfs/work7/workspace/scratch/ma_elanza-thesislanza/set_530650/set_530650_data.h5', 'folder_path': '/pfs/work7/workspace/scratch/ma_elanza-thesislanza/set_530650'}\n",
      "{'dataset_id': 'set_5306100', 'dataset_path': '/pfs/work7/workspace/scratch/ma_elanza-thesislanza/set_5306100/set_5306100_data.h5', 'folder_path': '/pfs/work7/workspace/scratch/ma_elanza-thesislanza/set_5306100'}\n",
      "{'dataset_id': 'set_5306150', 'dataset_path': '/pfs/work7/workspace/scratch/ma_elanza-thesislanza/set_5306150/set_5306150_data.h5', 'folder_path': '/pfs/work7/workspace/scratch/ma_elanza-thesislanza/set_5306150'}\n",
      "{'dataset_id': 'set_5306200', 'dataset_path': '/pfs/work7/workspace/scratch/ma_elanza-thesislanza/set_5306200/set_5306200_data.h5', 'folder_path': '/pfs/work7/workspace/scratch/ma_elanza-thesislanza/set_5306200'}\n",
      "{'dataset_id': 'set_5306250', 'dataset_path': '/pfs/work7/workspace/scratch/ma_elanza-thesislanza/set_5306250/set_5306250_data.h5', 'folder_path': '/pfs/work7/workspace/scratch/ma_elanza-thesislanza/set_5306250'}\n",
      "{'dataset_id': 'set_5306300', 'dataset_path': '/pfs/work7/workspace/scratch/ma_elanza-thesislanza/set_5306300/set_5306300_data.h5', 'folder_path': '/pfs/work7/workspace/scratch/ma_elanza-thesislanza/set_5306300'}\n",
      "{'dataset_id': 'set_130650', 'dataset_path': '/pfs/work7/workspace/scratch/ma_elanza-thesislanza/set_130650/set_130650_data.h5', 'folder_path': '/pfs/work7/workspace/scratch/ma_elanza-thesislanza/set_130650'}\n",
      "{'dataset_id': 'set_2306100', 'dataset_path': '/pfs/work7/workspace/scratch/ma_elanza-thesislanza/set_2306100/set_2306100_data.h5', 'folder_path': '/pfs/work7/workspace/scratch/ma_elanza-thesislanza/set_2306100'}\n",
      "{'dataset_id': 'set_3306150', 'dataset_path': '/pfs/work7/workspace/scratch/ma_elanza-thesislanza/set_3306150/set_3306150_data.h5', 'folder_path': '/pfs/work7/workspace/scratch/ma_elanza-thesislanza/set_3306150'}\n",
      "{'dataset_id': 'set_4306200', 'dataset_path': '/pfs/work7/workspace/scratch/ma_elanza-thesislanza/set_4306200/set_4306200_data.h5', 'folder_path': '/pfs/work7/workspace/scratch/ma_elanza-thesislanza/set_4306200'}\n",
      "{'dataset_id': 'set_5306250', 'dataset_path': '/pfs/work7/workspace/scratch/ma_elanza-thesislanza/set_5306250/set_5306250_data.h5', 'folder_path': '/pfs/work7/workspace/scratch/ma_elanza-thesislanza/set_5306250'}\n",
      "{'dataset_id': 'set_6306300', 'dataset_path': '/pfs/work7/workspace/scratch/ma_elanza-thesislanza/set_6306300/set_6306300_data.h5', 'folder_path': '/pfs/work7/workspace/scratch/ma_elanza-thesislanza/set_6306300'}\n",
      "{'dataset_id': 'set_130650', 'dataset_path': '/pfs/work7/workspace/scratch/ma_elanza-thesislanza/set_130650/set_130650_data.h5', 'folder_path': '/pfs/work7/workspace/scratch/ma_elanza-thesislanza/set_130650'}\n",
      "{'dataset_id': 'set_230650', 'dataset_path': '/pfs/work7/workspace/scratch/ma_elanza-thesislanza/set_230650/set_230650_data.h5', 'folder_path': '/pfs/work7/workspace/scratch/ma_elanza-thesislanza/set_230650'}\n",
      "{'dataset_id': 'set_330650', 'dataset_path': '/pfs/work7/workspace/scratch/ma_elanza-thesislanza/set_330650/set_330650_data.h5', 'folder_path': '/pfs/work7/workspace/scratch/ma_elanza-thesislanza/set_330650'}\n",
      "{'dataset_id': 'set_430650', 'dataset_path': '/pfs/work7/workspace/scratch/ma_elanza-thesislanza/set_430650/set_430650_data.h5', 'folder_path': '/pfs/work7/workspace/scratch/ma_elanza-thesislanza/set_430650'}\n",
      "{'dataset_id': 'set_530650', 'dataset_path': '/pfs/work7/workspace/scratch/ma_elanza-thesislanza/set_530650/set_530650_data.h5', 'folder_path': '/pfs/work7/workspace/scratch/ma_elanza-thesislanza/set_530650'}\n",
      "{'dataset_id': 'set_630650', 'dataset_path': '/pfs/work7/workspace/scratch/ma_elanza-thesislanza/set_630650/set_630650_data.h5', 'folder_path': '/pfs/work7/workspace/scratch/ma_elanza-thesislanza/set_630650'}\n"
     ]
    }
   ],
   "source": [
    "import pickle\n",
    "import numpy as np\n",
    "\n",
    "# Define the file path\n",
    "file_path = 'C:/Users/lanza/Master_Thesis_EL/Integrated-vs-Seperated-Master-Thesis/hpc_mount/dataset_list.pkl'\n",
    "\n",
    "# Open the file in read-binary mode\n",
    "with open(file_path, 'rb') as file:\n",
    "    # Load the dictionary\n",
    "    data_dict = pickle.load(file)\n",
    "\n",
    "# Print the dictionary\n",
    "\n",
    "for dict in data_dict:\n",
    "    print(dict)"
   ]
  },
  {
   "cell_type": "markdown",
   "metadata": {},
   "source": [
    "Define the cost strucutre and calculate optimal profit"
   ]
  },
  {
   "cell_type": "code",
   "execution_count": 1624,
   "metadata": {},
   "outputs": [],
   "source": [
    "def get_constants(risk_factor):\n",
    "    # Parameters for multi-item newsvendor problem\n",
    "    prices = np.array([0.3, 0.5, 0.6, 0.5, 0.5, 0.5]) #price data\n",
    "    prices = prices.reshape(6,1)\n",
    "    costs = np.array([0.06, 0.06, 0.06, 0.06, 0.06, 0.06]) #cost data\n",
    "    costs = costs.reshape(6,1)\n",
    "    costs = costs * risk_factor\n",
    "    salvages = np.array([0.01, 0.01, 0.01, 0.01, 0.01, 0.01]) #salvage data\n",
    "    salvages = salvages.reshape(6,1)\n",
    "    underage_data = prices - costs \n",
    "    overage_data = costs - salvages \n",
    "    underage_data_single = underage_data[0,0]\n",
    "    overage_data_single = overage_data[0,0]\n",
    "\n",
    "\n",
    "\n",
    "    alpha_data = np.array([             #alpha data\n",
    "        [0.0, 0.11, 0.15, 0.14, 0.14, 0.15],\n",
    "        [0.22, 0.0, 0.08, 0.11, 0.12, 0.12],\n",
    "        [0.24, 0.07, 0.0, 0.07, 0.08, 0.07],\n",
    "        [0.26, 0.09, 0.07, 0.0, 0.12, 0.12],\n",
    "        [0.19, 0.10, 0.10, 0.12, 0.0, 0.14],\n",
    "        [0.17, 0.13, 0.11, 0.11, 0.13, 0.0]\n",
    "    ])\n",
    "    return underage_data, overage_data, alpha_data, underage_data_single, overage_data_single"
   ]
  },
  {
   "cell_type": "code",
   "execution_count": 1625,
   "metadata": {},
   "outputs": [],
   "source": [
    "from scipy.stats import chi2\n",
    "\n",
    "def calculate_cochran(X_test, y_test):\n",
    "    # Before calculating means and variances, check if x1 and x2 are empty\n",
    "    if len(y_test) == 0 or len(X_test) == 0:\n",
    "        print (\"Empty\")\n",
    "        return np.nan, np.nan, np.nan  # Or handle this case as appropriate\n",
    "    \n",
    "\n",
    "    x1 = []\n",
    "    x2 = []\n",
    "\n",
    "    for i in range(len(X_test)):\n",
    "        if X_test[i, -1] == 1:  # Check if the last column is 1\n",
    "            x1.append(y_test[i])\n",
    "        else:\n",
    "            x2.append(y_test[i])\n",
    "\n",
    "    # Convert lists to numpy arrays if needed\n",
    "    x1 = np.array(x1)\n",
    "    x2 = np.array(x2)\n",
    "    \n",
    "    # Calculate means and variances for each study\n",
    "    mean_x1 = np.mean(x1)\n",
    "    variance_x1 = np.var(x1, ddof=1)\n",
    "\n",
    "    mean_x2 = np.mean(x2)\n",
    "    variance_x2 = np.var(x2, ddof=1)\n",
    "\n",
    "    # Combine means and variances\n",
    "    means = np.array([mean_x1, mean_x2])\n",
    "    variances = np.array([variance_x1, variance_x2])\n",
    "\n",
    "    # Step 1: Calculate weights (inverse of variances)\n",
    "    weights = 1 / variances\n",
    "\n",
    "    # Step 2: Calculate the overall weighted effect\n",
    "    weighted_effect = np.sum(weights * means) / np.sum(weights)\n",
    "\n",
    "    # Step 3: Calculate Cochran's Q\n",
    "    Q = np.sum(weights * (means - weighted_effect) ** 2)\n",
    "\n",
    "    # Step 4: Calculate I²\n",
    "    k = len(means)\n",
    "    I2 = max(0, (Q - (k - 1)) / Q) * 100\n",
    "\n",
    "    # Step 5: Calculate p-value for Q\n",
    "    p_value = 1 - chi2.cdf(Q, df=k-1)\n",
    "\n",
    "    return Q, I2, p_value\n",
    "    "
   ]
  },
  {
   "cell_type": "code",
   "execution_count": 1626,
   "metadata": {},
   "outputs": [
    {
     "name": "stdout",
     "output_type": "stream",
     "text": [
      "63378.380000000005\n",
      "[[-0.17333321 -0.23566391  0.36089054]\n",
      " [-0.02910978 -0.13156617  0.25282551]\n",
      " [ 0.30199063 -0.57571631  0.09719967]\n",
      " [ 0.89003182 -0.26281326  0.48973972]\n",
      " [ 0.46019929  1.75709583  0.24676013]\n",
      " [-0.35555865 -0.81633011  0.27830226]\n",
      " [ 0.04133514  0.19133508  0.08344438]\n",
      " [ 0.12245533 -0.15859565 -0.16732722]\n",
      " [-0.47074512 -0.15592003 -0.23446494]\n",
      " [-1.08085018  0.10729879  0.17082379]\n",
      " [-0.3229932  -0.17482834  0.55382785]\n",
      " [ 0.53271609  0.42609121  0.61962944]\n",
      " [ 0.03679836  0.29555152 -0.07032421]\n",
      " [-0.38050213 -0.47166983 -0.20538673]\n",
      " [-0.36951409  0.20757744 -0.31456986]\n",
      " [-0.25561555  0.54610362 -0.21083151]\n",
      " [-0.03529677  0.4090519   0.08511238]\n",
      " [-0.8708355  -0.53841096 -0.01356944]\n",
      " [-0.24749065 -0.43090675 -0.34209468]\n",
      " [ 0.85015831  0.76245993 -0.4458839 ]\n",
      " [-0.43574359  0.00284647 -0.16139679]\n",
      " [-1.24315809 -0.56276551  0.34345452]\n",
      " [ 0.01047945 -0.76347035  0.27471569]\n",
      " [ 0.59846021  0.93132091  0.3737516 ]\n",
      " [-0.30418768  0.42904348 -0.35052724]\n",
      " [ 0.07045034 -1.13905278 -0.51516921]\n",
      " [ 0.7877143   0.44638926 -0.04333176]\n",
      " [ 0.77719033 -0.19218215 -0.61388819]\n",
      " [ 0.16543614  0.80053798 -0.01038287]\n",
      " [-0.08879467 -0.95419037 -0.28174129]\n",
      " [-0.4056043   0.73956548 -0.19164846]\n",
      " [-0.75642719 -0.42892302 -0.25968971]\n",
      " [-0.01565714  0.4068126  -0.53660219]\n",
      " [ 0.48275232 -0.02013402 -0.14549439]\n",
      " [ 0.57515149 -0.35484506  0.18337422]\n",
      " [ 0.21310289 -0.81283085 -0.21320181]\n",
      " [ 0.13045027  0.83148334 -0.16251269]\n",
      " [-0.32667239  0.00839104 -0.09125591]\n",
      " [-0.8841245   0.86827856 -0.27813157]\n",
      " [-1.32112657 -0.24040682  0.84296002]\n",
      " [-0.93695197 -0.76636421  0.62769765]\n",
      " [-0.89611736  0.40300142  0.41300321]\n",
      " [-0.22489347  0.33172967  0.09822302]\n",
      " [ 0.79605211  0.01089123  0.10401527]\n",
      " [ 0.87184747 -0.50206016  0.11121397]\n",
      " [ 0.88721266 -0.77234533  0.04758956]\n",
      " [ 0.79075755  1.14396533 -0.22038316]\n",
      " [ 0.34707931 -0.26564788  0.29378664]\n",
      " [-0.77147298 -0.13888651 -0.34139123]\n",
      " [-0.00971945 -1.51318093 -0.19057688]\n",
      " [ 1.54064119  2.61321936 -0.02950824]\n",
      " [ 0.54626812 -0.77741466  0.23373906]\n",
      " [-0.29022668 -0.9026517  -0.25772998]\n",
      " [ 1.01875408 -1.32392776 -0.67543135]\n",
      " [ 1.40981859  2.57651968  0.15005696]\n",
      " [ 0.03054698 -1.14559352  0.14457176]\n",
      " [-1.05139513 -0.50446508  0.37977001]\n",
      " [ 0.94822039 -0.35702818 -0.0110787 ]\n",
      " [ 1.60300972  1.37054811  0.05522444]\n",
      " [-1.12901245  0.12646382  0.02892379]\n",
      " [-0.92409291 -1.70205198  0.72332316]\n",
      " [ 0.84776211  0.69479739  0.29788564]\n",
      " [ 0.85851795  0.38955642 -0.53060168]\n",
      " [-1.194951    0.41198749 -0.32296687]\n",
      " [-0.90291129 -1.64993006  0.15024466]\n",
      " [ 0.46982381  1.27899784  0.69379807]\n",
      " [-0.56804753 -0.2594363  -0.04074412]\n",
      " [-1.2821395  -0.09619669  0.88455796]\n",
      " [-0.34183823 -0.01376125  0.74513155]\n",
      " [ 0.37414629  1.20718918  0.11091228]\n",
      " [-0.23306755 -0.83897479  0.18642933]\n",
      " [-0.239883   -0.68198155  0.1504598 ]\n",
      " [ 1.02949976 -1.24253576  0.36243838]\n",
      " [ 1.17717888  2.57673679  0.79259223]\n",
      " [-0.50966884 -0.51635474  0.05131839]\n",
      " [-0.74570489 -0.36246474  0.84011096]\n",
      " [-0.28686218 -0.72546867  0.49115582]\n",
      " [ 0.03346294  0.80687411  0.75320583]\n",
      " [-0.82186676  1.06316963  0.20905859]\n",
      " [-1.17521342 -1.6476023  -0.12091447]\n",
      " [-0.63504222  0.36363524  0.05014348]\n",
      " [-0.39364064  0.78695588 -0.58347066]\n",
      " [-0.75058179  1.23912766 -0.25269773]\n",
      " [-2.00705921 -2.09159274 -0.51100318]\n",
      " [-1.03617449  0.45176779  0.00864462]\n",
      " [ 0.23102108  0.32419922 -0.13877355]\n",
      " [-0.34099652  1.47027955 -0.23793524]\n",
      " [-1.17474512 -1.04998573 -0.16294721]\n",
      " [-0.72429432 -1.30192219 -0.21211378]\n",
      " [ 1.28505747  0.73715087 -0.41319038]\n",
      " [ 0.47887756  1.60865815  0.03884618]\n",
      " [-1.7392408  -1.07837428  0.34291009]\n",
      " [-0.97226455 -1.28353913  0.5766774 ]\n",
      " [ 1.70181361  1.54190897 -0.03644353]\n",
      " [ 0.69239037  0.56331581 -0.37644743]\n",
      " [-1.28499953 -0.8923925   0.13713136]\n",
      " [-0.05115968 -1.09090494 -0.23300077]\n",
      " [ 1.0533606   2.3769821  -0.17862669]\n",
      " [-0.46212696 -1.04719008  0.06199036]\n",
      " [-2.35938021  0.36349794  0.05165209]]\n",
      "[243. 264. 299. 284. 105. 101. 250. 250. 247. 240. 177. 253. 233. 254.\n",
      " 254. 303. 228. 235. 263.  95. 270. 110. 277. 215. 218. 203. 200. 298.\n",
      " 276. 337. 287. 234. 290. 244. 167. 313. 216. 245. 246. 489. 221. 253.\n",
      " 240. 264. 225. 307. 430. 292. 256. 137. 112. 268. 203. 262. 313. 241.\n",
      " 319. 215. 153. 240. 386. 259. 250. 320. 413. 293. 254. 241. 432. 171.\n",
      " 145. 297.   0. 232. 234. 281. 341. 245. 196. 105. 245. 279. 188. 243.\n",
      " 233. 223. 319. 281. 148. 111. 207. 132. 227. 366. 128. 437. 258.   0.\n",
      " 219. 244.]\n"
     ]
    },
    {
     "name": "stderr",
     "output_type": "stream",
     "text": [
      "c:\\Users\\lanza\\.pyenv\\pyenv-win\\versions\\3.11.7\\Lib\\site-packages\\numpy\\core\\fromnumeric.py:3464: RuntimeWarning: Mean of empty slice.\n",
      "  return _methods._mean(a, axis=axis, dtype=dtype,\n",
      "c:\\Users\\lanza\\.pyenv\\pyenv-win\\versions\\3.11.7\\Lib\\site-packages\\numpy\\core\\_methods.py:192: RuntimeWarning: invalid value encountered in scalar divide\n",
      "  ret = ret.dtype.type(ret / rcount)\n",
      "c:\\Users\\lanza\\.pyenv\\pyenv-win\\versions\\3.11.7\\Lib\\site-packages\\numpy\\core\\fromnumeric.py:3747: RuntimeWarning: Degrees of freedom <= 0 for slice\n",
      "  return _methods._var(a, axis=axis, dtype=dtype, out=out, ddof=ddof,\n",
      "c:\\Users\\lanza\\.pyenv\\pyenv-win\\versions\\3.11.7\\Lib\\site-packages\\numpy\\core\\_methods.py:226: RuntimeWarning: invalid value encountered in divide\n",
      "  arrmean = um.true_divide(arrmean, div, out=arrmean,\n",
      "c:\\Users\\lanza\\.pyenv\\pyenv-win\\versions\\3.11.7\\Lib\\site-packages\\numpy\\core\\_methods.py:261: RuntimeWarning: invalid value encountered in scalar divide\n",
      "  ret = ret.dtype.type(ret / rcount)\n"
     ]
    }
   ],
   "source": [
    "from IvsS_Utils import load_generated_data, load_cost_structure, nvps_profit\n",
    "\n",
    "# Get cost strucutre\n",
    "underage_data, overage_data, alpha_data, underage_data_single, overage_data_single = get_constants(1)\n",
    "\n",
    "# Max Profit for multi-item newsvendor problem\n",
    "X_train, y_train, X_val, y_val, X_test, y_test = load_generated_data(path='C:/Users/lanza/Master_Thesis_EL/Integrated-vs-Seperated-Master-Thesis/hpc_mount/set_130650_data.h5', multi=True)\n",
    "load_cost_structure(alpha_input=alpha_data, underage_input=underage_data, overage_input=overage_data)\n",
    "max_profit_multi_normal = nvps_profit(y_test,y_test)\n",
    "Q_0_m, I2_0_m, p_0_m = calculate_cochran(X_test, y_test)\n",
    "variance_50_m = np.var(y_test)\n",
    "print(max_profit_multi_normal)\n",
    "\n",
    "\n",
    "# Max Profit for variance increase - multi-item newsvendor problem\n",
    "X_train, y_train, X_val, y_val, X_test, y_test = load_generated_data(path='C:/Users/lanza/Master_Thesis_EL/Integrated-vs-Seperated-Master-Thesis/test/set_4306100_data.h5', multi=True)\n",
    "max_profit_multi_var_100 = nvps_profit(y_test,y_test)\n",
    "variance_100_m = np.mean(np.var(y_test, axis=0))\n",
    "print(X_test)\n",
    "X_train, y_train, X_val, y_val, X_test, y_test = load_generated_data(path='C:/Users/lanza/Master_Thesis_EL/Integrated-vs-Seperated-Master-Thesis/test/set_4306150_data.h5', multi=True)\n",
    "max_profit_multi_var_150 = nvps_profit(y_test,y_test)\n",
    "variance_150_m = np.mean(np.var(y_test, axis=0))\n",
    "X_train, y_train, X_val, y_val, X_test, y_test = load_generated_data(path='C:/Users/lanza/Master_Thesis_EL/Integrated-vs-Seperated-Master-Thesis/test/set_4306200_data.h5', multi=True)\n",
    "max_profit_multi_var_200 = nvps_profit(y_test,y_test)\n",
    "variance_200_m = np.mean(np.var(y_test, axis=0))\n",
    "X_train, y_train, X_val, y_val, X_test, y_test = load_generated_data(path='C:/Users/lanza/Master_Thesis_EL/Integrated-vs-Seperated-Master-Thesis/test/set_4306250_data.h5', multi=True)\n",
    "max_profit_multi_var_250 = nvps_profit(y_test,y_test)\n",
    "variance_250_m = np.mean(np.var(y_test, axis=0))\n",
    "X_train, y_train, X_val, y_val, X_test, y_test = load_generated_data(path='C:/Users/lanza/Master_Thesis_EL/Integrated-vs-Seperated-Master-Thesis/test/set_4306300_data.h5', multi=True)\n",
    "max_profit_multi_var_300 = nvps_profit(y_test,y_test)\n",
    "variance_300_m = np.mean(np.var(y_test, axis=0))\n",
    "\n",
    "# Max Profit for heterogenity - multi-item newsvendor problem\n",
    "X_train, y_train, X_val, y_val, X_test, y_test = load_generated_data(path='C:/Users/lanza/Master_Thesis_EL/Integrated-vs-Seperated-Master-Thesis/test/set_4306510_data.h5', multi=True)\n",
    "max_profit_multi_het_10 = nvps_profit(y_test,y_test)\n",
    "Q_10_m, I2_10_m, p_10_m = calculate_cochran(X_test, y_test)\n",
    "X_train, y_train, X_val, y_val, X_test, y_test = load_generated_data(path='C:/Users/lanza/Master_Thesis_EL/Integrated-vs-Seperated-Master-Thesis/test/set_4306520_data.h5', multi=True)\n",
    "max_profit_multi_het_20 = nvps_profit(y_test,y_test)\n",
    "Q_20_m, I2_20_m, p_20_m = calculate_cochran(X_test, y_test)\n",
    "X_train, y_train, X_val, y_val, X_test, y_test = load_generated_data(path='C:/Users/lanza/Master_Thesis_EL/Integrated-vs-Seperated-Master-Thesis/test/set_4306530_data.h5', multi=True)\n",
    "max_profit_multi_het_30 = nvps_profit(y_test,y_test)\n",
    "Q_30_m, I2_30_m, p_30_m = calculate_cochran(X_test, y_test)\n",
    "X_train, y_train, X_val, y_val, X_test, y_test = load_generated_data(path='C:/Users/lanza/Master_Thesis_EL/Integrated-vs-Seperated-Master-Thesis/test/set_4306540_data.h5', multi=True)\n",
    "max_profit_multi_het_40 = nvps_profit(y_test,y_test)\n",
    "Q_40_m, I2_40_m, p_40_m = calculate_cochran(X_test, y_test)\n",
    "X_train, y_train, X_val, y_val, X_test, y_test = load_generated_data(path='C:/Users/lanza/Master_Thesis_EL/Integrated-vs-Seperated-Master-Thesis/test/set_4306550_data.h5', multi=True)\n",
    "max_profit_multi_het_50 = nvps_profit(y_test,y_test)\n",
    "Q_50_m, I2_50_m, p_50_m = calculate_cochran(X_test, y_test)\n",
    "\n",
    "# Max Profit for single-item newsvendor problem\n",
    "X_train, y_train, X_val, y_val, X_test, y_test = load_generated_data(path='C:/Users/lanza/Master_Thesis_EL/Integrated-vs-Seperated-Master-Thesis/hpc_mount/set_130650_data.h5', multi=False)\n",
    "load_cost_structure(alpha_input=alpha_data, underage_input=underage_data_single, overage_input=overage_data_single)\n",
    "max_profit_single_normal = nvps_profit(y_test,y_test)\n",
    "Q_0_s, I2_0_s, p_0_s = calculate_cochran(X_test, y_test)\n",
    "variance_50_s = np.var(y_test)\n",
    "\n",
    "# Max Profit for variance increase - single-item newsvendor problem\n",
    "X_train, y_train, X_val, y_val, X_test, y_test = load_generated_data(path='C:/Users/lanza/Master_Thesis_EL/Integrated-vs-Seperated-Master-Thesis/test/set_4306100_data.h5', multi=False)\n",
    "max_profit_single_var_100 = nvps_profit(y_test,y_test)\n",
    "variance_100_s = np.var(y_test)\n",
    "print(y_test)\n",
    "X_train, y_train, X_val, y_val, X_test, y_test = load_generated_data(path='C:/Users/lanza/Master_Thesis_EL/Integrated-vs-Seperated-Master-Thesis/test/set_4306150_data.h5', multi=False)\n",
    "max_profit_single_var_150 = nvps_profit(y_test,y_test)\n",
    "variance_150_s = np.var(y_test)\n",
    "X_train, y_train, X_val, y_val, X_test, y_test = load_generated_data(path='C:/Users/lanza/Master_Thesis_EL/Integrated-vs-Seperated-Master-Thesis/test/set_4306200_data.h5', multi=False)\n",
    "max_profit_single_var_200 = nvps_profit(y_test,y_test)\n",
    "variance_200_s = np.var(y_test)\n",
    "X_train, y_train, X_val, y_val, X_test, y_test = load_generated_data(path='C:/Users/lanza/Master_Thesis_EL/Integrated-vs-Seperated-Master-Thesis/test/set_4306250_data.h5', multi=False)\n",
    "max_profit_single_var_250 = nvps_profit(y_test,y_test)\n",
    "variance_250_s = np.var(y_test)\n",
    "X_train, y_train, X_val, y_val, X_test, y_test = load_generated_data(path='C:/Users/lanza/Master_Thesis_EL/Integrated-vs-Seperated-Master-Thesis/test/set_4306300_data.h5', multi=False)\n",
    "max_profit_single_var_300 = nvps_profit(y_test,y_test) \n",
    "variance_300_s = np.var(y_test)\n",
    "\n",
    "# Max Profit for heterogenity - single-item newsvendor problem\n",
    "X_train, y_train, X_val, y_val, X_test, y_test = load_generated_data(path='C:/Users/lanza/Master_Thesis_EL/Integrated-vs-Seperated-Master-Thesis/test/set_4306510_data.h5', multi=False)\n",
    "max_profit_single_het_10 = nvps_profit(y_test,y_test)\n",
    "Q_10_s, I2_10_s, p_10_s = calculate_cochran(X_test, y_test)\n",
    "X_train, y_train, X_val, y_val, X_test, y_test = load_generated_data(path='C:/Users/lanza/Master_Thesis_EL/Integrated-vs-Seperated-Master-Thesis/test/set_4306520_data.h5', multi=False)\n",
    "max_profit_single_het_20 = nvps_profit(y_test,y_test)\n",
    "Q_20_s, I2_20_s, p_20_s = calculate_cochran(X_test, y_test)\n",
    "X_train, y_train, X_val, y_val, X_test, y_test = load_generated_data(path='C:/Users/lanza/Master_Thesis_EL/Integrated-vs-Seperated-Master-Thesis/test/set_4306530_data.h5', multi=False)\n",
    "max_profit_single_het_30 = nvps_profit(y_test,y_test)\n",
    "Q_30_s, I2_30_s, p_30_s = calculate_cochran(X_test, y_test)\n",
    "X_train, y_train, X_val, y_val, X_test, y_test = load_generated_data(path='C:/Users/lanza/Master_Thesis_EL/Integrated-vs-Seperated-Master-Thesis/test/set_4306540_data.h5', multi=False)\n",
    "max_profit_single_het_40 = nvps_profit(y_test,y_test)\n",
    "Q_40_s, I2_40_s, p_40_s = calculate_cochran(X_test, y_test)\n",
    "X_train, y_train, X_val, y_val, X_test, y_test = load_generated_data(path='C:/Users/lanza/Master_Thesis_EL/Integrated-vs-Seperated-Master-Thesis/test/set_4306550_data.h5', multi=False)\n",
    "max_profit_single_het_50 = nvps_profit(y_test,y_test)\n",
    "Q_50_s, I2_50_s, p_50_s = calculate_cochran(X_test, y_test)\n"
   ]
  },
  {
   "cell_type": "code",
   "execution_count": 1627,
   "metadata": {},
   "outputs": [],
   "source": [
    "import os\n",
    "import pickle\n",
    "import pandas as pd\n",
    "\n",
    "def load_metadata(directory):\n",
    "    metadata = []\n",
    "    for file_name in os.listdir(directory):\n",
    "        if file_name.endswith('meta.pkl'):\n",
    "            with open(os.path.join(directory, file_name), 'rb') as f:\n",
    "                data = pickle.load(f)\n",
    "                metadata.append({\n",
    "                    'file_name': file_name,\n",
    "                    'hyperparameter': data['hyperparameter'],\n",
    "                    'profit': data['profit'],\n",
    "                    'elapsed_time': data['elapsed_time'],\n",
    "                    'peak_memory' : data['peak_memory'],\n",
    "                    'avg_memory': data['avg_memory']\n",
    "                })\n",
    "    return metadata\n",
    "\n",
    "# Directory where the test files are located\n",
    "directory_path = 'C:/Users/lanza/Master_Thesis_EL/Integrated-vs-Seperated-Master-Thesis/hpc_mount/'\n",
    "\n",
    "# Load metadata from all models\n",
    "metadata_list = load_metadata(directory_path)\n",
    "\n",
    "# Convert to DataFrame for better visualization\n",
    "df_metadata = pd.DataFrame(metadata_list)\n",
    "\n",
    "\n"
   ]
  },
  {
   "cell_type": "code",
   "execution_count": 1628,
   "metadata": {},
   "outputs": [
    {
     "name": "stderr",
     "output_type": "stream",
     "text": [
      "C:\\Users\\lanza\\AppData\\Local\\Temp\\ipykernel_11164\\1547034099.py:4: SettingWithCopyWarning: \n",
      "A value is trying to be set on a copy of a slice from a DataFrame.\n",
      "Try using .loc[row_indexer,col_indexer] = value instead\n",
      "\n",
      "See the caveats in the documentation: https://pandas.pydata.org/pandas-docs/stable/user_guide/indexing.html#returning-a-view-versus-a-copy\n",
      "  df_simple['relative_profit'] = df_metadata['profit'] / max_profit_single_normal\n",
      "C:\\Users\\lanza\\AppData\\Local\\Temp\\ipykernel_11164\\1547034099.py:5: SettingWithCopyWarning: \n",
      "A value is trying to be set on a copy of a slice from a DataFrame.\n",
      "Try using .loc[row_indexer,col_indexer] = value instead\n",
      "\n",
      "See the caveats in the documentation: https://pandas.pydata.org/pandas-docs/stable/user_guide/indexing.html#returning-a-view-versus-a-copy\n",
      "  df_complex['relative_profit'] = df_metadata['profit'] / max_profit_multi_normal\n"
     ]
    }
   ],
   "source": [
    "df_simple = df_metadata[df_metadata['file_name'].str.contains('simple')]\n",
    "df_complex = df_metadata[df_metadata['file_name'].str.contains('complex')]\n",
    "\n",
    "df_simple['relative_profit'] = df_metadata['profit'] / max_profit_single_normal\n",
    "df_complex['relative_profit'] = df_metadata['profit'] / max_profit_multi_normal\n",
    "\n",
    "df_simple = df_simple.sort_values(by='relative_profit', ascending=True)\n",
    "df_complex = df_complex.sort_values(by='relative_profit', ascending=True)"
   ]
  },
  {
   "cell_type": "code",
   "execution_count": 1629,
   "metadata": {},
   "outputs": [],
   "source": [
    "# Variance - 4 size\n",
    "df_simple.loc[df_simple['file_name'].str.contains('4306100'), 'relative_profit'] = df_simple['profit'] / max_profit_single_var_100\n",
    "df_simple.loc[df_simple['file_name'].str.contains('4306150'), 'relative_profit'] = df_simple['profit'] / max_profit_single_var_150\n",
    "df_simple.loc[df_simple['file_name'].str.contains('4306200'), 'relative_profit'] = df_simple['profit'] / max_profit_single_var_200\n",
    "df_simple.loc[df_simple['file_name'].str.contains('4306250'), 'relative_profit'] = df_simple['profit'] / max_profit_single_var_250\n",
    "df_simple.loc[df_simple['file_name'].str.contains('4306300'), 'relative_profit'] = df_simple['profit'] / max_profit_single_var_300\n",
    "\n",
    "df_complex.loc[df_complex['file_name'].str.contains('4306100'), 'relative_profit'] = df_complex['profit'] / max_profit_multi_var_100\n",
    "df_complex.loc[df_complex['file_name'].str.contains('4306150'), 'relative_profit'] = df_complex['profit'] / max_profit_multi_var_150\n",
    "df_complex.loc[df_complex['file_name'].str.contains('4306200'), 'relative_profit'] = df_complex['profit'] / max_profit_multi_var_200\n",
    "df_complex.loc[df_complex['file_name'].str.contains('4306250'), 'relative_profit'] = df_complex['profit'] / max_profit_multi_var_250\n",
    "df_complex.loc[df_complex['file_name'].str.contains('4306300'), 'relative_profit'] = df_complex['profit'] / max_profit_multi_var_300\n",
    "\n",
    "# Variance - 2 size\n",
    "df_simple.loc[df_simple['file_name'].str.contains('2306100'), 'relative_profit'] = df_simple['profit'] / max_profit_single_var_100\n",
    "df_simple.loc[df_simple['file_name'].str.contains('2306150'), 'relative_profit'] = df_simple['profit'] / max_profit_single_var_150\n",
    "df_simple.loc[df_simple['file_name'].str.contains('2306200'), 'relative_profit'] = df_simple['profit'] / max_profit_single_var_200\n",
    "df_simple.loc[df_simple['file_name'].str.contains('2306250'), 'relative_profit'] = df_simple['profit'] / max_profit_single_var_250\n",
    "df_simple.loc[df_simple['file_name'].str.contains('2306300'), 'relative_profit'] = df_simple['profit'] / max_profit_single_var_300\n",
    "\n",
    "df_complex.loc[df_complex['file_name'].str.contains('2306100'), 'relative_profit'] = df_complex['profit'] / max_profit_multi_var_100\n",
    "df_complex.loc[df_complex['file_name'].str.contains('2306150'), 'relative_profit'] = df_complex['profit'] / max_profit_multi_var_150\n",
    "df_complex.loc[df_complex['file_name'].str.contains('2306200'), 'relative_profit'] = df_complex['profit'] / max_profit_multi_var_200\n",
    "df_complex.loc[df_complex['file_name'].str.contains('2306250'), 'relative_profit'] = df_complex['profit'] / max_profit_multi_var_250\n",
    "df_complex.loc[df_complex['file_name'].str.contains('2306300'), 'relative_profit'] = df_complex['profit'] / max_profit_multi_var_300\n",
    "\n",
    "# Heterogenity - 4 size\n",
    "df_simple.loc[df_simple['file_name'].str.contains('4306510'), 'relative_profit'] = df_simple['profit'] / max_profit_single_het_10\n",
    "df_simple.loc[df_simple['file_name'].str.contains('4306520'), 'relative_profit'] = df_simple['profit'] / max_profit_single_het_20\n",
    "df_simple.loc[df_simple['file_name'].str.contains('4306530'), 'relative_profit'] = df_simple['profit'] / max_profit_single_het_30\n",
    "df_simple.loc[df_simple['file_name'].str.contains('4306540'), 'relative_profit'] = df_simple['profit'] / max_profit_single_het_40\n",
    "df_simple.loc[df_simple['file_name'].str.contains('4306550'), 'relative_profit'] = df_simple['profit'] / max_profit_single_het_50\n",
    "\n",
    "df_complex.loc[df_complex['file_name'].str.contains('4306510'), 'relative_profit'] = df_complex['profit'] / max_profit_multi_het_10\n",
    "df_complex.loc[df_complex['file_name'].str.contains('4306520'), 'relative_profit'] = df_complex['profit'] / max_profit_multi_het_20\n",
    "df_complex.loc[df_complex['file_name'].str.contains('4306530'), 'relative_profit'] = df_complex['profit'] / max_profit_multi_het_30\n",
    "df_complex.loc[df_complex['file_name'].str.contains('4306540'), 'relative_profit'] = df_complex['profit'] / max_profit_multi_het_40\n",
    "df_complex.loc[df_complex['file_name'].str.contains('4306550'), 'relative_profit'] = df_complex['profit'] / max_profit_multi_het_50\n",
    "\n",
    "# Heterogenity - 2 size \n",
    "\n",
    "\n",
    "# Size - high variance\n",
    "df_simple.loc[df_simple['file_name'].str.contains('1306200'), 'relative_profit'] = df_simple['profit'] / max_profit_single_var_200\n",
    "df_simple.loc[df_simple['file_name'].str.contains('2306200'), 'relative_profit'] = df_simple['profit'] / max_profit_single_var_200\n",
    "df_simple.loc[df_simple['file_name'].str.contains('3306200'), 'relative_profit'] = df_simple['profit'] / max_profit_single_var_200\n",
    "df_simple.loc[df_simple['file_name'].str.contains('4306200'), 'relative_profit'] = df_simple['profit'] / max_profit_single_var_200\n",
    "df_simple.loc[df_simple['file_name'].str.contains('5306200'), 'relative_profit'] = df_simple['profit'] / max_profit_single_var_200\n",
    "\n",
    "df_complex.loc[df_complex['file_name'].str.contains('1306200'), 'relative_profit'] = df_complex['profit'] / max_profit_multi_var_200\n",
    "df_complex.loc[df_complex['file_name'].str.contains('2306200'), 'relative_profit'] = df_complex['profit'] / max_profit_multi_var_200\n",
    "df_complex.loc[df_complex['file_name'].str.contains('3306200'), 'relative_profit'] = df_complex['profit'] / max_profit_multi_var_200\n",
    "df_complex.loc[df_complex['file_name'].str.contains('4306200'), 'relative_profit'] = df_complex['profit'] / max_profit_multi_var_200\n",
    "df_complex.loc[df_complex['file_name'].str.contains('5306200'), 'relative_profit'] = df_complex['profit'] / max_profit_multi_var_200\n"
   ]
  },
  {
   "cell_type": "markdown",
   "metadata": {},
   "source": [
    "# Size\n",
    "\n",
    "### Simple - basis Size"
   ]
  },
  {
   "cell_type": "code",
   "execution_count": 1630,
   "metadata": {},
   "outputs": [
    {
     "name": "stdout",
     "output_type": "stream",
     "text": [
      "    ann_ioa  ann_soap  ann_soanp   xgb_ioa  xgb_soap  xgb_soanp\n",
      "0  0.862598  0.880472   0.852277  0.835252  0.832092   0.832092\n",
      "1  0.896691  0.898209   0.897659  0.839697  0.742786   0.742457\n",
      "2  0.897652  0.897313   0.899207  0.891991  0.765452   0.765452\n",
      "3  0.913769  0.903814   0.906451  0.910251  0.887815   0.888861\n",
      "4  0.914846  0.900479   0.894702  0.911962  0.898662   0.897200\n"
     ]
    }
   ],
   "source": [
    "# Initialize DataFrame with the correct dtype for relative_profit values\n",
    "df_simple_size = pd.DataFrame(0.0, index=range(5), columns=['ann_ioa', 'ann_soap', 'ann_soanp', 'xgb_ioa', 'xgb_soap', 'xgb_soanp'])\n",
    "\n",
    "# Use .loc for assignments and ensure values are cast to float\n",
    "for i in range(5):\n",
    "    df_simple_size.loc[i, 'ann_ioa'] = df_simple[df_simple['file_name'].str.contains(f'{i+1}30650_ANN_simple_IOA')]['relative_profit'].astype(float).values\n",
    "    df_simple_size.loc[i, 'ann_soap'] = df_simple[df_simple['file_name'].str.contains(f'{i+1}30650_ANN_simple_SOAp')]['relative_profit'].astype(float).values\n",
    "    df_simple_size.loc[i, 'ann_soanp'] = df_simple[df_simple['file_name'].str.contains(f'{i+1}30650_ANN_simple_SOAnp')]['relative_profit'].astype(float).values\n",
    "    df_simple_size.loc[i, 'xgb_ioa'] = df_simple[df_simple['file_name'].str.contains(f'{i+1}30650_XGB_simple_IOA')]['relative_profit'].astype(float).values\n",
    "    df_simple_size.loc[i, 'xgb_soap'] = df_simple[df_simple['file_name'].str.contains(f'{i+1}30650_XGB_simple_SOAp')]['relative_profit'].astype(float).values\n",
    "    df_simple_size.loc[i, 'xgb_soanp'] = df_simple[df_simple['file_name'].str.contains(f'{i+1}30650_XGB_simple_SOAnp')]['relative_profit'].astype(float).values\n",
    "\n",
    "print(df_simple_size)"
   ]
  },
  {
   "cell_type": "markdown",
   "metadata": {},
   "source": [
    "### Simple - high var size"
   ]
  },
  {
   "cell_type": "code",
   "execution_count": 1631,
   "metadata": {},
   "outputs": [
    {
     "name": "stdout",
     "output_type": "stream",
     "text": [
      "    ann_ioa  ann_soap  ann_soanp   xgb_ioa  xgb_soap  xgb_soanp\n",
      "0  0.767883  0.715927   0.703315  0.675832  0.660632   0.660105\n",
      "1  0.806726  0.766096   0.797469  0.785944  0.548372   0.548372\n",
      "2  0.829977  0.803446   0.804549  0.794718  0.712431   0.715161\n",
      "3  0.831767  0.811847   0.812483  0.833719  0.767265   0.770275\n",
      "4  0.839978  0.837126   0.841770  0.833800  0.797267   0.804939\n"
     ]
    }
   ],
   "source": [
    "df_simple_size_var200 = pd.DataFrame(0.0, index=range(4), columns=['ann_ioa', 'ann_soap', 'ann_soanp', 'xgb_ioa', 'xgb_soap', 'xgb_soanp'])\n",
    "\n",
    "\n",
    "for i in range(5):\n",
    "    df_simple_size_var200.loc[i, 'ann_ioa'] = df_simple[df_simple['file_name'].str.contains(f'{i+1}306200_ANN_simple_IOA')]['relative_profit'].astype(float).values\n",
    "    df_simple_size_var200.loc[i, 'ann_soap'] = df_simple[df_simple['file_name'].str.contains(f'{i+1}306200_ANN_simple_SOAp')]['relative_profit'].astype(float).values\n",
    "    df_simple_size_var200.loc[i, 'ann_soanp'] = df_simple[df_simple['file_name'].str.contains(f'{i+1}306200_ANN_simple_SOAnp')]['relative_profit'].astype(float).values\n",
    "    df_simple_size_var200.loc[i, 'xgb_ioa'] = df_simple[df_simple['file_name'].str.contains(f'{i+1}306200_XGB_simple_IOA')]['relative_profit'].astype(float).values\n",
    "    df_simple_size_var200.loc[i, 'xgb_soap'] = df_simple[df_simple['file_name'].str.contains(f'{i+1}306200_XGB_simple_SOAp')]['relative_profit'].astype(float).values\n",
    "    df_simple_size_var200.loc[i, 'xgb_soanp'] = df_simple[df_simple['file_name'].str.contains(f'{i+1}306200_XGB_simple_SOAnp')]['relative_profit'].astype(float).values\n",
    "\n",
    "print(df_simple_size_var200)\n"
   ]
  },
  {
   "cell_type": "markdown",
   "metadata": {},
   "source": [
    "### Complex - basis size"
   ]
  },
  {
   "cell_type": "code",
   "execution_count": 1632,
   "metadata": {},
   "outputs": [
    {
     "name": "stdout",
     "output_type": "stream",
     "text": [
      "    ann_ioa  ann_soap  ann_soanp   xgb_ioa  xgb_soap  xgb_soanp\n",
      "0  0.955186  0.906511   0.938987  0.951921  0.929045   0.929045\n",
      "1  0.966058  0.940309   0.940512  0.965459  0.952436   0.952436\n",
      "2  0.978203  0.939256   0.937129  0.967975  0.957892   0.957912\n",
      "3  0.992953  0.966285   0.966284  0.969654  0.942793   0.941935\n",
      "4  0.992893  0.966967   0.966963  0.967803  0.954004   0.953547\n"
     ]
    }
   ],
   "source": [
    "df_complex_size = pd.DataFrame(0.0, index=range(5), columns=['ann_ioa', 'ann_soap', 'ann_soanp', 'xgb_ioa', 'xgb_soap', 'xgb_soanp'])\n",
    "\n",
    "for i in range(5):\n",
    "    df_complex_size.loc[i, 'ann_ioa'] = df_complex[df_complex['file_name'].str.contains(f'{i+1}30650_ANN_complex_IOA')]['relative_profit'].astype(float).mean()\n",
    "    df_complex_size.loc[i, 'ann_soap'] = df_complex[df_complex['file_name'].str.contains(f'{i+1}30650_ANN_complex_SOAp')]['relative_profit'].astype(float).mean()\n",
    "    df_complex_size.loc[i, 'ann_soanp'] = df_complex[df_complex['file_name'].str.contains(f'{i+1}30650_ANN_complex_SOAnp')]['relative_profit'].astype(float).mean()\n",
    "    df_complex_size.loc[i, 'xgb_ioa'] = df_complex[df_complex['file_name'].str.contains(f'{i+1}30650_XGB_complex_IOA')]['relative_profit'].astype(float).mean()\n",
    "    df_complex_size.loc[i, 'xgb_soap'] = df_complex[df_complex['file_name'].str.contains(f'{i+1}30650_XGB_complex_SOAp')]['relative_profit'].astype(float).mean()\n",
    "    df_complex_size.loc[i, 'xgb_soanp'] = df_complex[df_complex['file_name'].str.contains(f'{i+1}30650_XGB_complex_SOAnp')]['relative_profit'].astype(float).mean()\n",
    "\n",
    "print(df_complex_size)"
   ]
  },
  {
   "cell_type": "markdown",
   "metadata": {},
   "source": [
    "### Complex - high var size"
   ]
  },
  {
   "cell_type": "code",
   "execution_count": 1633,
   "metadata": {},
   "outputs": [
    {
     "name": "stdout",
     "output_type": "stream",
     "text": [
      "    ann_ioa  ann_soap  ann_soanp   xgb_ioa  xgb_soap  xgb_soanp\n",
      "0  0.892870  0.853470   0.921876  0.904760  0.898036   0.898036\n",
      "1  0.932964  0.908366   0.918610  0.930178  0.861338   0.861337\n",
      "2  0.947924  0.921907   0.914170  0.934654  0.876981   0.876975\n",
      "3  0.954835  0.910113   0.909266  0.940459  0.882392   0.882245\n",
      "4  0.938168  0.910746   0.910985  0.942986  0.910456   0.910067\n"
     ]
    }
   ],
   "source": [
    "df_complex_size_var200 = pd.DataFrame(0.0, index=range(5), columns=['ann_ioa', 'ann_soap', 'ann_soanp', 'xgb_ioa', 'xgb_soap', 'xgb_soanp'])\n",
    "\n",
    "for i in range(5):\n",
    "    df_complex_size_var200.loc[i, 'ann_ioa'] = df_complex[df_complex['file_name'].str.contains(f'{i+1}306200_ANN_complex_IOA')]['relative_profit'].astype(float).mean()\n",
    "    df_complex_size_var200.loc[i, 'ann_soap'] = df_complex[df_complex['file_name'].str.contains(f'{i+1}306200_ANN_complex_SOAp')]['relative_profit'].astype(float).mean()\n",
    "    df_complex_size_var200.loc[i, 'ann_soanp'] = df_complex[df_complex['file_name'].str.contains(f'{i+1}306200_ANN_complex_SOAnp')]['relative_profit'].astype(float).mean()\n",
    "    df_complex_size_var200.loc[i, 'xgb_ioa'] = df_complex[df_complex['file_name'].str.contains(f'{i+1}306200_XGB_complex_IOA')]['relative_profit'].astype(float).mean()\n",
    "    df_complex_size_var200.loc[i, 'xgb_soap'] = df_complex[df_complex['file_name'].str.contains(f'{i+1}306200_XGB_complex_SOAp')]['relative_profit'].astype(float).mean()\n",
    "    df_complex_size_var200.loc[i, 'xgb_soanp'] = df_complex[df_complex['file_name'].str.contains(f'{i+1}306200_XGB_complex_SOAnp')]['relative_profit'].astype(float).mean()\n",
    "\n",
    "print(df_complex_size_var200)"
   ]
  },
  {
   "cell_type": "markdown",
   "metadata": {},
   "source": [
    "# Variance"
   ]
  },
  {
   "cell_type": "code",
   "execution_count": 1634,
   "metadata": {},
   "outputs": [
    {
     "name": "stdout",
     "output_type": "stream",
     "text": [
      "    ann_ioa  ann_soap  ann_soanp   xgb_ioa  xgb_soap  xgb_soanp    variance\n",
      "0  0.913769  0.903814   0.906451  0.910251  0.887815   0.888861   3891.7984\n",
      "1  0.878958  0.859357   0.856314  0.874261  0.807859   0.806101   6640.4091\n",
      "3  0.831767  0.811847   0.812483  0.833719  0.767265   0.770275  11886.2200\n",
      "5  0.794756  0.759551   0.751876  0.783079  0.730972   0.736693  17092.7636\n"
     ]
    }
   ],
   "source": [
    "df_simple_variance = pd.DataFrame(0.0, index=range(6), columns=['ann_ioa', 'ann_soap', 'ann_soanp', 'xgb_ioa', 'xgb_soap', 'xgb_soanp'])\n",
    "\n",
    "# Iterate over each row index\n",
    "for i in range(6):\n",
    "    # For each column, filter the dataframe, convert to float, and assign the value\n",
    "    df_simple_variance.loc[i, 'ann_ioa'] = df_simple[df_simple['file_name'].str.contains(f'4306{i*50+50}_ANN_simple_IOA')]['relative_profit'].astype(float).values\n",
    "    df_simple_variance.loc[i, 'ann_soap'] = df_simple[df_simple['file_name'].str.contains(f'4306{i*50+50}_ANN_simple_SOAp')]['relative_profit'].astype(float).values\n",
    "    df_simple_variance.loc[i, 'ann_soanp'] = df_simple[df_simple['file_name'].str.contains(f'4306{i*50+50}_ANN_simple_SOAnp')]['relative_profit'].astype(float).values\n",
    "    df_simple_variance.loc[i, 'xgb_ioa'] = df_simple[df_simple['file_name'].str.contains(f'4306{i*50+50}_XGB_simple_IOA')]['relative_profit'].astype(float).values\n",
    "    df_simple_variance.loc[i, 'xgb_soap'] = df_simple[df_simple['file_name'].str.contains(f'4306{i*50+50}_XGB_simple_SOAp')]['relative_profit'].astype(float).values\n",
    "    df_simple_variance.loc[i, 'xgb_soanp'] = df_simple[df_simple['file_name'].str.contains(f'4306{i*50+50}_XGB_simple_SOAnp')]['relative_profit'].astype(float).values\n",
    "\n",
    "df_simple_variance['variance'] = [variance_50_s, variance_100_s, variance_150_s, variance_200_s, variance_250_s, variance_300_s]\n",
    "\n",
    "df_simple_variance = df_simple_variance.drop(4)\n",
    "df_simple_variance = df_simple_variance.drop(2)\n",
    "\n",
    "print(df_simple_variance)"
   ]
  },
  {
   "cell_type": "code",
   "execution_count": 1635,
   "metadata": {},
   "outputs": [
    {
     "name": "stdout",
     "output_type": "stream",
     "text": [
      "    ann_ioa  ann_soap  ann_soanp   xgb_ioa  xgb_soap  xgb_soanp    variance\n",
      "0  0.896691  0.898209   0.897659  0.839697  0.742786   0.742457   3891.7984\n",
      "1  0.864000  0.861907   0.855582  0.813987  0.687233   0.687233   6640.4091\n",
      "3  0.806726  0.766096   0.797469  0.785944  0.548372   0.548372  11886.2200\n",
      "5  0.793451  0.755742   0.734703  0.653798  0.371334   0.371334  17092.7636\n"
     ]
    }
   ],
   "source": [
    "df_simple_variance_small = pd.DataFrame(0.0, index=range(6), columns=['ann_ioa', 'ann_soap', 'ann_soanp', 'xgb_ioa', 'xgb_soap', 'xgb_soanp'])\n",
    "\n",
    "# Iterate over each row index\n",
    "for i in range(6):\n",
    "    # For each column, filter the dataframe, convert to float, and assign the value\n",
    "    df_simple_variance_small.loc[i, 'ann_ioa'] = df_simple[df_simple['file_name'].str.contains(f'2306{i*50+50}_ANN_simple_IOA')]['relative_profit'].astype(float).values.mean()\n",
    "    df_simple_variance_small.loc[i, 'ann_soap'] = df_simple[df_simple['file_name'].str.contains(f'2306{i*50+50}_ANN_simple_SOAp')]['relative_profit'].astype(float).values.mean()\n",
    "    df_simple_variance_small.loc[i, 'ann_soanp'] = df_simple[df_simple['file_name'].str.contains(f'2306{i*50+50}_ANN_simple_SOAnp')]['relative_profit'].astype(float).values.mean()\n",
    "    df_simple_variance_small.loc[i, 'xgb_ioa'] = df_simple[df_simple['file_name'].str.contains(f'2306{i*50+50}_XGB_simple_IOA')]['relative_profit'].astype(float).values.mean()\n",
    "    df_simple_variance_small.loc[i, 'xgb_soap'] = df_simple[df_simple['file_name'].str.contains(f'2306{i*50+50}_XGB_simple_SOAp')]['relative_profit'].astype(float).values.mean()\n",
    "    df_simple_variance_small.loc[i, 'xgb_soanp'] = df_simple[df_simple['file_name'].str.contains(f'2306{i*50+50}_XGB_simple_SOAnp')]['relative_profit'].astype(float).values.mean()\n",
    "\n",
    "df_simple_variance_small['variance'] = [variance_50_s, variance_100_s, variance_150_s, variance_200_s, variance_250_s, variance_300_s]\n",
    "\n",
    "df_simple_variance_small = df_simple_variance_small.drop(4)\n",
    "df_simple_variance_small = df_simple_variance_small.drop(2)\n",
    "\n",
    "print(df_simple_variance_small)"
   ]
  },
  {
   "cell_type": "code",
   "execution_count": 1636,
   "metadata": {},
   "outputs": [
    {
     "name": "stdout",
     "output_type": "stream",
     "text": [
      "    ann_ioa  ann_soap  ann_soanp   xgb_ioa  xgb_soap  xgb_soanp      variance\n",
      "0  0.992953  0.966285   0.966284  0.969654  0.942793   0.941935   2914.918489\n",
      "1  0.978284  0.940645   0.942652  0.956810  0.894411   0.894469   5477.888283\n",
      "3  0.954835  0.910113   0.909266  0.940459  0.882392   0.882245  10104.723083\n",
      "5  0.939608  0.887309   0.886317  0.929575  0.857581   0.857383  14428.968017\n"
     ]
    }
   ],
   "source": [
    "df_complex_variance = pd.DataFrame(0.0, index=range(6), columns=['ann_ioa', 'ann_soap', 'ann_soanp', 'xgb_ioa', 'xgb_soap', 'xgb_soanp'])\n",
    "\n",
    "for i in range(6):\n",
    "    df_complex_variance.loc[i, 'ann_ioa'] = df_complex[df_complex['file_name'].str.contains(f'4306{i*50+50}_ANN_complex_IOA')]['relative_profit'].astype(float).mean()\n",
    "    df_complex_variance.loc[i, 'ann_soap'] = df_complex[df_complex['file_name'].str.contains(f'4306{i*50+50}_ANN_complex_SOAp')]['relative_profit'].astype(float).mean()\n",
    "    df_complex_variance.loc[i, 'ann_soanp'] = df_complex[df_complex['file_name'].str.contains(f'4306{i*50+50}_ANN_complex_SOAnp')]['relative_profit'].astype(float).mean()\n",
    "    df_complex_variance.loc[i, 'xgb_ioa'] = df_complex[df_complex['file_name'].str.contains(f'4306{i*50+50}_XGB_complex_IOA')]['relative_profit'].astype(float).mean()\n",
    "    df_complex_variance.loc[i, 'xgb_soap'] = df_complex[df_complex['file_name'].str.contains(f'4306{i*50+50}_XGB_complex_SOAp')]['relative_profit'].astype(float).mean()\n",
    "    df_complex_variance.loc[i, 'xgb_soanp'] = df_complex[df_complex['file_name'].str.contains(f'4306{i*50+50}_XGB_complex_SOAnp')]['relative_profit'].astype(float).mean()\n",
    "\n",
    "df_complex_variance['variance'] = [variance_50_m, variance_100_m, variance_150_m, variance_200_m, variance_250_m, variance_300_m]\n",
    "\n",
    "df_complex_variance = df_complex_variance.drop(4)\n",
    "df_complex_variance = df_complex_variance.drop(2)\n",
    "\n",
    "print(df_complex_variance)"
   ]
  },
  {
   "cell_type": "code",
   "execution_count": 1637,
   "metadata": {},
   "outputs": [
    {
     "name": "stdout",
     "output_type": "stream",
     "text": [
      "    ann_ioa  ann_soap  ann_soanp   xgb_ioa  xgb_soap  xgb_soanp      variance\n",
      "0  0.966058  0.940309   0.940512  0.965459  0.952436   0.952436   2914.918489\n",
      "1  0.952029  0.941758   0.922276  0.950642  0.906816   0.906885   5477.888283\n",
      "3  0.932964  0.908366   0.918610  0.930178  0.861338   0.861337  10104.723083\n",
      "5  0.936156  0.930649   0.898121  0.913861  0.823876   0.823891  14428.968017\n"
     ]
    }
   ],
   "source": [
    "df_complex_variance_small = pd.DataFrame(0.0, index=range(6), columns=['ann_ioa', 'ann_soap', 'ann_soanp', 'xgb_ioa', 'xgb_soap', 'xgb_soanp'])\n",
    "\n",
    "for i in range(6):\n",
    "    df_complex_variance_small.loc[i, 'ann_ioa'] = df_complex[df_complex['file_name'].str.contains(f'2306{i*50+50}_ANN_complex_IOA')]['relative_profit'].astype(float).mean()\n",
    "    df_complex_variance_small.loc[i, 'ann_soap'] = df_complex[df_complex['file_name'].str.contains(f'2306{i*50+50}_ANN_complex_SOAp')]['relative_profit'].astype(float).mean()\n",
    "    df_complex_variance_small.loc[i, 'ann_soanp'] = df_complex[df_complex['file_name'].str.contains(f'2306{i*50+50}_ANN_complex_SOAnp')]['relative_profit'].astype(float).mean()\n",
    "    df_complex_variance_small.loc[i, 'xgb_ioa'] = df_complex[df_complex['file_name'].str.contains(f'2306{i*50+50}_XGB_complex_IOA')]['relative_profit'].astype(float).mean()\n",
    "    df_complex_variance_small.loc[i, 'xgb_soap'] = df_complex[df_complex['file_name'].str.contains(f'2306{i*50+50}_XGB_complex_SOAp')]['relative_profit'].astype(float).mean()\n",
    "    df_complex_variance_small.loc[i, 'xgb_soanp'] = df_complex[df_complex['file_name'].str.contains(f'2306{i*50+50}_XGB_complex_SOAnp')]['relative_profit'].astype(float).mean()\n",
    "\n",
    "df_complex_variance_small['variance'] = [variance_50_m, variance_100_m, variance_150_m, variance_200_m, variance_250_m, variance_300_m]\n",
    "\n",
    "df_complex_variance_small = df_complex_variance_small.drop(4)\n",
    "df_complex_variance_small = df_complex_variance_small.drop(2)\n",
    "\n",
    "print(df_complex_variance_small)"
   ]
  },
  {
   "cell_type": "markdown",
   "metadata": {},
   "source": [
    "# Additional Features"
   ]
  },
  {
   "cell_type": "markdown",
   "metadata": {},
   "source": [
    "### Noise Features"
   ]
  },
  {
   "cell_type": "code",
   "execution_count": 1638,
   "metadata": {},
   "outputs": [
    {
     "name": "stdout",
     "output_type": "stream",
     "text": [
      "    ann_ioa  ann_soap  ann_soanp   xgb_ioa  xgb_soap  xgb_soanp\n",
      "0  0.913769  0.903814   0.906451  0.910251  0.887815   0.888861\n",
      "1  0.909353  0.900166   0.899653  0.907183  0.888036   0.891534\n",
      "2  0.909230  0.896601   0.897729  0.897371  0.863515   0.866718\n",
      "3  0.911992  0.892588   0.888369  0.896236  0.873771   0.874498\n",
      "4  0.903797  0.900159   0.899524  0.899794  0.860145   0.858850\n",
      "5  0.901535  0.898837   0.898583  0.896505  0.838015   0.838139\n",
      "6  0.892487  0.900243   0.899524  0.888062  0.862163   0.865670\n"
     ]
    }
   ],
   "source": [
    "df_simple_feature_noise = pd.DataFrame(0.0, index=range(7), columns=['ann_ioa', 'ann_soap', 'ann_soanp', 'xgb_ioa', 'xgb_soap', 'xgb_soanp'])\n",
    "\n",
    "for i in range(7):\n",
    "    x = 3* (2**i)\n",
    "    df_simple_feature_noise.loc[i, 'ann_ioa'] = df_simple[df_simple['file_name'].str.contains(f'4{x}0650_ANN_simple_IOA')]['relative_profit'].astype(float).mean()\n",
    "    df_simple_feature_noise.loc[i, 'ann_soap'] = df_simple[df_simple['file_name'].str.contains(f'4{x}0650_ANN_simple_SOAp')]['relative_profit'].astype(float).mean()\n",
    "    df_simple_feature_noise.loc[i, 'ann_soanp'] = df_simple[df_simple['file_name'].str.contains(f'4{x}0650_ANN_simple_SOAnp')]['relative_profit'].astype(float).mean()\n",
    "    df_simple_feature_noise.loc[i, 'xgb_ioa'] = df_simple[df_simple['file_name'].str.contains(f'4{x}0650_XGB_simple_IOA')]['relative_profit'].astype(float).mean()\n",
    "    df_simple_feature_noise.loc[i, 'xgb_soap'] = df_simple[df_simple['file_name'].str.contains(f'4{x}0650_XGB_simple_SOAp')]['relative_profit'].astype(float).mean()\n",
    "    df_simple_feature_noise.loc[i, 'xgb_soanp'] = df_simple[df_simple['file_name'].str.contains(f'4{x}0650_XGB_simple_SOAnp')]['relative_profit'].astype(float).mean()\n",
    "\n",
    "print(df_simple_feature_noise)"
   ]
  },
  {
   "cell_type": "code",
   "execution_count": 1639,
   "metadata": {},
   "outputs": [
    {
     "name": "stdout",
     "output_type": "stream",
     "text": [
      "    ann_ioa  ann_soap  ann_soanp   xgb_ioa  xgb_soap  xgb_soanp\n",
      "0  0.992953  0.966285   0.966284  0.969654  0.942793   0.941935\n",
      "1  0.990878  0.968843   0.966284  0.969216  0.921939   0.921827\n",
      "2  0.992939  0.963267   0.965787  0.968864  0.922533   0.922123\n",
      "3  0.980883  0.966427   0.966242  0.968263  0.914210   0.914218\n",
      "4  0.992108  0.966296   0.966284  0.967957  0.933323   0.932874\n",
      "5  0.991700  0.965992   0.966284  0.967922  0.947228   0.947215\n",
      "6  0.986184  0.967062   0.966990  0.968630  0.937310   0.937280\n"
     ]
    }
   ],
   "source": [
    "df_complex_feature_noise = pd.DataFrame(0.0, index=range(7), columns=['ann_ioa', 'ann_soap', 'ann_soanp', 'xgb_ioa', 'xgb_soap', 'xgb_soanp'])\n",
    "\n",
    "for i in range(7):\n",
    "    x = 3* (2**i)\n",
    "    df_complex_feature_noise.loc[i, 'ann_ioa'] = df_complex[df_complex['file_name'].str.contains(f'4{x}0650_ANN_complex_IOA')]['relative_profit'].astype(float).mean()\n",
    "    df_complex_feature_noise.loc[i, 'ann_soap'] = df_complex[df_complex['file_name'].str.contains(f'4{x}0650_ANN_complex_SOAp')]['relative_profit'].astype(float).mean()\n",
    "    df_complex_feature_noise.loc[i, 'ann_soanp'] = df_complex[df_complex['file_name'].str.contains(f'4{x}0650_ANN_complex_SOAnp')]['relative_profit'].astype(float).mean()\n",
    "    df_complex_feature_noise.loc[i, 'xgb_ioa'] = df_complex[df_complex['file_name'].str.contains(f'4{x}0650_XGB_complex_IOA')]['relative_profit'].astype(float).mean()\n",
    "    df_complex_feature_noise.loc[i, 'xgb_soap'] = df_complex[df_complex['file_name'].str.contains(f'4{x}0650_XGB_complex_SOAp')]['relative_profit'].astype(float).mean()\n",
    "    df_complex_feature_noise.loc[i, 'xgb_soanp'] = df_complex[df_complex['file_name'].str.contains(f'4{x}0650_XGB_complex_SOAnp')]['relative_profit'].astype(float).mean()\n",
    "\n",
    "print(df_complex_feature_noise)"
   ]
  },
  {
   "cell_type": "markdown",
   "metadata": {},
   "source": [
    "### Add info features"
   ]
  },
  {
   "cell_type": "code",
   "execution_count": 1640,
   "metadata": {},
   "outputs": [
    {
     "name": "stdout",
     "output_type": "stream",
     "text": [
      "    ann_ioa  ann_soap  ann_soanp   xgb_ioa  xgb_soap  xgb_soanp\n",
      "0  0.746177  0.353891   0.400610  0.749321  0.383431   0.395213\n",
      "1  0.741287  0.351662   0.400430  0.710199  0.558965   0.593294\n",
      "2  0.745405  0.351314   0.400430  0.665801  0.050686   0.072598\n",
      "3  0.523974  0.336464   0.400430  0.684627  0.434136   0.435450\n",
      "4  0.719124  0.351146   0.400430  0.721808  0.432372   0.401253\n",
      "5  0.552944  0.349178   0.401928  0.474603  0.365701   0.396193\n",
      "6  0.355104  0.348261   0.398523  0.646600 -0.231790  -0.223237\n"
     ]
    }
   ],
   "source": [
    "df_simple_feature_addinfo = pd.DataFrame(0.0, index=range(7), columns=['ann_ioa', 'ann_soap', 'ann_soanp', 'xgb_ioa', 'xgb_soap', 'xgb_soanp'])\n",
    "\n",
    "for i in range(7):\n",
    "    x = 3* (2**i)\n",
    "    df_simple_feature_addinfo.loc[i, 'ann_ioa'] = df_simple[df_simple['file_name'].str.contains(f'4{x}1650_ANN_simple_IOA')]['relative_profit'].astype(float).mean()\n",
    "    df_simple_feature_addinfo.loc[i, 'ann_soap'] = df_simple[df_simple['file_name'].str.contains(f'4{x}1650_ANN_simple_SOAp')]['relative_profit'].astype(float).mean()\n",
    "    df_simple_feature_addinfo.loc[i, 'ann_soanp'] = df_simple[df_simple['file_name'].str.contains(f'4{x}1650_ANN_simple_SOAnp')]['relative_profit'].astype(float).mean()\n",
    "    df_simple_feature_addinfo.loc[i, 'xgb_ioa'] = df_simple[df_simple['file_name'].str.contains(f'4{x}1650_XGB_simple_IOA')]['relative_profit'].astype(float).mean()\n",
    "    df_simple_feature_addinfo.loc[i, 'xgb_soap'] = df_simple[df_simple['file_name'].str.contains(f'4{x}1650_XGB_simple_SOAp')]['relative_profit'].astype(float).mean()\n",
    "    df_simple_feature_addinfo.loc[i, 'xgb_soanp'] = df_simple[df_simple['file_name'].str.contains(f'4{x}1650_XGB_simple_SOAnp')]['relative_profit'].astype(float).mean()\n",
    "\n",
    "print(df_simple_feature_addinfo)"
   ]
  },
  {
   "cell_type": "code",
   "execution_count": 1641,
   "metadata": {},
   "outputs": [
    {
     "name": "stdout",
     "output_type": "stream",
     "text": [
      "   ann_ioa  ann_soap  ann_soanp  xgb_ioa  xgb_soap  xgb_soanp\n",
      "0      NaN       NaN        NaN      NaN       NaN        NaN\n",
      "1      NaN       NaN        NaN      NaN       NaN        NaN\n",
      "2      NaN       NaN        NaN      NaN       NaN        NaN\n",
      "3      NaN       NaN        NaN      NaN       NaN        NaN\n",
      "4      NaN       NaN        NaN      NaN       NaN        NaN\n",
      "5      NaN       NaN        NaN      NaN       NaN        NaN\n",
      "6      NaN       NaN        NaN      NaN       NaN        NaN\n"
     ]
    }
   ],
   "source": [
    "df_complex_feature_addinfo = pd.DataFrame(0.0, index=range(7), columns=['ann_ioa', 'ann_soap', 'ann_soanp', 'xgb_ioa', 'xgb_soap', 'xgb_soanp'])\n",
    "\n",
    "for i in range(7):\n",
    "    x = 3* (2**i)\n",
    "    df_complex_feature_addinfo.loc[i, 'ann_ioa'] = df_complex[df_complex['file_name'].str.contains(f'4{x}1650_ANN_complex_IOA')]['relative_profit'].astype(float).mean()\n",
    "    df_complex_feature_addinfo.loc[i, 'ann_soap'] = df_complex[df_complex['file_name'].str.contains(f'4{x}1650_ANN_complex_SOAp')]['relative_profit'].astype(float).mean()\n",
    "    df_complex_feature_addinfo.loc[i, 'ann_soanp'] = df_complex[df_complex['file_name'].str.contains(f'4{x}1650_ANN_complex_SOAnp')]['relative_profit'].astype(float).mean()\n",
    "    df_complex_feature_addinfo.loc[i, 'xgb_ioa'] = df_complex[df_complex['file_name'].str.contains(f'4{x}1650_XGB_complex_IOA')]['relative_profit'].astype(float).mean()\n",
    "    df_complex_feature_addinfo.loc[i, 'xgb_soap'] = df_complex[df_complex['file_name'].str.contains(f'4{x}1650_XGB_complex_SOAp')]['relative_profit'].astype(float).mean()\n",
    "    df_complex_feature_addinfo.loc[i, 'xgb_soanp'] = df_complex[df_complex['file_name'].str.contains(f'4{x}1650_XGB_complex_SOAnp')]['relative_profit'].astype(float).mean()\n",
    "\n",
    "print(df_complex_feature_addinfo)"
   ]
  },
  {
   "cell_type": "markdown",
   "metadata": {},
   "source": [
    "# Heterogenity"
   ]
  },
  {
   "cell_type": "code",
   "execution_count": 1642,
   "metadata": {},
   "outputs": [
    {
     "name": "stdout",
     "output_type": "stream",
     "text": [
      "    ann_ioa  ann_soap  ann_soanp   xgb_ioa  xgb_soap  xgb_soanp  Cochran´s Q  \\\n",
      "0  0.913769  0.903814   0.906451  0.910251  0.887815   0.888861          NaN   \n",
      "1  0.906868  0.899437   0.906316  0.908053  0.897241   0.889052     1.377094   \n",
      "3  0.862310  0.851784   0.848240  0.859207  0.824696   0.834410     1.766058   \n",
      "4  0.859490  0.847999   0.832919  0.850765  0.672087   0.670033     2.296314   \n",
      "5  0.863946  0.834140   0.839333  0.845708  0.484482   0.488103     3.624476   \n",
      "\n",
      "          I2   p-value  \n",
      "0   0.000000       NaN  \n",
      "1  27.383290  0.240597  \n",
      "3  43.376710  0.183871  \n",
      "4  56.451943  0.129681  \n",
      "5  72.409805  0.056935  \n"
     ]
    }
   ],
   "source": [
    "df_simple_heterogenity = pd.DataFrame(0.0, index=range(6), columns=['ann_ioa', 'ann_soap', 'ann_soanp', 'xgb_ioa', 'xgb_soap', 'xgb_soanp'])\n",
    "\n",
    "\n",
    "df_simple_heterogenity.loc[0, 'ann_ioa'] = df_simple[df_simple['file_name'].str.contains(f'430650_ANN_simple_IOA')]['relative_profit'].astype(float).mean()\n",
    "df_simple_heterogenity.loc[0, 'ann_soap'] = df_simple[df_simple['file_name'].str.contains(f'430650_ANN_simple_SOAp')]['relative_profit'].astype(float).mean()\n",
    "df_simple_heterogenity.loc[0, 'ann_soanp'] = df_simple[df_simple['file_name'].str.contains(f'430650_ANN_simple_SOAnp')]['relative_profit'].astype(float).mean()\n",
    "df_simple_heterogenity.loc[0, 'xgb_ioa'] = df_simple[df_simple['file_name'].str.contains(f'430650_XGB_simple_IOA')]['relative_profit'].astype(float).mean()\n",
    "df_simple_heterogenity.loc[0, 'xgb_soap'] = df_simple[df_simple['file_name'].str.contains(f'430650_XGB_simple_SOAp')]['relative_profit'].astype(float).mean()\n",
    "df_simple_heterogenity.loc[0, 'xgb_soanp'] = df_simple[df_simple['file_name'].str.contains(f'430650_XGB_simple_SOAnp')]['relative_profit'].astype(float).mean()\n",
    "\n",
    "\n",
    "for i in range(1,6):\n",
    "    df_simple_heterogenity.loc[i, 'ann_ioa'] = df_simple[df_simple['file_name'].str.contains(f'43065{10*i}no_ANN_simple_IOA')]['relative_profit'].astype(float).mean()\n",
    "    df_simple_heterogenity.loc[i, 'ann_soap'] = df_simple[df_simple['file_name'].str.contains(f'43065{10*i}no_ANN_simple_SOAp')]['relative_profit'].astype(float).mean()\n",
    "    df_simple_heterogenity.loc[i, 'ann_soanp'] = df_simple[df_simple['file_name'].str.contains(f'43065{10*i}no_ANN_simple_SOAnp')]['relative_profit'].astype(float).mean()\n",
    "    df_simple_heterogenity.loc[i, 'xgb_ioa'] = df_simple[df_simple['file_name'].str.contains(f'43065{10*i}no_XGB_simple_IOA')]['relative_profit'].astype(float).mean()\n",
    "    df_simple_heterogenity.loc[i, 'xgb_soap'] = df_simple[df_simple['file_name'].str.contains(f'43065{10*i}no_XGB_simple_SOAp')]['relative_profit'].astype(float).mean()\n",
    "    df_simple_heterogenity.loc[i, 'xgb_soanp'] = df_simple[df_simple['file_name'].str.contains(f'43065{10*i}no_XGB_simple_SOAnp')]['relative_profit'].astype(float).mean()\n",
    "\n",
    "df_simple_heterogenity['Cochran´s Q'] = [Q_0_s, Q_10_s, Q_20_s, Q_30_s, Q_40_s, Q_50_s]\n",
    "df_simple_heterogenity['I2'] = [I2_0_s, I2_10_s, I2_20_s, I2_30_s, I2_40_s, I2_50_s]\n",
    "df_simple_heterogenity['p-value'] = [p_0_s, p_10_s, p_20_s, p_30_s, p_40_s, p_50_s]\n",
    "\n",
    "df_simple_heterogenity = df_simple_heterogenity.drop(2)\n",
    "\n",
    "print(df_simple_heterogenity)\n",
    "\n"
   ]
  },
  {
   "cell_type": "code",
   "execution_count": 1657,
   "metadata": {},
   "outputs": [
    {
     "name": "stdout",
     "output_type": "stream",
     "text": [
      "    ann_ioa  ann_soap  ann_soanp   xgb_ioa  xgb_soap  xgb_soanp  Cochran´s Q  \\\n",
      "0  0.896691  0.898209   0.897659  0.839697  0.742786   0.742457          NaN   \n",
      "1       NaN       NaN        NaN       NaN       NaN        NaN     1.377094   \n",
      "3       NaN       NaN        NaN       NaN       NaN        NaN     1.766058   \n",
      "4       NaN       NaN        NaN       NaN       NaN        NaN     2.296314   \n",
      "5       NaN       NaN        NaN       NaN       NaN        NaN     3.624476   \n",
      "\n",
      "          I2   p-value  \n",
      "0   0.000000       NaN  \n",
      "1  27.383290  0.240597  \n",
      "3  43.376710  0.183871  \n",
      "4  56.451943  0.129681  \n",
      "5  72.409805  0.056935  \n"
     ]
    }
   ],
   "source": [
    "df_simple_heterogenity_small = pd.DataFrame(0.0, index=range(6), columns=['ann_ioa', 'ann_soap', 'ann_soanp', 'xgb_ioa', 'xgb_soap', 'xgb_soanp'])\n",
    "\n",
    "df_simple_heterogenity_small.loc[0, 'ann_ioa'] = df_simple[df_simple['file_name'].str.contains(f'230650_ANN_simple_IOA')]['relative_profit'].astype(float).mean()\n",
    "df_simple_heterogenity_small.loc[0, 'ann_soap'] = df_simple[df_simple['file_name'].str.contains(f'230650_ANN_simple_SOAp')]['relative_profit'].astype(float).mean()\n",
    "df_simple_heterogenity_small.loc[0, 'ann_soanp'] = df_simple[df_simple['file_name'].str.contains(f'230650_ANN_simple_SOAnp')]['relative_profit'].astype(float).mean()\n",
    "df_simple_heterogenity_small.loc[0, 'xgb_ioa'] = df_simple[df_simple['file_name'].str.contains(f'230650_XGB_simple_IOA')]['relative_profit'].astype(float).mean()\n",
    "df_simple_heterogenity_small.loc[0, 'xgb_soap'] = df_simple[df_simple['file_name'].str.contains(f'230650_XGB_simple_SOAp')]['relative_profit'].astype(float).mean()\n",
    "df_simple_heterogenity_small.loc[0, 'xgb_soanp'] = df_simple[df_simple['file_name'].str.contains(f'230650_XGB_simple_SOAnp')]['relative_profit'].astype(float).mean()\n",
    "\n",
    "\n",
    "for i in range(1,6):\n",
    "    df_simple_heterogenity_small.loc[i, 'ann_ioa'] = df_simple[df_simple['file_name'].str.contains(f'23065{10*i}no_ANN_simple_IOA')]['relative_profit'].astype(float).mean()\n",
    "    df_simple_heterogenity_small.loc[i, 'ann_soap'] = df_simple[df_simple['file_name'].str.contains(f'23065{10*i}no_ANN_simple_SOAp')]['relative_profit'].astype(float).mean()\n",
    "    df_simple_heterogenity_small.loc[i, 'ann_soanp'] = df_simple[df_simple['file_name'].str.contains(f'23065{10*i}no_ANN_simple_SOAnp')]['relative_profit'].astype(float).mean()\n",
    "    df_simple_heterogenity_small.loc[i, 'xgb_ioa'] = df_simple[df_simple['file_name'].str.contains(f'23065{10*i}no_XGB_simple_IOA')]['relative_profit'].astype(float).mean()\n",
    "    df_simple_heterogenity_small.loc[i, 'xgb_soap'] = df_simple[df_simple['file_name'].str.contains(f'23065{10*i}no_XGB_simple_SOAp')]['relative_profit'].astype(float).mean()\n",
    "    df_simple_heterogenity_small.loc[i, 'xgb_soanp'] = df_simple[df_simple['file_name'].str.contains(f'23065{10*i}no_XGB_simple_SOAnp')]['relative_profit'].astype(float).mean()\n",
    "\n",
    "df_simple_heterogenity_small['Cochran´s Q'] = [Q_0_s, Q_10_s, Q_20_s, Q_30_s, Q_40_s, Q_50_s]\n",
    "df_simple_heterogenity_small['I2'] = [I2_0_s, I2_10_s, I2_20_s, I2_30_s, I2_40_s, I2_50_s]\n",
    "df_simple_heterogenity_small['p-value'] = [p_0_s, p_10_s, p_20_s, p_30_s, p_40_s, p_50_s]\n",
    "\n",
    "df_simple_heterogenity_small = df_simple_heterogenity_small.drop(2)\n",
    "\n",
    "print(df_simple_heterogenity_small)"
   ]
  },
  {
   "cell_type": "code",
   "execution_count": 1643,
   "metadata": {},
   "outputs": [
    {
     "name": "stdout",
     "output_type": "stream",
     "text": [
      "    ann_ioa  ann_soap  ann_soanp   xgb_ioa  xgb_soap  xgb_soanp  Cochran´s Q  \\\n",
      "0  0.992953  0.966285   0.966284  0.969654  0.942793   0.941935          NaN   \n",
      "1  0.985833  0.968934   0.968900  0.958853  0.930381   0.930641     1.350184   \n",
      "2  0.970811  0.904032   0.903697  0.935595  0.901630   0.902850     2.367605   \n",
      "3  0.969874  0.887784   0.887862  0.936393  0.879764   0.880234     3.110097   \n",
      "4  0.966648  0.866892   0.866794  0.934185  0.814337   0.814569     4.284557   \n",
      "5  0.966782  0.829850   0.829836  0.935231  0.802731   0.802761     6.182867   \n",
      "\n",
      "          I2   p-value  \n",
      "0   0.000000       NaN  \n",
      "1  25.936011  0.245246  \n",
      "2  57.763229  0.123877  \n",
      "3  67.846665  0.077808  \n",
      "4  76.660362  0.038460  \n",
      "5  83.826274  0.012899  \n"
     ]
    }
   ],
   "source": [
    "df_complex_heterogenity_no = pd.DataFrame(0.0, index=range(6), columns=['ann_ioa', 'ann_soap', 'ann_soanp', 'xgb_ioa', 'xgb_soap', 'xgb_soanp'])\n",
    "\n",
    "df_complex_heterogenity_no.loc[0, 'ann_ioa'] = df_complex[df_complex['file_name'].str.contains(f'430650_ANN_complex_IOA')]['relative_profit'].astype(float).mean()\n",
    "df_complex_heterogenity_no.loc[0, 'ann_soap'] = df_complex[df_complex['file_name'].str.contains(f'430650_ANN_complex_SOAp')]['relative_profit'].astype(float).mean()\n",
    "df_complex_heterogenity_no.loc[0, 'ann_soanp'] = df_complex[df_complex['file_name'].str.contains(f'430650_ANN_complex_SOAnp')]['relative_profit'].astype(float).mean()\n",
    "df_complex_heterogenity_no.loc[0, 'xgb_ioa'] = df_complex[df_complex['file_name'].str.contains(f'430650_XGB_complex_IOA')]['relative_profit'].astype(float).mean()\n",
    "df_complex_heterogenity_no.loc[0, 'xgb_soap'] = df_complex[df_complex['file_name'].str.contains(f'430650_XGB_complex_SOAp')]['relative_profit'].astype(float).mean()\n",
    "df_complex_heterogenity_no.loc[0, 'xgb_soanp'] = df_complex[df_complex['file_name'].str.contains(f'430650_XGB_complex_SOAnp')]['relative_profit'].astype(float).mean()\n",
    "\n",
    "for i in range(1,6):\n",
    "    df_complex_heterogenity_no.loc[i, 'ann_ioa'] = df_complex[df_complex['file_name'].str.contains(f'43065{10*i}no_ANN_complex_IOA')]['relative_profit'].astype(float).mean()\n",
    "    df_complex_heterogenity_no.loc[i, 'ann_soap'] = df_complex[df_complex['file_name'].str.contains(f'43065{10*i}no_ANN_complex_SOAp')]['relative_profit'].astype(float).mean()\n",
    "    df_complex_heterogenity_no.loc[i, 'ann_soanp'] = df_complex[df_complex['file_name'].str.contains(f'43065{10*i}no_ANN_complex_SOAnp')]['relative_profit'].astype(float).mean()\n",
    "    df_complex_heterogenity_no.loc[i, 'xgb_ioa'] = df_complex[df_complex['file_name'].str.contains(f'43065{10*i}no_XGB_complex_IOA')]['relative_profit'].astype(float).mean()\n",
    "    df_complex_heterogenity_no.loc[i, 'xgb_soap'] = df_complex[df_complex['file_name'].str.contains(f'43065{10*i}no_XGB_complex_SOAp')]['relative_profit'].astype(float).mean()\n",
    "    df_complex_heterogenity_no.loc[i, 'xgb_soanp'] = df_complex[df_complex['file_name'].str.contains(f'43065{10*i}no_XGB_complex_SOAnp')]['relative_profit'].astype(float).mean()\n",
    "\n",
    "df_complex_heterogenity_no['Cochran´s Q'] = [Q_0_m, Q_10_m, Q_20_m, Q_30_m, Q_40_m, Q_50_m]\n",
    "df_complex_heterogenity_no['I2'] = [I2_0_m, I2_10_m, I2_20_m, I2_30_m, I2_40_m, I2_50_m]\n",
    "df_complex_heterogenity_no['p-value'] = [p_0_m, p_10_m, p_20_m, p_30_m, p_40_m, p_50_m]\n",
    "\n",
    "print(df_complex_heterogenity_no)"
   ]
  },
  {
   "cell_type": "code",
   "execution_count": null,
   "metadata": {},
   "outputs": [],
   "source": [
    "df_complex_heterogenity_small = pd.DataFrame(0.0, index=range(6), columns=['ann_ioa', 'ann_soap', 'ann_soanp', 'xgb_ioa', 'xgb_soap', 'xgb_soanp'])\n",
    "\n",
    "df_complex_heterogenity_small.loc[0, 'ann_ioa'] = df_complex[df_complex['file_name'].str.contains(f'230650_ANN_complex_IOA')]['relative_profit'].astype(float).mean()\n",
    "df_complex_heterogenity_small.loc[0, 'ann_soap'] = df_complex[df_complex['file_name'].str.contains(f'230650_ANN_complex_SOAp')]['relative_profit'].astype(float).mean()\n",
    "df_complex_heterogenity_small.loc[0, 'ann_soanp'] = df_complex[df_complex['file_name'].str.contains(f'230650_ANN_complex_SOAnp')]['relative_profit'].astype(float).mean()\n",
    "df_complex_heterogenity_small.loc[0, 'xgb_ioa'] = df_complex[df_complex['file_name'].str.contains(f'230650_XGB_complex_IOA')]['relative_profit'].astype(float).mean()\n",
    "df_complex_heterogenity_small.loc[0, 'xgb_soap'] = df_complex[df_complex['file_name'].str.contains(f'230650_XGB_complex_SOAp')]['relative_profit'].astype(float).mean()\n",
    "df_complex_heterogenity_small.loc[0, 'xgb_soanp'] = df_complex[df_complex['file_name'].str.contains(f'230650_XGB_complex_SOAnp')]['relative_profit'].astype(float).mean()\n",
    "\n",
    "for i in range(1,6):\n",
    "    "
   ]
  },
  {
   "cell_type": "markdown",
   "metadata": {},
   "source": [
    "# Elapsed Time"
   ]
  },
  {
   "cell_type": "code",
   "execution_count": 1644,
   "metadata": {},
   "outputs": [
    {
     "name": "stdout",
     "output_type": "stream",
     "text": [
      "       ann_ioa     ann_soap    ann_soanp     xgb_ioa    xgb_soap   xgb_soanp\n",
      "0   423.664309   608.046489   624.473018  310.513162  312.485574  312.485169\n",
      "1   435.976349   365.817610   365.797994  352.715270  327.048781  327.046369\n",
      "2   438.748961   539.041733   539.040427  372.529320  283.779637  283.779284\n",
      "3  1093.965960  1348.775359  1348.774147  277.047058  304.279848  304.279789\n",
      "4  4612.916231  5841.503571  5841.485346  355.386725  367.057751  367.057562\n"
     ]
    }
   ],
   "source": [
    "# Initialize DataFrame with the correct dtype for relative_profit values\n",
    "df_simple_size = pd.DataFrame(0.0, index=range(5), columns=['ann_ioa', 'ann_soap', 'ann_soanp', 'xgb_ioa', 'xgb_soap', 'xgb_soanp'])\n",
    "\n",
    "# Use .loc for assignments and ensure values are cast to float\n",
    "for i in range(5):\n",
    "    df_simple_size.loc[i, 'ann_ioa'] = df_simple[df_simple['file_name'].str.contains(f'{i+1}30650_ANN_simple_IOA')]['elapsed_time'].astype(float).values\n",
    "    df_simple_size.loc[i, 'ann_soap'] = df_simple[df_simple['file_name'].str.contains(f'{i+1}30650_ANN_simple_SOAp')]['elapsed_time'].astype(float).values\n",
    "    df_simple_size.loc[i, 'ann_soanp'] = df_simple[df_simple['file_name'].str.contains(f'{i+1}30650_ANN_simple_SOAnp')]['elapsed_time'].astype(float).values    \n",
    "    df_simple_size.loc[i, 'xgb_ioa'] = df_simple[df_simple['file_name'].str.contains(f'{i+1}30650_XGB_simple_IOA')]['elapsed_time'].astype(float).values\n",
    "    df_simple_size.loc[i, 'xgb_soap'] = df_simple[df_simple['file_name'].str.contains(f'{i+1}30650_XGB_simple_SOAp')]['elapsed_time'].astype(float).values\n",
    "    df_simple_size.loc[i, 'xgb_soanp'] = df_simple[df_simple['file_name'].str.contains(f'{i+1}30650_XGB_simple_SOAnp')]['elapsed_time'].astype(float).values\n",
    "    \n",
    "\n",
    "print(df_simple_size)"
   ]
  },
  {
   "cell_type": "code",
   "execution_count": 1645,
   "metadata": {},
   "outputs": [
    {
     "name": "stdout",
     "output_type": "stream",
     "text": [
      "       ann_ioa     ann_soap    ann_soanp     xgb_ioa    xgb_soap   xgb_soanp\n",
      "0   365.438847   688.687054   688.669945  321.491835  350.344737  350.344541\n",
      "1   364.742442   586.807392   586.805333  334.693431  285.467420  285.461613\n",
      "2   556.237807   640.833177   640.815724  348.469695  330.278955  330.280093\n",
      "3   926.330657  1046.621161  1046.620563  277.296389  270.670218  270.669974\n",
      "4  6052.384864  3978.643239  3978.643490  471.934483  307.116521  307.116829\n"
     ]
    }
   ],
   "source": [
    "df_simple_size_var200 = pd.DataFrame(0.0, index=range(4), columns=['ann_ioa', 'ann_soap', 'ann_soanp', 'xgb_ioa', 'xgb_soap', 'xgb_soanp'])\n",
    "\n",
    "for i in range(5):\n",
    "    df_simple_size_var200.loc[i, 'ann_ioa'] = df_simple[df_simple['file_name'].str.contains(f'{i+1}306200_ANN_simple_IOA')]['elapsed_time'].astype(float).values\n",
    "    df_simple_size_var200.loc[i, 'ann_soap'] = df_simple[df_simple['file_name'].str.contains(f'{i+1}306200_ANN_simple_SOAp')]['elapsed_time'].astype(float).values\n",
    "    df_simple_size_var200.loc[i, 'ann_soanp'] = df_simple[df_simple['file_name'].str.contains(f'{i+1}306200_ANN_simple_SOAnp')]['elapsed_time'].astype(float).values\n",
    "    df_simple_size_var200.loc[i, 'xgb_ioa'] = df_simple[df_simple['file_name'].str.contains(f'{i+1}306200_XGB_simple_IOA')]['elapsed_time'].astype(float).values\n",
    "    df_simple_size_var200.loc[i, 'xgb_soap'] = df_simple[df_simple['file_name'].str.contains(f'{i+1}306200_XGB_simple_SOAp')]['elapsed_time'].astype(float).values\n",
    "    df_simple_size_var200.loc[i, 'xgb_soanp'] = df_simple[df_simple['file_name'].str.contains(f'{i+1}306200_XGB_simple_SOAnp')]['elapsed_time'].astype(float).values\n",
    "\n",
    "print(df_simple_size_var200)"
   ]
  },
  {
   "cell_type": "code",
   "execution_count": 1646,
   "metadata": {},
   "outputs": [
    {
     "name": "stdout",
     "output_type": "stream",
     "text": [
      "       ann_ioa     ann_soap    ann_soanp      xgb_ioa     xgb_soap  \\\n",
      "0   385.756685   689.942904   680.731759   151.423028   227.574907   \n",
      "1   395.776927   632.139911   628.357375   170.102392  1046.437113   \n",
      "2   598.089324   713.090926   705.471764   203.463330  1024.228453   \n",
      "3   968.945080  1548.125519  1513.206116  1659.576647  1598.127457   \n",
      "4  8114.167667  5525.452829  5514.386474  1062.531468  1148.578070   \n",
      "5     0.000000     0.000000     0.000000     0.000000     0.000000   \n",
      "\n",
      "     xgb_soanp  \n",
      "0   223.204138  \n",
      "1  1066.232464  \n",
      "2  1043.964876  \n",
      "3  1600.545804  \n",
      "4  1166.693915  \n",
      "5     0.000000  \n"
     ]
    }
   ],
   "source": [
    "df_complex_size = pd.DataFrame(0.0, index=range(6), columns=['ann_ioa', 'ann_soap', 'ann_soanp', 'xgb_ioa', 'xgb_soap', 'xgb_soanp'])\n",
    "\n",
    "for i in range(5):\n",
    "    df_complex_size.loc[i, 'ann_ioa'] = df_complex[df_complex['file_name'].str.contains(f'{i+1}30650_ANN_complex_IOA')]['elapsed_time'].astype(float).mean()\n",
    "    df_complex_size.loc[i, 'ann_soap'] = df_complex[df_complex['file_name'].str.contains(f'{i+1}30650_ANN_complex_SOAp')]['elapsed_time'].astype(float).mean()\n",
    "    df_complex_size.loc[i, 'ann_soanp'] = df_complex[df_complex['file_name'].str.contains(f'{i+1}30650_ANN_complex_SOAnp')]['elapsed_time'].astype(float).mean()\n",
    "    df_complex_size.loc[i, 'xgb_ioa'] = df_complex[df_complex['file_name'].str.contains(f'{i+1}30650_XGB_complex_IOA')]['elapsed_time'].astype(float).mean()\n",
    "    df_complex_size.loc[i, 'xgb_soap'] = df_complex[df_complex['file_name'].str.contains(f'{i+1}30650_XGB_complex_SOAp')]['elapsed_time'].astype(float).mean()\n",
    "    df_complex_size.loc[i, 'xgb_soanp'] = df_complex[df_complex['file_name'].str.contains(f'{i+1}30650_XGB_complex_SOAnp')]['elapsed_time'].astype(float).mean()\n",
    "\n",
    "print(df_complex_size)"
   ]
  },
  {
   "cell_type": "code",
   "execution_count": 1647,
   "metadata": {},
   "outputs": [
    {
     "name": "stdout",
     "output_type": "stream",
     "text": [
      "       ann_ioa     ann_soap    ann_soanp      xgb_ioa     xgb_soap  \\\n",
      "0   377.080958   501.560345   476.508161   316.718548   441.143211   \n",
      "1   382.171129   501.128040   486.626281   458.304004   427.258550   \n",
      "2   435.989852   642.240051   629.571339   262.375064  1059.056955   \n",
      "3   921.126149  1122.060366  1109.749612   211.237675  1155.647667   \n",
      "4  7272.012689  4842.427354  4825.692755  2120.766047  1166.262467   \n",
      "\n",
      "     xgb_soanp  \n",
      "0   428.180393  \n",
      "1   420.951300  \n",
      "2  1078.600045  \n",
      "3  1174.230778  \n",
      "4  1186.558450  \n"
     ]
    }
   ],
   "source": [
    "df_complex_size_var200 = pd.DataFrame(0.0, index=range(4), columns=['ann_ioa', 'ann_soap', 'ann_soanp', 'xgb_ioa', 'xgb_soap', 'xgb_soanp'])\n",
    "\n",
    "for i in range(5):\n",
    "    df_complex_size_var200.loc[i, 'ann_ioa'] = df_complex[df_complex['file_name'].str.contains(f'{i+1}306200_ANN_complex_IOA')]['elapsed_time'].astype(float).mean()\n",
    "    df_complex_size_var200.loc[i, 'ann_soap'] = df_complex[df_complex['file_name'].str.contains(f'{i+1}306200_ANN_complex_SOAp')]['elapsed_time'].astype(float).mean()\n",
    "    df_complex_size_var200.loc[i, 'ann_soanp'] = df_complex[df_complex['file_name'].str.contains(f'{i+1}306200_ANN_complex_SOAnp')]['elapsed_time'].astype(float).mean()\n",
    "    df_complex_size_var200.loc[i, 'xgb_ioa'] = df_complex[df_complex['file_name'].str.contains(f'{i+1}306200_XGB_complex_IOA')]['elapsed_time'].astype(float).mean()\n",
    "    df_complex_size_var200.loc[i, 'xgb_soap'] = df_complex[df_complex['file_name'].str.contains(f'{i+1}306200_XGB_complex_SOAp')]['elapsed_time'].astype(float).mean()\n",
    "    df_complex_size_var200.loc[i, 'xgb_soanp'] = df_complex[df_complex['file_name'].str.contains(f'{i+1}306200_XGB_complex_SOAnp')]['elapsed_time'].astype(float).mean()\n",
    "\n",
    "print(df_complex_size_var200)"
   ]
  },
  {
   "cell_type": "markdown",
   "metadata": {},
   "source": [
    "### Average Memory Consumption"
   ]
  },
  {
   "cell_type": "code",
   "execution_count": 1648,
   "metadata": {},
   "outputs": [
    {
     "name": "stdout",
     "output_type": "stream",
     "text": [
      "       ann_ioa     ann_soap    ann_soanp      xgb_ioa      xgb_soap  \\\n",
      "0  1942.411554  4096.453125  4301.968750  4161.143630   4526.777344   \n",
      "1  2032.693157  2168.148438  2168.148438  4699.202164   4991.667969   \n",
      "2  1833.999270  2603.234375  2603.250000  5340.901266   4658.074219   \n",
      "3  2741.428422  4491.985943  4491.985943  4494.936523   5960.789062   \n",
      "4  2871.348979  5498.613693  5498.613693  5351.057575  15649.083984   \n",
      "\n",
      "      xgb_soanp  \n",
      "0   4526.753906  \n",
      "1   4991.667969  \n",
      "2   4658.074219  \n",
      "3   5960.789062  \n",
      "4  15649.083984  \n"
     ]
    }
   ],
   "source": [
    "df_simple_size = pd.DataFrame(0.0, index=range(5), columns=['ann_ioa', 'ann_soap', 'ann_soanp', 'xgb_ioa', 'xgb_soap', 'xgb_soanp'])\n",
    "\n",
    "for i in range(5):\n",
    "    df_simple_size.loc[i, 'ann_ioa'] = df_simple[df_simple['file_name'].str.contains(f'{i+1}30650_ANN_simple_IOA')]['avg_memory'].astype(float).mean()\n",
    "    df_simple_size.loc[i, 'ann_soap'] = df_simple[df_simple['file_name'].str.contains(f'{i+1}30650_ANN_simple_SOAp')]['avg_memory'].astype(float).mean()\n",
    "    df_simple_size.loc[i, 'ann_soanp'] = df_simple[df_simple['file_name'].str.contains(f'{i+1}30650_ANN_simple_SOAnp')]['avg_memory'].astype(float).mean()\n",
    "    df_simple_size.loc[i, 'xgb_ioa'] = df_simple[df_simple['file_name'].str.contains(f'{i+1}30650_XGB_simple_IOA')]['avg_memory'].astype(float).mean()\n",
    "    df_simple_size.loc[i, 'xgb_soap'] = df_simple[df_simple['file_name'].str.contains(f'{i+1}30650_XGB_simple_SOAp')]['avg_memory'].astype(float).mean()\n",
    "    df_simple_size.loc[i, 'xgb_soanp'] = df_simple[df_simple['file_name'].str.contains(f'{i+1}30650_XGB_simple_SOAnp')]['avg_memory'].astype(float).mean()\n",
    "\n",
    "print(df_simple_size)"
   ]
  },
  {
   "cell_type": "code",
   "execution_count": 1649,
   "metadata": {},
   "outputs": [
    {
     "name": "stdout",
     "output_type": "stream",
     "text": [
      "       ann_ioa     ann_soap    ann_soanp      xgb_ioa      xgb_soap  \\\n",
      "0  1866.281820  4678.167969  4678.191406  4340.767004   4880.109375   \n",
      "1  1927.842453  4602.832031  4602.878906  4645.538187   4226.914062   \n",
      "2  2808.122784  4861.707031  4861.785156  5111.532665   5356.562500   \n",
      "3  2655.780388  4439.832031  4439.886719  4583.034923   5849.613281   \n",
      "4  3428.224405  4565.425611  4565.425611  5739.666374  13209.753348   \n",
      "\n",
      "      xgb_soanp  \n",
      "0   4880.109375  \n",
      "1   4226.914062  \n",
      "2   5356.562500  \n",
      "3   5849.613281  \n",
      "4  13209.753348  \n"
     ]
    }
   ],
   "source": [
    "df_simple_size_var200 = pd.DataFrame(0.0, index=range(4), columns=['ann_ioa', 'ann_soap', 'ann_soanp', 'xgb_ioa', 'xgb_soap', 'xgb_soanp'])\n",
    "\n",
    "for i in range(5):\n",
    "    df_simple_size_var200.loc[i, 'ann_ioa'] = df_simple[df_simple['file_name'].str.contains(f'{i+1}306200_ANN_simple_IOA')]['avg_memory'].astype(float).mean()\n",
    "    df_simple_size_var200.loc[i, 'ann_soap'] = df_simple[df_simple['file_name'].str.contains(f'{i+1}306200_ANN_simple_SOAp')]['avg_memory'].astype(float).mean()\n",
    "    df_simple_size_var200.loc[i, 'ann_soanp'] = df_simple[df_simple['file_name'].str.contains(f'{i+1}306200_ANN_simple_SOAnp')]['avg_memory'].astype(float).mean()\n",
    "    df_simple_size_var200.loc[i, 'xgb_ioa'] = df_simple[df_simple['file_name'].str.contains(f'{i+1}306200_XGB_simple_IOA')]['avg_memory'].astype(float).mean()\n",
    "    df_simple_size_var200.loc[i, 'xgb_soap'] = df_simple[df_simple['file_name'].str.contains(f'{i+1}306200_XGB_simple_SOAp')]['avg_memory'].astype(float).mean()\n",
    "    df_simple_size_var200.loc[i, 'xgb_soanp'] = df_simple[df_simple['file_name'].str.contains(f'{i+1}306200_XGB_simple_SOAnp')]['avg_memory'].astype(float).mean()\n",
    "\n",
    "print(df_simple_size_var200)\n"
   ]
  },
  {
   "cell_type": "code",
   "execution_count": 1650,
   "metadata": {},
   "outputs": [
    {
     "name": "stdout",
     "output_type": "stream",
     "text": [
      "       ann_ioa      ann_soap     ann_soanp       xgb_ioa      xgb_soap  \\\n",
      "0  2559.113281   6679.226562  10214.804688   2200.406250   4682.664062   \n",
      "1  2861.375000   6578.429688  10208.214844   2660.019531  15052.500000   \n",
      "2  3841.792969   6555.558594  10202.027344   3063.261719  15001.496094   \n",
      "3  3291.453125  12159.195312  16245.003906  16691.015625  21449.457031   \n",
      "4  3752.714844   8117.250000  12186.191406   2284.605469  17567.949219   \n",
      "\n",
      "      xgb_soanp  \n",
      "0   8738.257812  \n",
      "1  19103.050781  \n",
      "2  19053.703125  \n",
      "3  25515.007812  \n",
      "4  21619.593750  \n"
     ]
    }
   ],
   "source": [
    "df_complex_size = pd.DataFrame(0.0, index=range(5), columns=['ann_ioa', 'ann_soap', 'ann_soanp', 'xgb_ioa', 'xgb_soap', 'xgb_soanp'])\n",
    "\n",
    "for i in range(5):\n",
    "    df_complex_size.loc[i, 'ann_ioa'] = df_complex[df_complex['file_name'].str.contains(f'{i+1}30650_ANN_complex_IOA')]['peak_memory'].astype(float).mean()\n",
    "    df_complex_size.loc[i, 'ann_soap'] = df_complex[df_complex['file_name'].str.contains(f'{i+1}30650_ANN_complex_SOAp')]['peak_memory'].astype(float).mean()\n",
    "    df_complex_size.loc[i, 'ann_soanp'] = df_complex[df_complex['file_name'].str.contains(f'{i+1}30650_ANN_complex_SOAnp')]['peak_memory'].astype(float).mean()\n",
    "    df_complex_size.loc[i, 'xgb_ioa'] = df_complex[df_complex['file_name'].str.contains(f'{i+1}30650_XGB_complex_IOA')]['peak_memory'].astype(float).mean()\n",
    "    df_complex_size.loc[i, 'xgb_soap'] = df_complex[df_complex['file_name'].str.contains(f'{i+1}30650_XGB_complex_SOAp')]['peak_memory'].astype(float).mean()\n",
    "    df_complex_size.loc[i, 'xgb_soanp'] = df_complex[df_complex['file_name'].str.contains(f'{i+1}30650_XGB_complex_SOAnp')]['peak_memory'].astype(float).mean()\n",
    "\n",
    "print(df_complex_size)\n"
   ]
  },
  {
   "cell_type": "code",
   "execution_count": 1651,
   "metadata": {},
   "outputs": [
    {
     "name": "stdout",
     "output_type": "stream",
     "text": [
      "       ann_ioa     ann_soap     ann_soanp       xgb_ioa      xgb_soap  \\\n",
      "0  2686.074219  6431.101562  10472.886719   4220.238281   8423.648438   \n",
      "1  2833.093750  6471.964844  10512.910156   6137.253906   8147.285156   \n",
      "2  2770.933594  6753.714844  10815.011719   4229.035156  15195.593750   \n",
      "3  2947.367188  6867.011719  10957.515625   2742.156250  15379.257812   \n",
      "4  3403.390625  7243.128906  11281.761719  15136.058594  16490.285156   \n",
      "\n",
      "      xgb_soanp  \n",
      "0  12542.144531  \n",
      "1  12222.863281  \n",
      "2  19271.769531  \n",
      "3  19412.410156  \n",
      "4  20557.121094  \n"
     ]
    }
   ],
   "source": [
    "df_complex_size_var200 = pd.DataFrame(0.0, index=range(4), columns=['ann_ioa', 'ann_soap', 'ann_soanp', 'xgb_ioa', 'xgb_soap', 'xgb_soanp'])\n",
    "\n",
    "for i in range(5):\n",
    "    df_complex_size_var200.loc[i, 'ann_ioa'] = df_complex[df_complex['file_name'].str.contains(f'{i+1}306200_ANN_complex_IOA')]['peak_memory'].astype(float).mean()\n",
    "    df_complex_size_var200.loc[i, 'ann_soap'] = df_complex[df_complex['file_name'].str.contains(f'{i+1}306200_ANN_complex_SOAp')]['peak_memory'].astype(float).mean()\n",
    "    df_complex_size_var200.loc[i, 'ann_soanp'] = df_complex[df_complex['file_name'].str.contains(f'{i+1}306200_ANN_complex_SOAnp')]['peak_memory'].astype(float).mean()\n",
    "    df_complex_size_var200.loc[i, 'xgb_ioa'] = df_complex[df_complex['file_name'].str.contains(f'{i+1}306200_XGB_complex_IOA')]['peak_memory'].astype(float).mean()\n",
    "    df_complex_size_var200.loc[i, 'xgb_soap'] = df_complex[df_complex['file_name'].str.contains(f'{i+1}306200_XGB_complex_SOAp')]['peak_memory'].astype(float).mean()\n",
    "    df_complex_size_var200.loc[i, 'xgb_soanp'] = df_complex[df_complex['file_name'].str.contains(f'{i+1}306200_XGB_complex_SOAnp')]['peak_memory'].astype(float).mean()\n",
    "\n",
    "print(df_complex_size_var200)"
   ]
  },
  {
   "cell_type": "code",
   "execution_count": 1652,
   "metadata": {},
   "outputs": [
    {
     "name": "stdout",
     "output_type": "stream",
     "text": [
      "       ann_ioa     ann_soap    ann_soanp       xgb_ioa      xgb_soap  \\\n",
      "0  2741.428422  4491.985943  4491.985943   4494.936523   5960.789062   \n",
      "1  2503.350010  4853.796875  4853.875000   5150.374349   1797.519531   \n",
      "2  2514.587930  4741.640625  4741.695312   5359.213410   2096.277344   \n",
      "3  2618.768385  4479.461263  4479.461263   5239.896453   2373.437500   \n",
      "4  2899.779328  4952.623602  4952.623602   6732.601004   8252.920052   \n",
      "5  3518.346157  5719.332964  5719.332964   9300.402845   4232.142278   \n",
      "6  4266.088961  7361.726562  7361.789062  13991.887533  15883.666797   \n",
      "\n",
      "      xgb_soanp  \n",
      "0   5960.789062  \n",
      "1   1797.519531  \n",
      "2   2096.277344  \n",
      "3   2373.519531  \n",
      "4   8252.920052  \n",
      "5   4232.142278  \n",
      "6  15883.666797  \n"
     ]
    }
   ],
   "source": [
    "df_simple_feature_noise = pd.DataFrame(0.0, index=range(7), columns=['ann_ioa', 'ann_soap', 'ann_soanp', 'xgb_ioa', 'xgb_soap', 'xgb_soanp'])\n",
    "\n",
    "for i in range(7):\n",
    "    x = 3* (2**i)\n",
    "    df_simple_feature_noise.loc[i, 'ann_ioa'] = df_simple[df_simple['file_name'].str.contains(f'4{x}0650_ANN_simple_IOA')]['avg_memory'].astype(float).mean()\n",
    "    df_simple_feature_noise.loc[i, 'ann_soap'] = df_simple[df_simple['file_name'].str.contains(f'4{x}0650_ANN_simple_SOAp')]['avg_memory'].astype(float).mean()\n",
    "    df_simple_feature_noise.loc[i, 'ann_soanp'] = df_simple[df_simple['file_name'].str.contains(f'4{x}0650_ANN_simple_SOAnp')]['avg_memory'].astype(float).mean()\n",
    "    df_simple_feature_noise.loc[i, 'xgb_ioa'] = df_simple[df_simple['file_name'].str.contains(f'4{x}0650_XGB_simple_IOA')]['avg_memory'].astype(float).mean()\n",
    "    df_simple_feature_noise.loc[i, 'xgb_soap'] = df_simple[df_simple['file_name'].str.contains(f'4{x}0650_XGB_simple_SOAp')]['avg_memory'].astype(float).mean()\n",
    "    df_simple_feature_noise.loc[i, 'xgb_soanp'] = df_simple[df_simple['file_name'].str.contains(f'4{x}0650_XGB_simple_SOAnp')]['avg_memory'].astype(float).mean()\n",
    "\n",
    "print(df_simple_feature_noise)"
   ]
  },
  {
   "cell_type": "code",
   "execution_count": 1653,
   "metadata": {},
   "outputs": [
    {
     "name": "stdout",
     "output_type": "stream",
     "text": [
      "       ann_ioa      ann_soap     ann_soanp       xgb_ioa      xgb_soap  \\\n",
      "0  2575.001450  10090.440440  14219.495641  16589.109635  19434.149095   \n",
      "1  2453.365884   4661.443888   8787.646720  10008.589009  13468.921836   \n",
      "2  2658.801064   4618.479734   8764.506685   9446.236521  15711.446476   \n",
      "3  6385.615861   9611.617026  13714.897025  18541.351386  17032.918634   \n",
      "4  2797.607124  10365.317464  14475.669797  20810.852642   9831.459110   \n",
      "5  3731.226603  11845.200255  16010.331340  26111.270727  26384.586057   \n",
      "6  4598.029992   6627.397202  10744.740129  22337.306201  22254.869467   \n",
      "\n",
      "      xgb_soanp  \n",
      "0  23508.147814  \n",
      "1  17578.586629  \n",
      "2  19783.584498  \n",
      "3  21080.655419  \n",
      "4  12991.358908  \n",
      "5  29423.952626  \n",
      "6  24081.127632  \n"
     ]
    }
   ],
   "source": [
    "df_complex_feature_noise = pd.DataFrame(0.0, index=range(7), columns=['ann_ioa', 'ann_soap', 'ann_soanp', 'xgb_ioa', 'xgb_soap', 'xgb_soanp'])\n",
    "\n",
    "for i in range(7):\n",
    "    x = 3* (2**i)\n",
    "    df_complex_feature_noise.loc[i, 'ann_ioa'] = df_complex[df_complex['file_name'].str.contains(f'4{x}0650_ANN_complex_IOA')]['avg_memory'].astype(float).mean()\n",
    "    df_complex_feature_noise.loc[i, 'ann_soap'] = df_complex[df_complex['file_name'].str.contains(f'4{x}0650_ANN_complex_SOAp')]['avg_memory'].astype(float).mean()\n",
    "    df_complex_feature_noise.loc[i, 'ann_soanp'] = df_complex[df_complex['file_name'].str.contains(f'4{x}0650_ANN_complex_SOAnp')]['avg_memory'].astype(float).mean()\n",
    "    df_complex_feature_noise.loc[i, 'xgb_ioa'] = df_complex[df_complex['file_name'].str.contains(f'4{x}0650_XGB_complex_IOA')]['avg_memory'].astype(float).mean()\n",
    "    df_complex_feature_noise.loc[i, 'xgb_soap'] = df_complex[df_complex['file_name'].str.contains(f'4{x}0650_XGB_complex_SOAp')]['avg_memory'].astype(float).mean()\n",
    "    df_complex_feature_noise.loc[i, 'xgb_soanp'] = df_complex[df_complex['file_name'].str.contains(f'4{x}0650_XGB_complex_SOAnp')]['avg_memory'].astype(float).mean()\n",
    "\n",
    "print(df_complex_feature_noise)"
   ]
  },
  {
   "cell_type": "markdown",
   "metadata": {},
   "source": [
    "# Risk - Cost Structure"
   ]
  },
  {
   "cell_type": "code",
   "execution_count": 1654,
   "metadata": {},
   "outputs": [
    {
     "name": "stderr",
     "output_type": "stream",
     "text": [
      "C:\\Users\\lanza\\AppData\\Local\\Temp\\ipykernel_11164\\1762320643.py:32: SettingWithCopyWarning: \n",
      "A value is trying to be set on a copy of a slice from a DataFrame.\n",
      "Try using .loc[row_indexer,col_indexer] = value instead\n",
      "\n",
      "See the caveats in the documentation: https://pandas.pydata.org/pandas-docs/stable/user_guide/indexing.html#returning-a-view-versus-a-copy\n",
      "  df_simple_430650['risk_level'] = 1\n",
      "C:\\Users\\lanza\\AppData\\Local\\Temp\\ipykernel_11164\\1762320643.py:34: SettingWithCopyWarning: \n",
      "A value is trying to be set on a copy of a slice from a DataFrame.\n",
      "Try using .loc[row_indexer,col_indexer] = value instead\n",
      "\n",
      "See the caveats in the documentation: https://pandas.pydata.org/pandas-docs/stable/user_guide/indexing.html#returning-a-view-versus-a-copy\n",
      "  df_complex_430650['risk_level'] = 1\n"
     ]
    }
   ],
   "source": [
    "import pandas as pd\n",
    "\n",
    "metadata_risk = []\n",
    "\n",
    "# Loop through the risk levels and load metadata with risk level included\n",
    "for risk_level in [1.5, 2, 2.5, 3, 3.5, 4]:\n",
    "    # Load the metadata for the current risk level\n",
    "    if risk_level == 1.5:\n",
    "        r = 15\n",
    "    elif risk_level == 2.5:\n",
    "        r = 25\n",
    "    elif risk_level == 3.5:\n",
    "        r = 35\n",
    "    else:\n",
    "        r = int(risk_level)\n",
    "    current_metadata = load_metadata(f'C:/Users/lanza/Master_Thesis_EL/Integrated-vs-Seperated-Master-Thesis/hpc_mount/Risk-{r}-430650')\n",
    "    # Append the risk level to each dictionary in the list\n",
    "    for item in current_metadata:\n",
    "        item['risk_level'] = risk_level\n",
    "    # Extend the main list with the modified current list\n",
    "    metadata_risk.extend(current_metadata)\n",
    "\n",
    "# Convert the list of dictionaries to a DataFrame\n",
    "metadata_risk = pd.DataFrame(metadata_risk)\n",
    "\n",
    "# Filter rows where 'file_name' contains 'simple'\n",
    "df_risk_simple = metadata_risk[metadata_risk['file_name'].str.contains('simple')]\n",
    "df_risk_complex = metadata_risk[metadata_risk['file_name'].str.contains('complex')]\n",
    "\n",
    "# Filter df_simple for rows where 'file_name' contains '430650'\n",
    "df_simple_430650 = df_simple[df_simple['file_name'].str.contains('430650')]\n",
    "df_simple_430650['risk_level'] = 1\n",
    "df_complex_430650 = df_complex[df_complex['file_name'].str.contains('430650')]\n",
    "df_complex_430650['risk_level'] = 1\n",
    "\n",
    "# Concatenate these rows with df_risk_simple\n",
    "df_risk_simple = pd.concat([df_risk_simple, df_simple_430650], ignore_index=True)\n",
    "df_risk_complex = pd.concat([df_risk_complex, df_complex_430650], ignore_index=True)\n",
    "\n",
    "# Get cost structures for different risk levels\n",
    "underage_risk_1, overage_risk_1, alpha_risk_1, underage_single_risk_1, overage_single_risk_1 = get_constants(1)\n",
    "underage_risk_15, overage_risk_15, alpha_risk_15, underage_single_risk_15, overage_single_risk_15 = get_constants(1.5)\n",
    "underage_risk_2, overage_risk_2, alpha_risk_2, underage_single_risk_2, overage_single_risk_2 = get_constants(2)\n",
    "underage_risk_25, overage_risk_25, alpha_risk_25, underage_single_risk_25, overage_single_risk_25 = get_constants(2.5)\n",
    "underage_risk_3, overage_risk_3, alpha_risk_3, underage_single_risk_3, overage_single_risk_3 = get_constants(3)\n",
    "underage_risk_35, overage_risk_35, alpha_risk_35, underage_single_risk_35, overage_single_risk_35 = get_constants(3.5)\n",
    "underage_risk_4, overage_risk_4, alpha_risk_4, underage_single_risk_4, overage_single_risk_4 = get_constants(4)\n",
    "\n",
    "# Calculate the maximum profit for each risk level\n",
    "X_train, y_train, X_val, y_val, X_test, y_test = load_generated_data(path='C:/Users/lanza/Master_Thesis_EL/Integrated-vs-Seperated-Master-Thesis/test/set_430650/set_430650_data.h5', multi=False)\n",
    "\n",
    "load_cost_structure(underage_input=underage_single_risk_1, overage_input=overage_single_risk_1, alpha_input=alpha_risk_1)\n",
    "max_profit_risk_1 = nvps_profit(y_test, y_test)\n",
    "quantile_risk_1 = underage_single_risk_1 / (underage_single_risk_1 + overage_single_risk_1)\n",
    "load_cost_structure(underage_input=underage_single_risk_15, overage_input=overage_single_risk_15, alpha_input=alpha_risk_15)\n",
    "max_profit_risk_15 = nvps_profit(y_test, y_test)\n",
    "quantile_risk_15 = underage_single_risk_15 / (underage_single_risk_15 + overage_single_risk_15)\n",
    "load_cost_structure(underage_input=underage_single_risk_2, overage_input=overage_single_risk_2, alpha_input=alpha_risk_2)\n",
    "max_profit_risk_2 = nvps_profit(y_test, y_test)\n",
    "quantile_risk_2 = underage_single_risk_2 / (underage_single_risk_2 + overage_single_risk_2)\n",
    "load_cost_structure(underage_input=underage_single_risk_25, overage_input=overage_single_risk_25, alpha_input=alpha_risk_25)\n",
    "max_profit_risk_25 = nvps_profit(y_test, y_test)\n",
    "quantile_risk_25 = underage_single_risk_25 / (underage_single_risk_25 + overage_single_risk_25)\n",
    "load_cost_structure(underage_input=underage_single_risk_3, overage_input=overage_single_risk_3, alpha_input=alpha_risk_3)\n",
    "max_profit_risk_3 = nvps_profit(y_test, y_test)\n",
    "quantile_risk_3 = underage_single_risk_3 / (underage_single_risk_3 + overage_single_risk_3) \n",
    "load_cost_structure(underage_input=underage_single_risk_35, overage_input=overage_single_risk_35, alpha_input=alpha_risk_35)\n",
    "max_profit_risk_35 = nvps_profit(y_test, y_test)\n",
    "quantile_risk_35 = underage_single_risk_35 / (underage_single_risk_35 + overage_single_risk_35)\n",
    "load_cost_structure(underage_input=underage_single_risk_4, overage_input=overage_single_risk_4, alpha_input=alpha_risk_4)\n",
    "max_profit_risk_4 = nvps_profit(y_test, y_test)\n",
    "quantile_risk_4 = underage_single_risk_4 / (underage_single_risk_4 + overage_single_risk_4)\n",
    "\n",
    "# Calculate the maximum profit for each risk level\n",
    "X_train, y_train, X_val, y_val, X_test, y_test = load_generated_data(path='C:/Users/lanza/Master_Thesis_EL/Integrated-vs-Seperated-Master-Thesis/test/set_430650/set_430650_data.h5', multi=True)\n",
    "\n",
    "load_cost_structure(underage_input=underage_risk_1, overage_input=overage_risk_1, alpha_input=alpha_risk_1)\n",
    "max_profit_multi_risk_1 = nvps_profit(y_test, y_test)\n",
    "quantile_risk_multi_1 = underage_risk_1 / (underage_risk_1 + overage_risk_1)\n",
    "load_cost_structure(underage_input=underage_risk_15, overage_input=overage_risk_15, alpha_input=alpha_risk_15)\n",
    "max_profit_multi_risk_15 = nvps_profit(y_test, y_test)\n",
    "quantile_risk_multi_15 = underage_risk_15 / (underage_risk_15 + overage_risk_15)\n",
    "load_cost_structure(underage_input=underage_risk_2, overage_input=overage_risk_2, alpha_input=alpha_risk_2)\n",
    "max_profit_multi_risk_2 = nvps_profit(y_test, y_test)\n",
    "quantile_risk_multi_2 = underage_risk_2 / (underage_risk_2 + overage_risk_2)\n",
    "load_cost_structure(underage_input=underage_risk_25, overage_input=overage_risk_25, alpha_input=alpha_risk_25)\n",
    "max_profit_multi_risk_25 = nvps_profit(y_test, y_test)\n",
    "quantile_risk_multi_25 = underage_risk_25 / (underage_risk_25 + overage_risk_25)\n",
    "load_cost_structure(underage_input=underage_risk_3, overage_input=overage_risk_3, alpha_input=alpha_risk_3)\n",
    "max_profit_multi_risk_3 = nvps_profit(y_test, y_test)\n",
    "quantile_risk_multi_3 = underage_risk_3 / (underage_risk_3 + overage_risk_3)\n",
    "load_cost_structure(underage_input=underage_risk_35, overage_input=overage_risk_35, alpha_input=alpha_risk_35)\n",
    "max_profit_multi_risk_35 = nvps_profit(y_test, y_test)\n",
    "quantile_risk_multi_35 = underage_risk_35 / (underage_risk_35 + overage_risk_35)\n",
    "load_cost_structure(underage_input=underage_risk_4, overage_input=overage_risk_4, alpha_input=alpha_risk_4)\n",
    "max_profit_multi_risk_4 = nvps_profit(y_test, y_test)\n",
    "quantile_risk_multi_4 = underage_risk_4 / (underage_risk_4 + overage_risk_4)\n",
    "\n",
    "# Calculate the relative profit for each risk level\n",
    "df_risk_simple.loc[df_risk_simple['risk_level']==1, 'relative_profit'] = df_risk_simple['profit'] / max_profit_risk_1\n",
    "df_risk_simple.loc[df_risk_simple['risk_level']==1.5, 'relative_profit'] = df_risk_simple['profit'] / max_profit_risk_15\n",
    "df_risk_simple.loc[df_risk_simple['risk_level']==2, 'relative_profit'] = df_risk_simple['profit'] / max_profit_risk_2\n",
    "df_risk_simple.loc[df_risk_simple['risk_level']==2.5, 'relative_profit'] = df_risk_simple['profit'] / max_profit_risk_25\n",
    "df_risk_simple.loc[df_risk_simple['risk_level']==3, 'relative_profit'] = df_risk_simple['profit'] / max_profit_risk_3\n",
    "df_risk_simple.loc[df_risk_simple['risk_level']==3.5, 'relative_profit'] = df_risk_simple['profit'] / max_profit_risk_35\n",
    "df_risk_simple.loc[df_risk_simple['risk_level']==4, 'relative_profit'] = df_risk_simple['profit'] / max_profit_risk_4\n",
    "\n",
    "df_risk_complex.loc[df_risk_complex['risk_level']==1, 'relative_profit'] = df_risk_complex['profit'] / max_profit_multi_risk_1\n",
    "df_risk_complex.loc[df_risk_complex['risk_level']==1.5, 'relative_profit'] = df_risk_complex['profit'] / max_profit_multi_risk_15\n",
    "df_risk_complex.loc[df_risk_complex['risk_level']==2, 'relative_profit'] = df_risk_complex['profit'] / max_profit_multi_risk_2\n",
    "df_risk_complex.loc[df_risk_complex['risk_level']==2.5, 'relative_profit'] = df_risk_complex['profit'] / max_profit_multi_risk_25\n",
    "df_risk_complex.loc[df_risk_complex['risk_level']==3, 'relative_profit'] = df_risk_complex['profit'] / max_profit_multi_risk_3\n",
    "df_risk_complex.loc[df_risk_complex['risk_level']==3.5, 'relative_profit'] = df_risk_complex['profit'] / max_profit_multi_risk_35\n",
    "df_risk_complex.loc[df_risk_complex['risk_level']==4, 'relative_profit'] = df_risk_complex['profit'] / max_profit_multi_risk_4"
   ]
  },
  {
   "cell_type": "code",
   "execution_count": 1655,
   "metadata": {},
   "outputs": [
    {
     "name": "stdout",
     "output_type": "stream",
     "text": [
      "    ann_ioa  ann_soap  ann_soanp   xgb_ioa  xgb_soap  xgb_soanp  quantile\n",
      "0  0.913769  0.903814   0.906451  0.910251  0.887815   0.888861  0.827586\n",
      "1  0.864408  0.856148   0.855187  0.861136  0.802854   0.802078  0.724138\n",
      "2  0.817568  0.808865   0.797864  0.807688  0.786256   0.788583  0.620690\n",
      "3  0.768082  0.758185   0.737135  0.759655  0.709491   0.708695  0.517241\n",
      "4  0.713470  0.675966   0.664136  0.700499  0.676734   0.677159  0.413793\n",
      "5  0.598319  0.585802   0.573065  0.594909  0.588006   0.590310  0.310345\n",
      "6  0.532292  0.438961   0.434277  0.510993  0.374787   0.383401  0.206897\n"
     ]
    }
   ],
   "source": [
    "df_risk_simple_show = pd.DataFrame(0.0, index=range(7), columns=['ann_ioa', 'ann_soap', 'ann_soanp', 'xgb_ioa', 'xgb_soap', 'xgb_soanp'])\n",
    "\n",
    "for  i in range(7):\n",
    "    df_risk_simple_show.loc[i, 'ann_ioa'] = df_risk_simple[(df_risk_simple['risk_level']==1+i*0.5) & df_risk_simple['file_name'].str.contains('ANN_simple_IOA')]['relative_profit'].astype(float).mean()\n",
    "    df_risk_simple_show.loc[i, 'ann_soap'] = df_risk_simple[(df_risk_simple['risk_level']==1+i*0.5) & df_risk_simple['file_name'].str.contains('ANN_simple_SOAp')]['relative_profit'].astype(float).mean()\n",
    "    df_risk_simple_show.loc[i, 'ann_soanp'] = df_risk_simple[(df_risk_simple['risk_level']==1+i*0.5) & df_risk_simple['file_name'].str.contains('ANN_simple_SOAnp')]['relative_profit'].astype(float).mean()\n",
    "    df_risk_simple_show.loc[i, 'xgb_ioa'] = df_risk_simple[(df_risk_simple['risk_level']==1+i*0.5) & df_risk_simple['file_name'].str.contains('XGB_simple_IOA')]['relative_profit'].astype(float).mean()\n",
    "    df_risk_simple_show.loc[i, 'xgb_soap'] = df_risk_simple[(df_risk_simple['risk_level']==1+i*0.5) & df_risk_simple['file_name'].str.contains('XGB_simple_SOAp')]['relative_profit'].astype(float).mean()\n",
    "    df_risk_simple_show.loc[i, 'xgb_soanp'] = df_risk_simple[(df_risk_simple['risk_level']==1+i*0.5) & df_risk_simple['file_name'].str.contains('XGB_simple_SOAnp')]['relative_profit'].astype(float).mean()\n",
    "\n",
    "\n",
    "df_risk_simple_show['quantile'] = [quantile_risk_1, quantile_risk_15, quantile_risk_2, quantile_risk_25, quantile_risk_3, quantile_risk_35, quantile_risk_4]\n",
    "print(df_risk_simple_show)"
   ]
  },
  {
   "cell_type": "code",
   "execution_count": null,
   "metadata": {},
   "outputs": [],
   "source": [
    "df_risk_simple_small "
   ]
  },
  {
   "cell_type": "code",
   "execution_count": 1656,
   "metadata": {},
   "outputs": [
    {
     "name": "stdout",
     "output_type": "stream",
     "text": [
      "    ann_ioa  ann_soap  ann_soanp   xgb_ioa  xgb_soap  xgb_soanp  quantile\n",
      "0  0.992953  0.966285   0.966284  0.969654  0.942793   0.941935  0.889113\n",
      "1  0.974786  0.966258   0.967464  0.957256  0.927660   0.927206  0.822581\n",
      "2  0.975057  0.967154   0.968788  0.945007  0.920943   0.920907  0.756048\n",
      "3  0.968460  0.970718   0.970320  0.939168  0.947983   0.947830  0.689516\n",
      "4  0.874225  0.972425   0.972316  0.930774  0.945642   0.945420  0.622984\n",
      "5  0.973613  0.974823   0.974501  0.926123  0.954629   0.954777  0.556451\n",
      "6  0.970816  0.978651   0.977342  0.927565  0.937647   0.936755  0.489919\n"
     ]
    }
   ],
   "source": [
    "df_risk_complex_show = pd.DataFrame(0.0, index=range(7), columns=['ann_ioa', 'ann_soap', 'ann_soanp', 'xgb_ioa', 'xgb_soap', 'xgb_soanp'])\n",
    "\n",
    "for i in range(7):\n",
    "    df_risk_complex_show.loc[i, 'ann_ioa'] = df_risk_complex[(df_risk_complex['risk_level']==1+i*0.5)& df_risk_complex['file_name'].str.contains('ANN_complex_IOA')]['relative_profit'].astype(float).mean()\n",
    "    df_risk_complex_show.loc[i, 'ann_soap'] = df_risk_complex[(df_risk_complex['risk_level']==1+i*0.5)& df_risk_complex['file_name'].str.contains('ANN_complex_SOAp')]['relative_profit'].astype(float).mean()\n",
    "    df_risk_complex_show.loc[i, 'ann_soanp'] = df_risk_complex[(df_risk_complex['risk_level']==1+i*0.5)& df_risk_complex['file_name'].str.contains('ANN_complex_SOAnp')]['relative_profit'].astype(float).mean()\n",
    "    df_risk_complex_show.loc[i, 'xgb_ioa'] = df_risk_complex[(df_risk_complex['risk_level']==1+i*0.5)& df_risk_complex['file_name'].str.contains('XGB_complex_IOA')]['relative_profit'].astype(float).mean()\n",
    "    df_risk_complex_show.loc[i, 'xgb_soap'] = df_risk_complex[(df_risk_complex['risk_level']==1+i*0.5)& df_risk_complex['file_name'].str.contains('XGB_complex_SOAp')]['relative_profit'].astype(float).mean()\n",
    "    df_risk_complex_show.loc[i, 'xgb_soanp'] = df_risk_complex[(df_risk_complex['risk_level']==1+i*0.5)& df_risk_complex['file_name'].str.contains('XGB_complex_SOAnp')]['relative_profit'].astype(float).mean()\n",
    "\n",
    "df_risk_complex_show['quantile'] = [np.mean(quantile_risk_multi_1), np.mean(quantile_risk_multi_15), np.mean(quantile_risk_multi_2), np.mean(quantile_risk_multi_25), np.mean(quantile_risk_multi_3), np.mean(quantile_risk_multi_35), np.mean(quantile_risk_multi_4)]\n",
    "\n",
    "print(df_risk_complex_show)"
   ]
  }
 ],
 "metadata": {
  "kernelspec": {
   "display_name": "Python 3",
   "language": "python",
   "name": "python3"
  },
  "language_info": {
   "codemirror_mode": {
    "name": "ipython",
    "version": 3
   },
   "file_extension": ".py",
   "mimetype": "text/x-python",
   "name": "python",
   "nbconvert_exporter": "python",
   "pygments_lexer": "ipython3",
   "version": "3.11.7"
  }
 },
 "nbformat": 4,
 "nbformat_minor": 2
}
