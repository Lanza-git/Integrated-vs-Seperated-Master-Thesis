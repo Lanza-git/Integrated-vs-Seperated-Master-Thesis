{
 "cells": [
  {
   "cell_type": "code",
   "execution_count": null,
   "metadata": {},
   "outputs": [],
   "source": [
    "def profit_function(q, y, p, v, ch, cs):\n",
    "    \"\"\"\n",
    "    Example profit function.\n",
    "    \n",
    "    Parameters:\n",
    "    - q: Order quantity.\n",
    "    - y: Actual demand.\n",
    "    - p: Selling price per unit.\n",
    "    - v: Purchase cost per unit.\n",
    "    - ch: Holding cost per unit.\n",
    "    - cs: Shortage cost per unit.\n",
    "    \n",
    "    Returns:\n",
    "    - Profit for the given order quantity and demand.\n",
    "    \"\"\"\n",
    "    sales = min(q, y)\n",
    "    revenue = p * sales\n",
    "    cost = v * q\n",
    "    holding_cost = ch * max(q - y, 0)\n",
    "    shortage_cost = cs * max(y - q, 0)\n",
    "    \n",
    "    profit = revenue - cost - holding_cost - shortage_cost\n",
    "    return profit"
   ]
  },
  {
   "cell_type": "code",
   "execution_count": null,
   "metadata": {},
   "outputs": [],
   "source": [
    "from scipy.optimize import differential_evolution\n",
    "\n",
    "def optimize_order_quantity(X, y, p, v, ch, cs):\n",
    "    \"\"\"\n",
    "    Maximizes the expected profit by optimizing order quantities.\n",
    "    \n",
    "    Parameters:\n",
    "    - X: Feature matrix for demands.\n",
    "    - y: Actual demand vector.\n",
    "    - p, v, ch, cs: Parameters for the profit function.\n",
    "    \n",
    "    Returns:\n",
    "    - Optimal order quantities for each set of features in X.\n",
    "    \"\"\"\n",
    "    # Define the objective function to be minimized (negative profit)\n",
    "    def objective(q, x, y, p, v, ch, cs):\n",
    "        # Assuming q(x) is a linear function for simplicity: q = dot(beta, x)\n",
    "        return -profit_function(np.dot(q, x), y, p, v, ch, cs)\n",
    "    \n",
    "    # Initial guess (could be improved with domain knowledge)\n",
    "    beta_init = np.zeros(X.shape[1])\n",
    "    \n",
    "    # Optimization\n",
    "    result = differential_evolution(objective, bounds=[(0, np.inf) for _ in range(X.shape[1])], \n",
    "                                    args=(X, y, p, v, ch, cs))\n",
    "    \n",
    "    return result.x\n",
    "\n",
    "# Example usage\n",
    "# Assuming X, y are defined, and p, v, ch, cs are known\n",
    "optimized_beta = optimize_order_quantity(X, y, p=10, v=5, ch=1, cs=15)\n",
    "print(\"Optimized Beta:\", optimized_beta)"
   ]
  }
 ],
 "metadata": {
  "kernelspec": {
   "display_name": ".venv",
   "language": "python",
   "name": "python3"
  },
  "language_info": {
   "name": "python",
   "version": "3.11.7"
  }
 },
 "nbformat": 4,
 "nbformat_minor": 2
}
