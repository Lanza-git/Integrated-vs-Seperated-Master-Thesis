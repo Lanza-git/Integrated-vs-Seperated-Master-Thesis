{
 "cells": [
  {
   "cell_type": "code",
   "execution_count": 2,
   "metadata": {},
   "outputs": [],
   "source": [
    "import numpy as np\n",
    "import pandas as pd"
   ]
  },
  {
   "cell_type": "code",
   "execution_count": 3,
   "metadata": {},
   "outputs": [
    {
     "name": "stdout",
     "output_type": "stream",
     "text": [
      "        date  sales\n",
      "0 2012-12-31   2320\n",
      "1 2013-01-07   2348\n",
      "2 2013-01-14   2411\n",
      "3 2013-01-21   2331\n",
      "4 2013-01-28   2470\n"
     ]
    }
   ],
   "source": [
    "#Read Train Dataset and filter by item 2 and group by week\n",
    "df = pd.read_csv('train.csv')\n",
    "df = df[df['item'] == 2]\n",
    "df['date'] = pd.to_datetime(df['date']) - pd.to_timedelta(7, unit='d')\n",
    "df = df.filter(['date', 'sales',]).groupby([pd.Grouper(key='date', freq='W-MON')]).sum().reset_index()\n",
    "print(df.head())"
   ]
  },
  {
   "cell_type": "code",
   "execution_count": 4,
   "metadata": {},
   "outputs": [],
   "source": [
    "# Feature engineering\n",
    "df['year'] = df['date'].dt.year\n",
    "df['month'] = df['date'].dt.month\n",
    "df['day'] = df['date'].dt.day"
   ]
  },
  {
   "cell_type": "code",
   "execution_count": 5,
   "metadata": {},
   "outputs": [],
   "source": [
    "from sklearn.model_selection import train_test_split\n",
    "\n",
    "# Split the data into training and testing sets\n",
    "data= df[['year','month','day']]\n",
    "target = df['sales']\n",
    "data_train, data_test, target_train, target_test = train_test_split(data, target, test_size=0.2)"
   ]
  },
  {
   "cell_type": "code",
   "execution_count": 6,
   "metadata": {},
   "outputs": [],
   "source": [
    "data_train.to_csv('Data_Test_v1/data_train.csv', index=False)\n",
    "data_test.to_csv('Data_Test_v1/data_test.csv', index=False)\n",
    "target_train.to_csv('Data_Test_v1/target_train.csv', index=False)\n",
    "target_test.to_csv('Data_Test_v1/target_test.csv', index=False)\n"
   ]
  }
 ],
 "metadata": {
  "kernelspec": {
   "display_name": ".venv",
   "language": "python",
   "name": "python3"
  },
  "language_info": {
   "codemirror_mode": {
    "name": "ipython",
    "version": 3
   },
   "file_extension": ".py",
   "mimetype": "text/x-python",
   "name": "python",
   "nbconvert_exporter": "python",
   "pygments_lexer": "ipython3",
   "version": "3.11.7"
  }
 },
 "nbformat": 4,
 "nbformat_minor": 2
}
